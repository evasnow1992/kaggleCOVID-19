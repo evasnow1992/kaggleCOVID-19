{
 "cells": [
  {
   "cell_type": "code",
   "execution_count": 1,
   "metadata": {
    "_cell_guid": "b1076dfc-b9ad-4769-8c92-a6c4dae69d19",
    "_uuid": "8f2839f25d086af736a60e9eeb907d3b93b6e0e5"
   },
   "outputs": [],
   "source": [
    "import numpy as np\n",
    "import pandas as pd\n",
    "import os\n",
    "import collections\n",
    "import re\n",
    "import matplotlib.pyplot as plt\n",
    "import seaborn as sns\n",
    "from nltk.tokenize import word_tokenize, sent_tokenize\n",
    "from nltk.corpus import stopwords\n",
    "from nltk.stem import LancasterStemmer, PorterStemmer, SnowballStemmer, WordNetLemmatizer\n",
    "import time\n",
    "import string"
   ]
  },
  {
   "cell_type": "markdown",
   "metadata": {},
   "source": [
    "# 1. Read-in metadata"
   ]
  },
  {
   "cell_type": "code",
   "execution_count": 2,
   "metadata": {},
   "outputs": [
    {
     "name": "stdout",
     "output_type": "stream",
     "text": [
      "The number of literatures: 29500\n"
     ]
    },
    {
     "data": {
      "text/html": [
       "<div>\n",
       "<style scoped>\n",
       "    .dataframe tbody tr th:only-of-type {\n",
       "        vertical-align: middle;\n",
       "    }\n",
       "\n",
       "    .dataframe tbody tr th {\n",
       "        vertical-align: top;\n",
       "    }\n",
       "\n",
       "    .dataframe thead th {\n",
       "        text-align: right;\n",
       "    }\n",
       "</style>\n",
       "<table border=\"1\" class=\"dataframe\">\n",
       "  <thead>\n",
       "    <tr style=\"text-align: right;\">\n",
       "      <th></th>\n",
       "      <th>source_x</th>\n",
       "      <th>title</th>\n",
       "      <th>doi</th>\n",
       "      <th>pmcid</th>\n",
       "      <th>pubmed_id</th>\n",
       "      <th>license</th>\n",
       "      <th>abstract</th>\n",
       "      <th>publish_time</th>\n",
       "      <th>authors</th>\n",
       "      <th>journal</th>\n",
       "      <th>Microsoft Academic Paper ID</th>\n",
       "      <th>WHO #Covidence</th>\n",
       "      <th>has_full_text</th>\n",
       "    </tr>\n",
       "    <tr>\n",
       "      <th>sha</th>\n",
       "      <th></th>\n",
       "      <th></th>\n",
       "      <th></th>\n",
       "      <th></th>\n",
       "      <th></th>\n",
       "      <th></th>\n",
       "      <th></th>\n",
       "      <th></th>\n",
       "      <th></th>\n",
       "      <th></th>\n",
       "      <th></th>\n",
       "      <th></th>\n",
       "      <th></th>\n",
       "    </tr>\n",
       "  </thead>\n",
       "  <tbody>\n",
       "    <tr>\n",
       "      <th>c630ebcdf30652f0422c3ec12a00b50241dc9bd9</th>\n",
       "      <td>CZI</td>\n",
       "      <td>Angiotensin-converting enzyme 2 (ACE2) as a SA...</td>\n",
       "      <td>10.1007/s00134-020-05985-9</td>\n",
       "      <td>NaN</td>\n",
       "      <td>32125455.0</td>\n",
       "      <td>cc-by-nc</td>\n",
       "      <td>NaN</td>\n",
       "      <td>2020</td>\n",
       "      <td>Zhang, Haibo; Penninger, Josef M.; Li, Yimin; ...</td>\n",
       "      <td>Intensive Care Med</td>\n",
       "      <td>2.002765e+09</td>\n",
       "      <td>#3252</td>\n",
       "      <td>True</td>\n",
       "    </tr>\n",
       "    <tr>\n",
       "      <th>53eccda7977a31e3d0f565c884da036b1e85438e</th>\n",
       "      <td>CZI</td>\n",
       "      <td>Comparative genetic analysis of the novel coro...</td>\n",
       "      <td>10.1038/s41421-020-0147-1</td>\n",
       "      <td>NaN</td>\n",
       "      <td>NaN</td>\n",
       "      <td>cc-by</td>\n",
       "      <td>NaN</td>\n",
       "      <td>2020</td>\n",
       "      <td>Cao, Yanan; Li, Lin; Feng, Zhimin; Wan, Shengq...</td>\n",
       "      <td>Cell Discovery</td>\n",
       "      <td>3.003431e+09</td>\n",
       "      <td>#1861</td>\n",
       "      <td>True</td>\n",
       "    </tr>\n",
       "    <tr>\n",
       "      <th>210a892deb1c61577f6fba58505fd65356ce6636</th>\n",
       "      <td>CZI</td>\n",
       "      <td>Incubation Period and Other Epidemiological Ch...</td>\n",
       "      <td>10.3390/jcm9020538</td>\n",
       "      <td>NaN</td>\n",
       "      <td>NaN</td>\n",
       "      <td>cc-by</td>\n",
       "      <td>The geographic spread of 2019 novel coronaviru...</td>\n",
       "      <td>2020</td>\n",
       "      <td>Linton, M. Natalie; Kobayashi, Tetsuro; Yang, ...</td>\n",
       "      <td>Journal of Clinical Medicine</td>\n",
       "      <td>3.006065e+09</td>\n",
       "      <td>#1043</td>\n",
       "      <td>True</td>\n",
       "    </tr>\n",
       "    <tr>\n",
       "      <th>e3b40cc8e0e137c416b4a2273a4dca94ae8178cc</th>\n",
       "      <td>CZI</td>\n",
       "      <td>Characteristics of and Public Health Responses...</td>\n",
       "      <td>10.3390/jcm9020575</td>\n",
       "      <td>NaN</td>\n",
       "      <td>32093211.0</td>\n",
       "      <td>cc-by</td>\n",
       "      <td>In December 2019, cases of unidentified pneumo...</td>\n",
       "      <td>2020</td>\n",
       "      <td>Deng, Sheng-Qun; Peng, Hong-Juan</td>\n",
       "      <td>J Clin Med</td>\n",
       "      <td>1.776631e+08</td>\n",
       "      <td>#1999</td>\n",
       "      <td>True</td>\n",
       "    </tr>\n",
       "    <tr>\n",
       "      <th>92c2c9839304b4f2bc1276d41b1aa885d8b364fd</th>\n",
       "      <td>CZI</td>\n",
       "      <td>Imaging changes in severe COVID-19 pneumonia</td>\n",
       "      <td>10.1007/s00134-020-05976-w</td>\n",
       "      <td>NaN</td>\n",
       "      <td>32125453.0</td>\n",
       "      <td>cc-by-nc</td>\n",
       "      <td>NaN</td>\n",
       "      <td>2020</td>\n",
       "      <td>Zhang, Wei</td>\n",
       "      <td>Intensive Care Med</td>\n",
       "      <td>3.006643e+09</td>\n",
       "      <td>#3242</td>\n",
       "      <td>False</td>\n",
       "    </tr>\n",
       "  </tbody>\n",
       "</table>\n",
       "</div>"
      ],
      "text/plain": [
       "                                         source_x  \\\n",
       "sha                                                 \n",
       "c630ebcdf30652f0422c3ec12a00b50241dc9bd9      CZI   \n",
       "53eccda7977a31e3d0f565c884da036b1e85438e      CZI   \n",
       "210a892deb1c61577f6fba58505fd65356ce6636      CZI   \n",
       "e3b40cc8e0e137c416b4a2273a4dca94ae8178cc      CZI   \n",
       "92c2c9839304b4f2bc1276d41b1aa885d8b364fd      CZI   \n",
       "\n",
       "                                                                                      title  \\\n",
       "sha                                                                                           \n",
       "c630ebcdf30652f0422c3ec12a00b50241dc9bd9  Angiotensin-converting enzyme 2 (ACE2) as a SA...   \n",
       "53eccda7977a31e3d0f565c884da036b1e85438e  Comparative genetic analysis of the novel coro...   \n",
       "210a892deb1c61577f6fba58505fd65356ce6636  Incubation Period and Other Epidemiological Ch...   \n",
       "e3b40cc8e0e137c416b4a2273a4dca94ae8178cc  Characteristics of and Public Health Responses...   \n",
       "92c2c9839304b4f2bc1276d41b1aa885d8b364fd       Imaging changes in severe COVID-19 pneumonia   \n",
       "\n",
       "                                                                 doi pmcid  \\\n",
       "sha                                                                          \n",
       "c630ebcdf30652f0422c3ec12a00b50241dc9bd9  10.1007/s00134-020-05985-9   NaN   \n",
       "53eccda7977a31e3d0f565c884da036b1e85438e   10.1038/s41421-020-0147-1   NaN   \n",
       "210a892deb1c61577f6fba58505fd65356ce6636          10.3390/jcm9020538   NaN   \n",
       "e3b40cc8e0e137c416b4a2273a4dca94ae8178cc          10.3390/jcm9020575   NaN   \n",
       "92c2c9839304b4f2bc1276d41b1aa885d8b364fd  10.1007/s00134-020-05976-w   NaN   \n",
       "\n",
       "                                           pubmed_id   license  \\\n",
       "sha                                                              \n",
       "c630ebcdf30652f0422c3ec12a00b50241dc9bd9  32125455.0  cc-by-nc   \n",
       "53eccda7977a31e3d0f565c884da036b1e85438e         NaN     cc-by   \n",
       "210a892deb1c61577f6fba58505fd65356ce6636         NaN     cc-by   \n",
       "e3b40cc8e0e137c416b4a2273a4dca94ae8178cc  32093211.0     cc-by   \n",
       "92c2c9839304b4f2bc1276d41b1aa885d8b364fd  32125453.0  cc-by-nc   \n",
       "\n",
       "                                                                                   abstract  \\\n",
       "sha                                                                                           \n",
       "c630ebcdf30652f0422c3ec12a00b50241dc9bd9                                                NaN   \n",
       "53eccda7977a31e3d0f565c884da036b1e85438e                                                NaN   \n",
       "210a892deb1c61577f6fba58505fd65356ce6636  The geographic spread of 2019 novel coronaviru...   \n",
       "e3b40cc8e0e137c416b4a2273a4dca94ae8178cc  In December 2019, cases of unidentified pneumo...   \n",
       "92c2c9839304b4f2bc1276d41b1aa885d8b364fd                                                NaN   \n",
       "\n",
       "                                         publish_time  \\\n",
       "sha                                                     \n",
       "c630ebcdf30652f0422c3ec12a00b50241dc9bd9         2020   \n",
       "53eccda7977a31e3d0f565c884da036b1e85438e         2020   \n",
       "210a892deb1c61577f6fba58505fd65356ce6636         2020   \n",
       "e3b40cc8e0e137c416b4a2273a4dca94ae8178cc         2020   \n",
       "92c2c9839304b4f2bc1276d41b1aa885d8b364fd         2020   \n",
       "\n",
       "                                                                                    authors  \\\n",
       "sha                                                                                           \n",
       "c630ebcdf30652f0422c3ec12a00b50241dc9bd9  Zhang, Haibo; Penninger, Josef M.; Li, Yimin; ...   \n",
       "53eccda7977a31e3d0f565c884da036b1e85438e  Cao, Yanan; Li, Lin; Feng, Zhimin; Wan, Shengq...   \n",
       "210a892deb1c61577f6fba58505fd65356ce6636  Linton, M. Natalie; Kobayashi, Tetsuro; Yang, ...   \n",
       "e3b40cc8e0e137c416b4a2273a4dca94ae8178cc                   Deng, Sheng-Qun; Peng, Hong-Juan   \n",
       "92c2c9839304b4f2bc1276d41b1aa885d8b364fd                                         Zhang, Wei   \n",
       "\n",
       "                                                               journal  \\\n",
       "sha                                                                      \n",
       "c630ebcdf30652f0422c3ec12a00b50241dc9bd9            Intensive Care Med   \n",
       "53eccda7977a31e3d0f565c884da036b1e85438e                Cell Discovery   \n",
       "210a892deb1c61577f6fba58505fd65356ce6636  Journal of Clinical Medicine   \n",
       "e3b40cc8e0e137c416b4a2273a4dca94ae8178cc                    J Clin Med   \n",
       "92c2c9839304b4f2bc1276d41b1aa885d8b364fd            Intensive Care Med   \n",
       "\n",
       "                                          Microsoft Academic Paper ID  \\\n",
       "sha                                                                     \n",
       "c630ebcdf30652f0422c3ec12a00b50241dc9bd9                 2.002765e+09   \n",
       "53eccda7977a31e3d0f565c884da036b1e85438e                 3.003431e+09   \n",
       "210a892deb1c61577f6fba58505fd65356ce6636                 3.006065e+09   \n",
       "e3b40cc8e0e137c416b4a2273a4dca94ae8178cc                 1.776631e+08   \n",
       "92c2c9839304b4f2bc1276d41b1aa885d8b364fd                 3.006643e+09   \n",
       "\n",
       "                                         WHO #Covidence has_full_text  \n",
       "sha                                                                    \n",
       "c630ebcdf30652f0422c3ec12a00b50241dc9bd9          #3252          True  \n",
       "53eccda7977a31e3d0f565c884da036b1e85438e          #1861          True  \n",
       "210a892deb1c61577f6fba58505fd65356ce6636          #1043          True  \n",
       "e3b40cc8e0e137c416b4a2273a4dca94ae8178cc          #1999          True  \n",
       "92c2c9839304b4f2bc1276d41b1aa885d8b364fd          #3242         False  "
      ]
     },
     "execution_count": 2,
     "metadata": {},
     "output_type": "execute_result"
    }
   ],
   "source": [
    "#metaDataPath = \"/kaggle/input/CORD-19-research-challenge/2020-03-13/all_sources_metadata_2020-03-13.csv\"\n",
    "metaDataPath = \"~/Downloads/2020-03-13/all_sources_metadata_2020-03-13.csv\"\n",
    "metaData = pd.read_csv(metaDataPath, header = 0, index_col = 0)\n",
    "print(\"The number of literatures: \" + str(metaData.shape[0]))\n",
    "metaData.head()"
   ]
  },
  {
   "cell_type": "markdown",
   "metadata": {},
   "source": [
    "# 2. Nan elements counts in all columns"
   ]
  },
  {
   "cell_type": "code",
   "execution_count": 3,
   "metadata": {},
   "outputs": [
    {
     "data": {
      "text/plain": [
       "source_x                           0\n",
       "title                            370\n",
       "doi                             3143\n",
       "pmcid                           2163\n",
       "pubmed_id                      12770\n",
       "license                        11808\n",
       "abstract                        2947\n",
       "publish_time                   11252\n",
       "authors                          946\n",
       "journal                        11709\n",
       "Microsoft Academic Paper ID    28366\n",
       "WHO #Covidence                 28264\n",
       "has_full_text                  12080\n",
       "dtype: int64"
      ]
     },
     "execution_count": 3,
     "metadata": {},
     "output_type": "execute_result"
    }
   ],
   "source": [
    "metaData.isnull().sum()"
   ]
  },
  {
   "cell_type": "markdown",
   "metadata": {},
   "source": [
    "# 3. Literature source distribution"
   ]
  },
  {
   "cell_type": "code",
   "execution_count": 4,
   "metadata": {},
   "outputs": [],
   "source": [
    "sourceDic = collections.defaultdict(int)\n",
    "for s in metaData[\"source_x\"][metaData[\"source_x\"].notnull()]:\n",
    "    sourceDic[s] += 1\n",
    "sizes = []\n",
    "explode = []\n",
    "labels = []\n",
    "for s in sourceDic:\n",
    "    sizes.append(sourceDic[s])\n",
    "    explode.append(0)\n",
    "    labels.append(s)"
   ]
  },
  {
   "cell_type": "code",
   "execution_count": 5,
   "metadata": {},
   "outputs": [
    {
     "data": {
      "image/png": "[encoded data removed]",
      "text/plain": [
       "<Figure size 432x288 with 1 Axes>"
      ]
     },
     "metadata": {},
     "output_type": "display_data"
    }
   ],
   "source": [
    "colors = ['gold', 'lightskyblue', 'yellowgreen', 'lightcoral']\n",
    "plt.pie(sizes, explode=explode, labels=labels, colors = colors, autopct='%1.1f%%', shadow=True, startangle=140)\n",
    "plt.axis('equal')\n",
    "plt.show()"
   ]
  },
  {
   "cell_type": "markdown",
   "metadata": {},
   "source": [
    "# 4. Publish year distribution"
   ]
  },
  {
   "cell_type": "code",
   "execution_count": 6,
   "metadata": {},
   "outputs": [],
   "source": [
    "yearList = []\n",
    "for y in metaData[\"publish_time\"][metaData[\"publish_time\"].notnull()]:\n",
    "    yearList.append(int(re.split(' |-', y)[0]))"
   ]
  },
  {
   "cell_type": "code",
   "execution_count": 7,
   "metadata": {},
   "outputs": [
    {
     "data": {
      "text/plain": [
       "Text(0, 0.5, 'Frequency')"
      ]
     },
     "execution_count": 7,
     "metadata": {},
     "output_type": "execute_result"
    },
    {
     "data": {
      "image/png": "[encoded data removed]",
      "text/plain": [
       "<Figure size 432x288 with 1 Axes>"
      ]
     },
     "metadata": {
      "needs_background": "light"
     },
     "output_type": "display_data"
    }
   ],
   "source": [
    "sns.distplot(yearList, bins = 50)\n",
    "plt.xlabel(\"Year\")\n",
    "plt.ylabel(\"Frequency\")"
   ]
  },
  {
   "cell_type": "markdown",
   "metadata": {},
   "source": [
    "# 5. Has full text distribution"
   ]
  },
  {
   "cell_type": "code",
   "execution_count": 8,
   "metadata": {},
   "outputs": [
    {
     "name": "stdout",
     "output_type": "stream",
     "text": [
      "The number of literatures with full text: 13219\n",
      "The number of literatures without full text: 16281\n"
     ]
    }
   ],
   "source": [
    "hasFullText = metaData[\"has_full_text\"][metaData[\"has_full_text\"].notnull()]\n",
    "nanCount = metaData.shape[0] - hasFullText.shape[0]\n",
    "trueCount = sum(hasFullText)\n",
    "falseCount = hasFullText.shape[0] - trueCount\n",
    "print(\"The number of literatures with full text: \" + str(trueCount))\n",
    "print(\"The number of literatures without full text: \" + str(falseCount + nanCount))"
   ]
  },
  {
   "cell_type": "markdown",
   "metadata": {},
   "source": [
    "# 6. Abstract distribution"
   ]
  },
  {
   "cell_type": "code",
   "execution_count": 9,
   "metadata": {},
   "outputs": [
    {
     "name": "stdout",
     "output_type": "stream",
     "text": [
      "The number of literatures with abstract: 26553\n"
     ]
    }
   ],
   "source": [
    "print(\"The number of literatures with abstract: \" + str(sum(metaData[\"abstract\"].notnull())))"
   ]
  },
  {
   "cell_type": "code",
   "execution_count": null,
   "metadata": {},
   "outputs": [],
   "source": [
    "startTime = time.time()\n",
    "absLength = []\n",
    "word2count = {}\n",
    "for abstract in metaData[\"abstract\"][metaData[\"abstract\"].notnull()]:\n",
    "    ## Remove web links\n",
    "    abstract = re.sub('https?://\\S+|www\\.\\S+', '', abstract) \n",
    "\n",
    "    ## Lowercase\n",
    "    abstract = abstract.lower()\n",
    "    \n",
    "    ## Remove punctuation\n",
    "    abstract = re.sub('<.*?>+', ' ', abstract)\n",
    "    abstract = re.sub('[%s]' % re.escape(string.punctuation), ' ', abstract)\n",
    "    \n",
    "    ## Remove number\n",
    "    abstract = re.sub(r'\\d+', '', abstract)\n",
    "    \n",
    "    ## Tokenize\n",
    "    words = word_tokenize(abstract)\n",
    "    \n",
    "    ## Remove stop words\n",
    "    nltk_stop_words = stopwords.words('english')\n",
    "    words = [word for word in words if word not in nltk_stop_words]\n",
    "    \n",
    "    ## Stem\n",
    "    stemmer = SnowballStemmer('english')\n",
    "    words = [stemmer.stem(word) for word in words]\n",
    "    \n",
    "    ## Lematize verbs\n",
    "    lemmatizer = WordNetLemmatizer()\n",
    "    words = [lemmatizer.lemmatize(word, pos='v') for word in words]\n",
    "    \n",
    "    ## Record length\n",
    "    absLength.append(len(words))\n",
    "    \n",
    "    ## Get word count\n",
    "    for word in words:\n",
    "        count = word2count.get(word, 0)\n",
    "        word2count[word] = count + 1\n",
    "print(\"Time spent: \" + str(round((time.time() - startTime) / 60, 3)) + \"min.\")\n",
    "print(\"The number of tokens: \" + str(len(word2count)))"
   ]
  },
  {
   "cell_type": "markdown",
   "metadata": {},
   "source": [
    "There are 20 extremely long abstracts. Excluding them from the following histogram."
   ]
  },
  {
   "cell_type": "code",
   "execution_count": null,
   "metadata": {},
   "outputs": [],
   "source": [
    "sns.distplot(sorted(absLength)[:-20], bins = 50) # There are 20 extremely long abstracts\n",
    "plt.xlabel(\"Abstract token count\")\n",
    "plt.ylabel(\"Frequency\")\n",
    "plt.show()"
   ]
  },
  {
   "cell_type": "markdown",
   "metadata": {},
   "source": [
    "Top 50 mostly frequent tokens"
   ]
  },
  {
   "cell_type": "code",
   "execution_count": null,
   "metadata": {},
   "outputs": [],
   "source": [
    "df_word_count = pd.DataFrame(sorted(word2count.items(), key=lambda x: x[1])[::-1])\n",
    "sns.set(rc={'figure.figsize':(12,10)})\n",
    "sns.barplot(y = df_word_count[0].values[:50], x = df_word_count[1].values[:50], color='red')"
   ]
  },
  {
   "cell_type": "code",
   "execution_count": null,
   "metadata": {},
   "outputs": [],
   "source": []
  }
 ],
 "metadata": {
  "kernelspec": {
   "display_name": "Python 3",
   "language": "python",
   "name": "python3"
  },
  "language_info": {
   "codemirror_mode": {
    "name": "ipython",
    "version": 3
   },
   "file_extension": ".py",
   "mimetype": "text/x-python",
   "name": "python",
   "nbconvert_exporter": "python",
   "pygments_lexer": "ipython3",
   "version": "3.5.2"
  }
 },
 "nbformat": 4,
 "nbformat_minor": 4
}
