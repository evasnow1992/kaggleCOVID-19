{
 "cells": [
  {
   "cell_type": "code",
   "execution_count": 56,
   "metadata": {},
   "outputs": [],
   "source": [
    "import numpy as np\n",
    "import pandas as pd\n",
    "import os\n",
    "import collections\n",
    "import re\n",
    "import matplotlib.pyplot as plt\n",
    "import seaborn as sns\n",
    "from nltk.tokenize import word_tokenize, sent_tokenize\n",
    "from nltk.corpus import stopwords\n",
    "from nltk.stem import LancasterStemmer, PorterStemmer, SnowballStemmer, WordNetLemmatizer\n",
    "import time\n",
    "import string\n",
    "from sklearn.feature_extraction.text import TfidfVectorizer\n",
    "from sklearn.preprocessing import normalize\n",
    "from scipy.spatial.distance import cdist\n",
    "import pickle"
   ]
  },
  {
   "cell_type": "markdown",
   "metadata": {},
   "source": [
    "# Preprocess metadata"
   ]
  },
  {
   "cell_type": "code",
   "execution_count": 52,
   "metadata": {},
   "outputs": [
    {
     "name": "stdout",
     "output_type": "stream",
     "text": [
      "The number of literatures: 29500\n"
     ]
    },
    {
     "data": {
      "text/html": [
       "<div>\n",
       "<style scoped>\n",
       "    .dataframe tbody tr th:only-of-type {\n",
       "        vertical-align: middle;\n",
       "    }\n",
       "\n",
       "    .dataframe tbody tr th {\n",
       "        vertical-align: top;\n",
       "    }\n",
       "\n",
       "    .dataframe thead th {\n",
       "        text-align: right;\n",
       "    }\n",
       "</style>\n",
       "<table border=\"1\" class=\"dataframe\">\n",
       "  <thead>\n",
       "    <tr style=\"text-align: right;\">\n",
       "      <th></th>\n",
       "      <th>source_x</th>\n",
       "      <th>title</th>\n",
       "      <th>doi</th>\n",
       "      <th>pmcid</th>\n",
       "      <th>pubmed_id</th>\n",
       "      <th>license</th>\n",
       "      <th>abstract</th>\n",
       "      <th>publish_time</th>\n",
       "      <th>authors</th>\n",
       "      <th>journal</th>\n",
       "      <th>Microsoft Academic Paper ID</th>\n",
       "      <th>WHO #Covidence</th>\n",
       "      <th>has_full_text</th>\n",
       "    </tr>\n",
       "    <tr>\n",
       "      <th>sha</th>\n",
       "      <th></th>\n",
       "      <th></th>\n",
       "      <th></th>\n",
       "      <th></th>\n",
       "      <th></th>\n",
       "      <th></th>\n",
       "      <th></th>\n",
       "      <th></th>\n",
       "      <th></th>\n",
       "      <th></th>\n",
       "      <th></th>\n",
       "      <th></th>\n",
       "      <th></th>\n",
       "    </tr>\n",
       "  </thead>\n",
       "  <tbody>\n",
       "    <tr>\n",
       "      <th>c630ebcdf30652f0422c3ec12a00b50241dc9bd9</th>\n",
       "      <td>CZI</td>\n",
       "      <td>Angiotensin-converting enzyme 2 (ACE2) as a SA...</td>\n",
       "      <td>10.1007/s00134-020-05985-9</td>\n",
       "      <td>NaN</td>\n",
       "      <td>32125455.0</td>\n",
       "      <td>cc-by-nc</td>\n",
       "      <td>NaN</td>\n",
       "      <td>2020</td>\n",
       "      <td>Zhang, Haibo; Penninger, Josef M.; Li, Yimin; ...</td>\n",
       "      <td>Intensive Care Med</td>\n",
       "      <td>2.002765e+09</td>\n",
       "      <td>#3252</td>\n",
       "      <td>True</td>\n",
       "    </tr>\n",
       "    <tr>\n",
       "      <th>53eccda7977a31e3d0f565c884da036b1e85438e</th>\n",
       "      <td>CZI</td>\n",
       "      <td>Comparative genetic analysis of the novel coro...</td>\n",
       "      <td>10.1038/s41421-020-0147-1</td>\n",
       "      <td>NaN</td>\n",
       "      <td>NaN</td>\n",
       "      <td>cc-by</td>\n",
       "      <td>NaN</td>\n",
       "      <td>2020</td>\n",
       "      <td>Cao, Yanan; Li, Lin; Feng, Zhimin; Wan, Shengq...</td>\n",
       "      <td>Cell Discovery</td>\n",
       "      <td>3.003431e+09</td>\n",
       "      <td>#1861</td>\n",
       "      <td>True</td>\n",
       "    </tr>\n",
       "    <tr>\n",
       "      <th>210a892deb1c61577f6fba58505fd65356ce6636</th>\n",
       "      <td>CZI</td>\n",
       "      <td>Incubation Period and Other Epidemiological Ch...</td>\n",
       "      <td>10.3390/jcm9020538</td>\n",
       "      <td>NaN</td>\n",
       "      <td>NaN</td>\n",
       "      <td>cc-by</td>\n",
       "      <td>The geographic spread of 2019 novel coronaviru...</td>\n",
       "      <td>2020</td>\n",
       "      <td>Linton, M. Natalie; Kobayashi, Tetsuro; Yang, ...</td>\n",
       "      <td>Journal of Clinical Medicine</td>\n",
       "      <td>3.006065e+09</td>\n",
       "      <td>#1043</td>\n",
       "      <td>True</td>\n",
       "    </tr>\n",
       "    <tr>\n",
       "      <th>e3b40cc8e0e137c416b4a2273a4dca94ae8178cc</th>\n",
       "      <td>CZI</td>\n",
       "      <td>Characteristics of and Public Health Responses...</td>\n",
       "      <td>10.3390/jcm9020575</td>\n",
       "      <td>NaN</td>\n",
       "      <td>32093211.0</td>\n",
       "      <td>cc-by</td>\n",
       "      <td>In December 2019, cases of unidentified pneumo...</td>\n",
       "      <td>2020</td>\n",
       "      <td>Deng, Sheng-Qun; Peng, Hong-Juan</td>\n",
       "      <td>J Clin Med</td>\n",
       "      <td>1.776631e+08</td>\n",
       "      <td>#1999</td>\n",
       "      <td>True</td>\n",
       "    </tr>\n",
       "    <tr>\n",
       "      <th>92c2c9839304b4f2bc1276d41b1aa885d8b364fd</th>\n",
       "      <td>CZI</td>\n",
       "      <td>Imaging changes in severe COVID-19 pneumonia</td>\n",
       "      <td>10.1007/s00134-020-05976-w</td>\n",
       "      <td>NaN</td>\n",
       "      <td>32125453.0</td>\n",
       "      <td>cc-by-nc</td>\n",
       "      <td>NaN</td>\n",
       "      <td>2020</td>\n",
       "      <td>Zhang, Wei</td>\n",
       "      <td>Intensive Care Med</td>\n",
       "      <td>3.006643e+09</td>\n",
       "      <td>#3242</td>\n",
       "      <td>False</td>\n",
       "    </tr>\n",
       "  </tbody>\n",
       "</table>\n",
       "</div>"
      ],
      "text/plain": [
       "                                         source_x  \\\n",
       "sha                                                 \n",
       "c630ebcdf30652f0422c3ec12a00b50241dc9bd9      CZI   \n",
       "53eccda7977a31e3d0f565c884da036b1e85438e      CZI   \n",
       "210a892deb1c61577f6fba58505fd65356ce6636      CZI   \n",
       "e3b40cc8e0e137c416b4a2273a4dca94ae8178cc      CZI   \n",
       "92c2c9839304b4f2bc1276d41b1aa885d8b364fd      CZI   \n",
       "\n",
       "                                                                                      title  \\\n",
       "sha                                                                                           \n",
       "c630ebcdf30652f0422c3ec12a00b50241dc9bd9  Angiotensin-converting enzyme 2 (ACE2) as a SA...   \n",
       "53eccda7977a31e3d0f565c884da036b1e85438e  Comparative genetic analysis of the novel coro...   \n",
       "210a892deb1c61577f6fba58505fd65356ce6636  Incubation Period and Other Epidemiological Ch...   \n",
       "e3b40cc8e0e137c416b4a2273a4dca94ae8178cc  Characteristics of and Public Health Responses...   \n",
       "92c2c9839304b4f2bc1276d41b1aa885d8b364fd       Imaging changes in severe COVID-19 pneumonia   \n",
       "\n",
       "                                                                 doi pmcid  \\\n",
       "sha                                                                          \n",
       "c630ebcdf30652f0422c3ec12a00b50241dc9bd9  10.1007/s00134-020-05985-9   NaN   \n",
       "53eccda7977a31e3d0f565c884da036b1e85438e   10.1038/s41421-020-0147-1   NaN   \n",
       "210a892deb1c61577f6fba58505fd65356ce6636          10.3390/jcm9020538   NaN   \n",
       "e3b40cc8e0e137c416b4a2273a4dca94ae8178cc          10.3390/jcm9020575   NaN   \n",
       "92c2c9839304b4f2bc1276d41b1aa885d8b364fd  10.1007/s00134-020-05976-w   NaN   \n",
       "\n",
       "                                           pubmed_id   license  \\\n",
       "sha                                                              \n",
       "c630ebcdf30652f0422c3ec12a00b50241dc9bd9  32125455.0  cc-by-nc   \n",
       "53eccda7977a31e3d0f565c884da036b1e85438e         NaN     cc-by   \n",
       "210a892deb1c61577f6fba58505fd65356ce6636         NaN     cc-by   \n",
       "e3b40cc8e0e137c416b4a2273a4dca94ae8178cc  32093211.0     cc-by   \n",
       "92c2c9839304b4f2bc1276d41b1aa885d8b364fd  32125453.0  cc-by-nc   \n",
       "\n",
       "                                                                                   abstract  \\\n",
       "sha                                                                                           \n",
       "c630ebcdf30652f0422c3ec12a00b50241dc9bd9                                                NaN   \n",
       "53eccda7977a31e3d0f565c884da036b1e85438e                                                NaN   \n",
       "210a892deb1c61577f6fba58505fd65356ce6636  The geographic spread of 2019 novel coronaviru...   \n",
       "e3b40cc8e0e137c416b4a2273a4dca94ae8178cc  In December 2019, cases of unidentified pneumo...   \n",
       "92c2c9839304b4f2bc1276d41b1aa885d8b364fd                                                NaN   \n",
       "\n",
       "                                         publish_time  \\\n",
       "sha                                                     \n",
       "c630ebcdf30652f0422c3ec12a00b50241dc9bd9         2020   \n",
       "53eccda7977a31e3d0f565c884da036b1e85438e         2020   \n",
       "210a892deb1c61577f6fba58505fd65356ce6636         2020   \n",
       "e3b40cc8e0e137c416b4a2273a4dca94ae8178cc         2020   \n",
       "92c2c9839304b4f2bc1276d41b1aa885d8b364fd         2020   \n",
       "\n",
       "                                                                                    authors  \\\n",
       "sha                                                                                           \n",
       "c630ebcdf30652f0422c3ec12a00b50241dc9bd9  Zhang, Haibo; Penninger, Josef M.; Li, Yimin; ...   \n",
       "53eccda7977a31e3d0f565c884da036b1e85438e  Cao, Yanan; Li, Lin; Feng, Zhimin; Wan, Shengq...   \n",
       "210a892deb1c61577f6fba58505fd65356ce6636  Linton, M. Natalie; Kobayashi, Tetsuro; Yang, ...   \n",
       "e3b40cc8e0e137c416b4a2273a4dca94ae8178cc                   Deng, Sheng-Qun; Peng, Hong-Juan   \n",
       "92c2c9839304b4f2bc1276d41b1aa885d8b364fd                                         Zhang, Wei   \n",
       "\n",
       "                                                               journal  \\\n",
       "sha                                                                      \n",
       "c630ebcdf30652f0422c3ec12a00b50241dc9bd9            Intensive Care Med   \n",
       "53eccda7977a31e3d0f565c884da036b1e85438e                Cell Discovery   \n",
       "210a892deb1c61577f6fba58505fd65356ce6636  Journal of Clinical Medicine   \n",
       "e3b40cc8e0e137c416b4a2273a4dca94ae8178cc                    J Clin Med   \n",
       "92c2c9839304b4f2bc1276d41b1aa885d8b364fd            Intensive Care Med   \n",
       "\n",
       "                                          Microsoft Academic Paper ID  \\\n",
       "sha                                                                     \n",
       "c630ebcdf30652f0422c3ec12a00b50241dc9bd9                 2.002765e+09   \n",
       "53eccda7977a31e3d0f565c884da036b1e85438e                 3.003431e+09   \n",
       "210a892deb1c61577f6fba58505fd65356ce6636                 3.006065e+09   \n",
       "e3b40cc8e0e137c416b4a2273a4dca94ae8178cc                 1.776631e+08   \n",
       "92c2c9839304b4f2bc1276d41b1aa885d8b364fd                 3.006643e+09   \n",
       "\n",
       "                                         WHO #Covidence has_full_text  \n",
       "sha                                                                    \n",
       "c630ebcdf30652f0422c3ec12a00b50241dc9bd9          #3252          True  \n",
       "53eccda7977a31e3d0f565c884da036b1e85438e          #1861          True  \n",
       "210a892deb1c61577f6fba58505fd65356ce6636          #1043          True  \n",
       "e3b40cc8e0e137c416b4a2273a4dca94ae8178cc          #1999          True  \n",
       "92c2c9839304b4f2bc1276d41b1aa885d8b364fd          #3242         False  "
      ]
     },
     "execution_count": 52,
     "metadata": {},
     "output_type": "execute_result"
    }
   ],
   "source": [
    "#metaDataPath = \"/kaggle/input/CORD-19-research-challenge/2020-03-13/all_sources_metadata_2020-03-13.csv\"\n",
    "metaDataPath = \"~/Downloads/2020-03-13/all_sources_metadata_2020-03-13.csv\"\n",
    "metaData = pd.read_csv(metaDataPath, header = 0, index_col = 0)\n",
    "print(\"The number of literatures: \" + str(metaData.shape[0]))\n",
    "metaData.head()"
   ]
  },
  {
   "cell_type": "code",
   "execution_count": 12,
   "metadata": {},
   "outputs": [],
   "source": [
    "def clean(abstract):\n",
    "    if abstract == np.nan:\n",
    "        return abstract\n",
    "    ## Remove web links\n",
    "    abstract = re.sub('https?://\\S+|www\\.\\S+', '', abstract) \n",
    "\n",
    "    ## Lowercase\n",
    "    abstract = abstract.lower()\n",
    "    \n",
    "    ## Remove punctuation\n",
    "    abstract = re.sub('<.*?>+', ' ', abstract)\n",
    "    abstract = re.sub('[%s]' % re.escape(string.punctuation), ' ', abstract)\n",
    "    \n",
    "    ## Remove number\n",
    "    abstract = re.sub(r'\\d+', '', abstract)\n",
    "    \n",
    "    ## Tokenize\n",
    "    words = word_tokenize(abstract)\n",
    "    \n",
    "    ## Remove stop words\n",
    "    nltk_stop_words = stopwords.words('english')\n",
    "    words = [word for word in words if word not in nltk_stop_words]\n",
    "    \n",
    "    ## Stem\n",
    "    stemmer = SnowballStemmer('english')\n",
    "    words = [stemmer.stem(word) for word in words]\n",
    "    \n",
    "    ## Lematize verbs\n",
    "    lemmatizer = WordNetLemmatizer()\n",
    "    words = [lemmatizer.lemmatize(word, pos='v') for word in words]\n",
    "    \n",
    "    return \" \".join(words)"
   ]
  },
  {
   "cell_type": "code",
   "execution_count": 54,
   "metadata": {},
   "outputs": [
    {
     "name": "stdout",
     "output_type": "stream",
     "text": [
      "Time spent: 1.978min.\n"
     ]
    }
   ],
   "source": [
    "startTime = time.time()\n",
    "metaData[\"clean_abstract\"] = float(\"NaN\")\n",
    "metaData.loc[metaData[\"abstract\"].notnull(), \"clean_abstract\"] = metaData[\"abstract\"][metaData[\"abstract\"].notnull()].apply(lambda x: clean(x))\n",
    "print(\"Time spent: \" + str(round((time.time() - startTime) / 60, 3)) + \"min.\")"
   ]
  },
  {
   "cell_type": "code",
   "execution_count": 56,
   "metadata": {},
   "outputs": [],
   "source": [
    "metaData.to_csv(\"~/Downloads/2020-03-13/all_sources_metadata_2020-03-13_clean.csv\")"
   ]
  },
  {
   "cell_type": "markdown",
   "metadata": {},
   "source": [
    "# tf-idf vectorize"
   ]
  },
  {
   "cell_type": "code",
   "execution_count": 2,
   "metadata": {},
   "outputs": [
    {
     "data": {
      "text/html": [
       "<div>\n",
       "<style scoped>\n",
       "    .dataframe tbody tr th:only-of-type {\n",
       "        vertical-align: middle;\n",
       "    }\n",
       "\n",
       "    .dataframe tbody tr th {\n",
       "        vertical-align: top;\n",
       "    }\n",
       "\n",
       "    .dataframe thead th {\n",
       "        text-align: right;\n",
       "    }\n",
       "</style>\n",
       "<table border=\"1\" class=\"dataframe\">\n",
       "  <thead>\n",
       "    <tr style=\"text-align: right;\">\n",
       "      <th></th>\n",
       "      <th>source_x</th>\n",
       "      <th>title</th>\n",
       "      <th>doi</th>\n",
       "      <th>pmcid</th>\n",
       "      <th>pubmed_id</th>\n",
       "      <th>license</th>\n",
       "      <th>abstract</th>\n",
       "      <th>publish_time</th>\n",
       "      <th>authors</th>\n",
       "      <th>journal</th>\n",
       "      <th>Microsoft Academic Paper ID</th>\n",
       "      <th>WHO #Covidence</th>\n",
       "      <th>has_full_text</th>\n",
       "      <th>clean_abstract</th>\n",
       "    </tr>\n",
       "    <tr>\n",
       "      <th>sha</th>\n",
       "      <th></th>\n",
       "      <th></th>\n",
       "      <th></th>\n",
       "      <th></th>\n",
       "      <th></th>\n",
       "      <th></th>\n",
       "      <th></th>\n",
       "      <th></th>\n",
       "      <th></th>\n",
       "      <th></th>\n",
       "      <th></th>\n",
       "      <th></th>\n",
       "      <th></th>\n",
       "      <th></th>\n",
       "    </tr>\n",
       "  </thead>\n",
       "  <tbody>\n",
       "    <tr>\n",
       "      <th>c630ebcdf30652f0422c3ec12a00b50241dc9bd9</th>\n",
       "      <td>CZI</td>\n",
       "      <td>Angiotensin-converting enzyme 2 (ACE2) as a SA...</td>\n",
       "      <td>10.1007/s00134-020-05985-9</td>\n",
       "      <td>NaN</td>\n",
       "      <td>32125455.0</td>\n",
       "      <td>cc-by-nc</td>\n",
       "      <td>NaN</td>\n",
       "      <td>2020</td>\n",
       "      <td>Zhang, Haibo; Penninger, Josef M.; Li, Yimin; ...</td>\n",
       "      <td>Intensive Care Med</td>\n",
       "      <td>2.002765e+09</td>\n",
       "      <td>#3252</td>\n",
       "      <td>True</td>\n",
       "      <td>NaN</td>\n",
       "    </tr>\n",
       "    <tr>\n",
       "      <th>53eccda7977a31e3d0f565c884da036b1e85438e</th>\n",
       "      <td>CZI</td>\n",
       "      <td>Comparative genetic analysis of the novel coro...</td>\n",
       "      <td>10.1038/s41421-020-0147-1</td>\n",
       "      <td>NaN</td>\n",
       "      <td>NaN</td>\n",
       "      <td>cc-by</td>\n",
       "      <td>NaN</td>\n",
       "      <td>2020</td>\n",
       "      <td>Cao, Yanan; Li, Lin; Feng, Zhimin; Wan, Shengq...</td>\n",
       "      <td>Cell Discovery</td>\n",
       "      <td>3.003431e+09</td>\n",
       "      <td>#1861</td>\n",
       "      <td>True</td>\n",
       "      <td>NaN</td>\n",
       "    </tr>\n",
       "    <tr>\n",
       "      <th>210a892deb1c61577f6fba58505fd65356ce6636</th>\n",
       "      <td>CZI</td>\n",
       "      <td>Incubation Period and Other Epidemiological Ch...</td>\n",
       "      <td>10.3390/jcm9020538</td>\n",
       "      <td>NaN</td>\n",
       "      <td>NaN</td>\n",
       "      <td>cc-by</td>\n",
       "      <td>The geographic spread of 2019 novel coronaviru...</td>\n",
       "      <td>2020</td>\n",
       "      <td>Linton, M. Natalie; Kobayashi, Tetsuro; Yang, ...</td>\n",
       "      <td>Journal of Clinical Medicine</td>\n",
       "      <td>3.006065e+09</td>\n",
       "      <td>#1043</td>\n",
       "      <td>True</td>\n",
       "      <td>geograph spread novel coronavirus covid infect...</td>\n",
       "    </tr>\n",
       "    <tr>\n",
       "      <th>e3b40cc8e0e137c416b4a2273a4dca94ae8178cc</th>\n",
       "      <td>CZI</td>\n",
       "      <td>Characteristics of and Public Health Responses...</td>\n",
       "      <td>10.3390/jcm9020575</td>\n",
       "      <td>NaN</td>\n",
       "      <td>32093211.0</td>\n",
       "      <td>cc-by</td>\n",
       "      <td>In December 2019, cases of unidentified pneumo...</td>\n",
       "      <td>2020</td>\n",
       "      <td>Deng, Sheng-Qun; Peng, Hong-Juan</td>\n",
       "      <td>J Clin Med</td>\n",
       "      <td>1.776631e+08</td>\n",
       "      <td>#1999</td>\n",
       "      <td>True</td>\n",
       "      <td>decemb case unidentifi pneumonia histori expos...</td>\n",
       "    </tr>\n",
       "    <tr>\n",
       "      <th>92c2c9839304b4f2bc1276d41b1aa885d8b364fd</th>\n",
       "      <td>CZI</td>\n",
       "      <td>Imaging changes in severe COVID-19 pneumonia</td>\n",
       "      <td>10.1007/s00134-020-05976-w</td>\n",
       "      <td>NaN</td>\n",
       "      <td>32125453.0</td>\n",
       "      <td>cc-by-nc</td>\n",
       "      <td>NaN</td>\n",
       "      <td>2020</td>\n",
       "      <td>Zhang, Wei</td>\n",
       "      <td>Intensive Care Med</td>\n",
       "      <td>3.006643e+09</td>\n",
       "      <td>#3242</td>\n",
       "      <td>False</td>\n",
       "      <td>NaN</td>\n",
       "    </tr>\n",
       "  </tbody>\n",
       "</table>\n",
       "</div>"
      ],
      "text/plain": [
       "                                         source_x  \\\n",
       "sha                                                 \n",
       "c630ebcdf30652f0422c3ec12a00b50241dc9bd9      CZI   \n",
       "53eccda7977a31e3d0f565c884da036b1e85438e      CZI   \n",
       "210a892deb1c61577f6fba58505fd65356ce6636      CZI   \n",
       "e3b40cc8e0e137c416b4a2273a4dca94ae8178cc      CZI   \n",
       "92c2c9839304b4f2bc1276d41b1aa885d8b364fd      CZI   \n",
       "\n",
       "                                                                                      title  \\\n",
       "sha                                                                                           \n",
       "c630ebcdf30652f0422c3ec12a00b50241dc9bd9  Angiotensin-converting enzyme 2 (ACE2) as a SA...   \n",
       "53eccda7977a31e3d0f565c884da036b1e85438e  Comparative genetic analysis of the novel coro...   \n",
       "210a892deb1c61577f6fba58505fd65356ce6636  Incubation Period and Other Epidemiological Ch...   \n",
       "e3b40cc8e0e137c416b4a2273a4dca94ae8178cc  Characteristics of and Public Health Responses...   \n",
       "92c2c9839304b4f2bc1276d41b1aa885d8b364fd       Imaging changes in severe COVID-19 pneumonia   \n",
       "\n",
       "                                                                 doi pmcid  \\\n",
       "sha                                                                          \n",
       "c630ebcdf30652f0422c3ec12a00b50241dc9bd9  10.1007/s00134-020-05985-9   NaN   \n",
       "53eccda7977a31e3d0f565c884da036b1e85438e   10.1038/s41421-020-0147-1   NaN   \n",
       "210a892deb1c61577f6fba58505fd65356ce6636          10.3390/jcm9020538   NaN   \n",
       "e3b40cc8e0e137c416b4a2273a4dca94ae8178cc          10.3390/jcm9020575   NaN   \n",
       "92c2c9839304b4f2bc1276d41b1aa885d8b364fd  10.1007/s00134-020-05976-w   NaN   \n",
       "\n",
       "                                           pubmed_id   license  \\\n",
       "sha                                                              \n",
       "c630ebcdf30652f0422c3ec12a00b50241dc9bd9  32125455.0  cc-by-nc   \n",
       "53eccda7977a31e3d0f565c884da036b1e85438e         NaN     cc-by   \n",
       "210a892deb1c61577f6fba58505fd65356ce6636         NaN     cc-by   \n",
       "e3b40cc8e0e137c416b4a2273a4dca94ae8178cc  32093211.0     cc-by   \n",
       "92c2c9839304b4f2bc1276d41b1aa885d8b364fd  32125453.0  cc-by-nc   \n",
       "\n",
       "                                                                                   abstract  \\\n",
       "sha                                                                                           \n",
       "c630ebcdf30652f0422c3ec12a00b50241dc9bd9                                                NaN   \n",
       "53eccda7977a31e3d0f565c884da036b1e85438e                                                NaN   \n",
       "210a892deb1c61577f6fba58505fd65356ce6636  The geographic spread of 2019 novel coronaviru...   \n",
       "e3b40cc8e0e137c416b4a2273a4dca94ae8178cc  In December 2019, cases of unidentified pneumo...   \n",
       "92c2c9839304b4f2bc1276d41b1aa885d8b364fd                                                NaN   \n",
       "\n",
       "                                         publish_time  \\\n",
       "sha                                                     \n",
       "c630ebcdf30652f0422c3ec12a00b50241dc9bd9         2020   \n",
       "53eccda7977a31e3d0f565c884da036b1e85438e         2020   \n",
       "210a892deb1c61577f6fba58505fd65356ce6636         2020   \n",
       "e3b40cc8e0e137c416b4a2273a4dca94ae8178cc         2020   \n",
       "92c2c9839304b4f2bc1276d41b1aa885d8b364fd         2020   \n",
       "\n",
       "                                                                                    authors  \\\n",
       "sha                                                                                           \n",
       "c630ebcdf30652f0422c3ec12a00b50241dc9bd9  Zhang, Haibo; Penninger, Josef M.; Li, Yimin; ...   \n",
       "53eccda7977a31e3d0f565c884da036b1e85438e  Cao, Yanan; Li, Lin; Feng, Zhimin; Wan, Shengq...   \n",
       "210a892deb1c61577f6fba58505fd65356ce6636  Linton, M. Natalie; Kobayashi, Tetsuro; Yang, ...   \n",
       "e3b40cc8e0e137c416b4a2273a4dca94ae8178cc                   Deng, Sheng-Qun; Peng, Hong-Juan   \n",
       "92c2c9839304b4f2bc1276d41b1aa885d8b364fd                                         Zhang, Wei   \n",
       "\n",
       "                                                               journal  \\\n",
       "sha                                                                      \n",
       "c630ebcdf30652f0422c3ec12a00b50241dc9bd9            Intensive Care Med   \n",
       "53eccda7977a31e3d0f565c884da036b1e85438e                Cell Discovery   \n",
       "210a892deb1c61577f6fba58505fd65356ce6636  Journal of Clinical Medicine   \n",
       "e3b40cc8e0e137c416b4a2273a4dca94ae8178cc                    J Clin Med   \n",
       "92c2c9839304b4f2bc1276d41b1aa885d8b364fd            Intensive Care Med   \n",
       "\n",
       "                                          Microsoft Academic Paper ID  \\\n",
       "sha                                                                     \n",
       "c630ebcdf30652f0422c3ec12a00b50241dc9bd9                 2.002765e+09   \n",
       "53eccda7977a31e3d0f565c884da036b1e85438e                 3.003431e+09   \n",
       "210a892deb1c61577f6fba58505fd65356ce6636                 3.006065e+09   \n",
       "e3b40cc8e0e137c416b4a2273a4dca94ae8178cc                 1.776631e+08   \n",
       "92c2c9839304b4f2bc1276d41b1aa885d8b364fd                 3.006643e+09   \n",
       "\n",
       "                                         WHO #Covidence has_full_text  \\\n",
       "sha                                                                     \n",
       "c630ebcdf30652f0422c3ec12a00b50241dc9bd9          #3252          True   \n",
       "53eccda7977a31e3d0f565c884da036b1e85438e          #1861          True   \n",
       "210a892deb1c61577f6fba58505fd65356ce6636          #1043          True   \n",
       "e3b40cc8e0e137c416b4a2273a4dca94ae8178cc          #1999          True   \n",
       "92c2c9839304b4f2bc1276d41b1aa885d8b364fd          #3242         False   \n",
       "\n",
       "                                                                             clean_abstract  \n",
       "sha                                                                                          \n",
       "c630ebcdf30652f0422c3ec12a00b50241dc9bd9                                                NaN  \n",
       "53eccda7977a31e3d0f565c884da036b1e85438e                                                NaN  \n",
       "210a892deb1c61577f6fba58505fd65356ce6636  geograph spread novel coronavirus covid infect...  \n",
       "e3b40cc8e0e137c416b4a2273a4dca94ae8178cc  decemb case unidentifi pneumonia histori expos...  \n",
       "92c2c9839304b4f2bc1276d41b1aa885d8b364fd                                                NaN  "
      ]
     },
     "execution_count": 2,
     "metadata": {},
     "output_type": "execute_result"
    }
   ],
   "source": [
    "metaDataPath = \"~/Downloads/2020-03-13/all_sources_metadata_2020-03-13_clean.csv\"\n",
    "metaData = pd.read_csv(metaDataPath, header = 0, index_col = 0)\n",
    "metaData.head()"
   ]
  },
  {
   "cell_type": "code",
   "execution_count": 24,
   "metadata": {},
   "outputs": [
    {
     "name": "stdout",
     "output_type": "stream",
     "text": [
      "Time spent: 17.922593116760254s.\n"
     ]
    }
   ],
   "source": [
    "startTime = time.time()\n",
    "vectorizer = TfidfVectorizer(tokenizer = word_tokenize)\n",
    "vectorizer.fit(metaData[\"clean_abstract\"][metaData[\"clean_abstract\"].notnull()])\n",
    "print('Time spent: ' + str(time.time() - startTime) + 's.')"
   ]
  },
  {
   "cell_type": "code",
   "execution_count": 25,
   "metadata": {},
   "outputs": [],
   "source": [
    "vectPath = \"../../../Downloads/2020-03-13/tf-idf_vectorizer.pkl\"\n",
    "with open(vectPath, \"wb\") as vectFile:\n",
    "    pickle.dump(vectorizer, vectFile)"
   ]
  },
  {
   "cell_type": "markdown",
   "metadata": {},
   "source": [
    "# Retrieve literatures for each task"
   ]
  },
  {
   "cell_type": "code",
   "execution_count": 72,
   "metadata": {},
   "outputs": [],
   "source": [
    "vectPath = \"../../../Downloads/2020-03-13/tf-idf_vectorizer.pkl\"\n",
    "with open(vectPath, 'rb') as vectFile:\n",
    "    vectorizer = pickle.load(vectFile)"
   ]
  },
  {
   "cell_type": "code",
   "execution_count": 73,
   "metadata": {},
   "outputs": [],
   "source": [
    "docTermMatrix = vectorizer.transform(metaData[\"clean_abstract\"][metaData[\"clean_abstract\"].notnull()]).toarray()"
   ]
  },
  {
   "cell_type": "code",
   "execution_count": 74,
   "metadata": {},
   "outputs": [],
   "source": [
    "query = \"transmission incubation and environmental stability?\"\n",
    "queryTermMatrix = vectorizer.transform([clean(query)]).toarray()"
   ]
  },
  {
   "cell_type": "code",
   "execution_count": 75,
   "metadata": {},
   "outputs": [],
   "source": [
    "tmp = []\n",
    "for i in range(queryTermMatrix.shape[0]):\n",
    "    for j in range(docTermMatrix.shape[0]):\n",
    "        a = queryTermMatrix[i]\n",
    "        b = docTermMatrix[j]\n",
    "        tmp.append(np.dot(a, b)/(np.linalg.norm(a)*np.linalg.norm(b)))"
   ]
  },
  {
   "cell_type": "code",
   "execution_count": 76,
   "metadata": {},
   "outputs": [
    {
     "data": {
      "text/plain": [
       "array([  780, 18358,   129])"
      ]
     },
     "execution_count": 76,
     "metadata": {},
     "output_type": "execute_result"
    }
   ],
   "source": [
    "np.array(tmp).argsort()[-3:][::-1]"
   ]
  },
  {
   "cell_type": "code",
   "execution_count": 41,
   "metadata": {},
   "outputs": [],
   "source": [
    "queryDocDist = cdist(queryTermMatrix, docTermMatrix, metric = 'cosine')"
   ]
  },
  {
   "cell_type": "code",
   "execution_count": 45,
   "metadata": {},
   "outputs": [
    {
     "name": "stdout",
     "output_type": "stream",
     "text": [
      "[26551  9922  9912]\n"
     ]
    }
   ],
   "source": [
    "for i in range(queryDocDist.shape[0]):\n",
    "    print(queryDocDist[i].argsort()[-3:][::-1])"
   ]
  },
  {
   "cell_type": "code",
   "execution_count": 78,
   "metadata": {},
   "outputs": [
    {
     "data": {
      "text/plain": [
       "'Coronaviruses have been implicated in nosocomial outbreaks with environmental contamination as a route of transmission. Similarly, nosocomial transmission of severe acute respiratory syndrome coronavirus 2 (SARS-CoV-2) has been reported. However, the mode of transmission and extent of environmental contamination are unknown.'"
      ]
     },
     "execution_count": 78,
     "metadata": {},
     "output_type": "execute_result"
    }
   ],
   "source": [
    "metaData[\"abstract\"][metaData[\"abstract\"].notnull()][129]"
   ]
  },
  {
   "cell_type": "code",
   "execution_count": 48,
   "metadata": {},
   "outputs": [
    {
     "data": {
      "text/plain": [
       "(29500, 14)"
      ]
     },
     "execution_count": 48,
     "metadata": {},
     "output_type": "execute_result"
    }
   ],
   "source": [
    "metaData.shape"
   ]
  },
  {
   "cell_type": "code",
   "execution_count": null,
   "metadata": {},
   "outputs": [],
   "source": []
  }
 ],
 "metadata": {
  "kernelspec": {
   "display_name": "Python 3",
   "language": "python",
   "name": "python3"
  },
  "language_info": {
   "codemirror_mode": {
    "name": "ipython",
    "version": 3
   },
   "file_extension": ".py",
   "mimetype": "text/x-python",
   "name": "python",
   "nbconvert_exporter": "python",
   "pygments_lexer": "ipython3",
   "version": "3.5.2"
  }
 },
 "nbformat": 4,
 "nbformat_minor": 2
}
