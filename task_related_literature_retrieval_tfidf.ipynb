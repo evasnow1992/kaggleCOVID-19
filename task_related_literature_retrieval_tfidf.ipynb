{
 "cells": [
  {
   "cell_type": "markdown",
   "metadata": {},
   "source": [
    "# Task-related articles and sentences retrieval based on two-level of tf-idf with result summary for each task.\n",
    "#### Goal\n",
    "Given a large number of literature and queries of interest, retrieve the most relevant information to the queries from the literature. \n",
    "#### Approach\n",
    "Since there is no ground-truth answer to each task, we model each task as an information retrieval problem and adopt the tf-idf features to quantize the similarity between queries of each task and articles. Specifically, we implement a two-level tf-idf information retrieval system. On the first level, the most relevant articles are retrieved for each task. On the second level, the most relevant sentences are retrieved from the articles retrieved on the first level. The articles/sentences are ranked based on cosine similarity between tf-idf feature vectors of articles/sentences and the target query. The same approach is applicable to all 10 tasks in this challenge. Once all the articles are vectorized and indexed, they can be reloaded to quickly respond to different queries of different tasks without re-training.\n",
    "#### Afterwards analyses\n",
    "At the end of this notebook, we also provide a mixed short-cut for the articles and sentences we retrieved for each of the 10 tasks. This summary of results may not represent a professional or comprehensive analysis of all available COVID-19 studies so far, but may still serve as a reference that we hope may help inspire further examinations. We are submitting the same notebook to all tasks since many tasks are highly correlated and the reviewers of one task may also be interested to see the results of other tasks."
   ]
  },
  {
   "cell_type": "code",
   "execution_count": 1,
   "metadata": {},
   "outputs": [],
   "source": [
    "import numpy as np\n",
    "import pandas as pd\n",
    "import os\n",
    "from os import listdir\n",
    "from os.path import isfile, join\n",
    "import collections\n",
    "import re\n",
    "import matplotlib.pyplot as plt\n",
    "import seaborn as sns\n",
    "from nltk.tokenize import word_tokenize, sent_tokenize\n",
    "from nltk.corpus import stopwords\n",
    "from nltk.stem import LancasterStemmer, PorterStemmer, SnowballStemmer, WordNetLemmatizer\n",
    "import time\n",
    "import string\n",
    "from sklearn.feature_extraction.text import TfidfVectorizer\n",
    "from scipy.spatial.distance import cdist\n",
    "import pickle\n",
    "import json"
   ]
  },
  {
   "cell_type": "markdown",
   "metadata": {},
   "source": [
    "# I. Metadata basic statistics\n",
    "We first examine the metadata to gain a deeper understanding of the dataset. We pay more attention to the abstracts as an abstract is usually a high-level summary of the discovery of a study, thus it is information-enriched. In addition, while less than half of the articles have a full-text available, most articles have an abstract provided."
   ]
  },
  {
   "cell_type": "markdown",
   "metadata": {},
   "source": [
    "## 1. Read-in metadata"
   ]
  },
  {
   "cell_type": "code",
   "execution_count": 3,
   "metadata": {},
   "outputs": [
    {
     "name": "stdout",
     "output_type": "stream",
     "text": [
      "The number of articles: 29500\n"
     ]
    },
    {
     "data": {
      "text/html": [
       "<div>\n",
       "<style scoped>\n",
       "    .dataframe tbody tr th:only-of-type {\n",
       "        vertical-align: middle;\n",
       "    }\n",
       "\n",
       "    .dataframe tbody tr th {\n",
       "        vertical-align: top;\n",
       "    }\n",
       "\n",
       "    .dataframe thead th {\n",
       "        text-align: right;\n",
       "    }\n",
       "</style>\n",
       "<table border=\"1\" class=\"dataframe\">\n",
       "  <thead>\n",
       "    <tr style=\"text-align: right;\">\n",
       "      <th></th>\n",
       "      <th>sha</th>\n",
       "      <th>source_x</th>\n",
       "      <th>title</th>\n",
       "      <th>doi</th>\n",
       "      <th>pmcid</th>\n",
       "      <th>pubmed_id</th>\n",
       "      <th>license</th>\n",
       "      <th>abstract</th>\n",
       "      <th>publish_time</th>\n",
       "      <th>authors</th>\n",
       "      <th>journal</th>\n",
       "      <th>Microsoft Academic Paper ID</th>\n",
       "      <th>WHO #Covidence</th>\n",
       "      <th>has_full_text</th>\n",
       "    </tr>\n",
       "  </thead>\n",
       "  <tbody>\n",
       "    <tr>\n",
       "      <th>0</th>\n",
       "      <td>c630ebcdf30652f0422c3ec12a00b50241dc9bd9</td>\n",
       "      <td>CZI</td>\n",
       "      <td>Angiotensin-converting enzyme 2 (ACE2) as a SA...</td>\n",
       "      <td>10.1007/s00134-020-05985-9</td>\n",
       "      <td>NaN</td>\n",
       "      <td>32125455.0</td>\n",
       "      <td>cc-by-nc</td>\n",
       "      <td>NaN</td>\n",
       "      <td>2020</td>\n",
       "      <td>Zhang, Haibo; Penninger, Josef M.; Li, Yimin; ...</td>\n",
       "      <td>Intensive Care Med</td>\n",
       "      <td>2.002765e+09</td>\n",
       "      <td>#3252</td>\n",
       "      <td>True</td>\n",
       "    </tr>\n",
       "    <tr>\n",
       "      <th>1</th>\n",
       "      <td>53eccda7977a31e3d0f565c884da036b1e85438e</td>\n",
       "      <td>CZI</td>\n",
       "      <td>Comparative genetic analysis of the novel coro...</td>\n",
       "      <td>10.1038/s41421-020-0147-1</td>\n",
       "      <td>NaN</td>\n",
       "      <td>NaN</td>\n",
       "      <td>cc-by</td>\n",
       "      <td>NaN</td>\n",
       "      <td>2020</td>\n",
       "      <td>Cao, Yanan; Li, Lin; Feng, Zhimin; Wan, Shengq...</td>\n",
       "      <td>Cell Discovery</td>\n",
       "      <td>3.003431e+09</td>\n",
       "      <td>#1861</td>\n",
       "      <td>True</td>\n",
       "    </tr>\n",
       "    <tr>\n",
       "      <th>2</th>\n",
       "      <td>210a892deb1c61577f6fba58505fd65356ce6636</td>\n",
       "      <td>CZI</td>\n",
       "      <td>Incubation Period and Other Epidemiological Ch...</td>\n",
       "      <td>10.3390/jcm9020538</td>\n",
       "      <td>NaN</td>\n",
       "      <td>NaN</td>\n",
       "      <td>cc-by</td>\n",
       "      <td>The geographic spread of 2019 novel coronaviru...</td>\n",
       "      <td>2020</td>\n",
       "      <td>Linton, M. Natalie; Kobayashi, Tetsuro; Yang, ...</td>\n",
       "      <td>Journal of Clinical Medicine</td>\n",
       "      <td>3.006065e+09</td>\n",
       "      <td>#1043</td>\n",
       "      <td>True</td>\n",
       "    </tr>\n",
       "    <tr>\n",
       "      <th>3</th>\n",
       "      <td>e3b40cc8e0e137c416b4a2273a4dca94ae8178cc</td>\n",
       "      <td>CZI</td>\n",
       "      <td>Characteristics of and Public Health Responses...</td>\n",
       "      <td>10.3390/jcm9020575</td>\n",
       "      <td>NaN</td>\n",
       "      <td>32093211.0</td>\n",
       "      <td>cc-by</td>\n",
       "      <td>In December 2019, cases of unidentified pneumo...</td>\n",
       "      <td>2020</td>\n",
       "      <td>Deng, Sheng-Qun; Peng, Hong-Juan</td>\n",
       "      <td>J Clin Med</td>\n",
       "      <td>1.776631e+08</td>\n",
       "      <td>#1999</td>\n",
       "      <td>True</td>\n",
       "    </tr>\n",
       "    <tr>\n",
       "      <th>4</th>\n",
       "      <td>92c2c9839304b4f2bc1276d41b1aa885d8b364fd</td>\n",
       "      <td>CZI</td>\n",
       "      <td>Imaging changes in severe COVID-19 pneumonia</td>\n",
       "      <td>10.1007/s00134-020-05976-w</td>\n",
       "      <td>NaN</td>\n",
       "      <td>32125453.0</td>\n",
       "      <td>cc-by-nc</td>\n",
       "      <td>NaN</td>\n",
       "      <td>2020</td>\n",
       "      <td>Zhang, Wei</td>\n",
       "      <td>Intensive Care Med</td>\n",
       "      <td>3.006643e+09</td>\n",
       "      <td>#3242</td>\n",
       "      <td>False</td>\n",
       "    </tr>\n",
       "  </tbody>\n",
       "</table>\n",
       "</div>"
      ],
      "text/plain": [
       "                                        sha source_x  \\\n",
       "0  c630ebcdf30652f0422c3ec12a00b50241dc9bd9      CZI   \n",
       "1  53eccda7977a31e3d0f565c884da036b1e85438e      CZI   \n",
       "2  210a892deb1c61577f6fba58505fd65356ce6636      CZI   \n",
       "3  e3b40cc8e0e137c416b4a2273a4dca94ae8178cc      CZI   \n",
       "4  92c2c9839304b4f2bc1276d41b1aa885d8b364fd      CZI   \n",
       "\n",
       "                                               title  \\\n",
       "0  Angiotensin-converting enzyme 2 (ACE2) as a SA...   \n",
       "1  Comparative genetic analysis of the novel coro...   \n",
       "2  Incubation Period and Other Epidemiological Ch...   \n",
       "3  Characteristics of and Public Health Responses...   \n",
       "4       Imaging changes in severe COVID-19 pneumonia   \n",
       "\n",
       "                          doi pmcid   pubmed_id   license  \\\n",
       "0  10.1007/s00134-020-05985-9   NaN  32125455.0  cc-by-nc   \n",
       "1   10.1038/s41421-020-0147-1   NaN         NaN     cc-by   \n",
       "2          10.3390/jcm9020538   NaN         NaN     cc-by   \n",
       "3          10.3390/jcm9020575   NaN  32093211.0     cc-by   \n",
       "4  10.1007/s00134-020-05976-w   NaN  32125453.0  cc-by-nc   \n",
       "\n",
       "                                            abstract publish_time  \\\n",
       "0                                                NaN         2020   \n",
       "1                                                NaN         2020   \n",
       "2  The geographic spread of 2019 novel coronaviru...         2020   \n",
       "3  In December 2019, cases of unidentified pneumo...         2020   \n",
       "4                                                NaN         2020   \n",
       "\n",
       "                                             authors  \\\n",
       "0  Zhang, Haibo; Penninger, Josef M.; Li, Yimin; ...   \n",
       "1  Cao, Yanan; Li, Lin; Feng, Zhimin; Wan, Shengq...   \n",
       "2  Linton, M. Natalie; Kobayashi, Tetsuro; Yang, ...   \n",
       "3                   Deng, Sheng-Qun; Peng, Hong-Juan   \n",
       "4                                         Zhang, Wei   \n",
       "\n",
       "                        journal  Microsoft Academic Paper ID WHO #Covidence  \\\n",
       "0            Intensive Care Med                 2.002765e+09          #3252   \n",
       "1                Cell Discovery                 3.003431e+09          #1861   \n",
       "2  Journal of Clinical Medicine                 3.006065e+09          #1043   \n",
       "3                    J Clin Med                 1.776631e+08          #1999   \n",
       "4            Intensive Care Med                 3.006643e+09          #3242   \n",
       "\n",
       "  has_full_text  \n",
       "0          True  \n",
       "1          True  \n",
       "2          True  \n",
       "3          True  \n",
       "4         False  "
      ]
     },
     "execution_count": 3,
     "metadata": {},
     "output_type": "execute_result"
    }
   ],
   "source": [
    "#metaDataPath = \"/kaggle/input/CORD-19-research-challenge/2020-03-13/all_sources_metadata_2020-03-13.csv\"\n",
    "metaDataPath = \"~/Downloads/2020-03-13/all_sources_metadata_2020-03-13.csv\"\n",
    "metaData = pd.read_csv(metaDataPath, header = 0)\n",
    "print(\"The number of articles: \" + str(metaData.shape[0]))\n",
    "metaData.head()"
   ]
  },
  {
   "cell_type": "markdown",
   "metadata": {},
   "source": [
    "## 2. Nan elements counts in all columns"
   ]
  },
  {
   "cell_type": "code",
   "execution_count": 4,
   "metadata": {},
   "outputs": [
    {
     "data": {
      "text/plain": [
       "sha                            12080\n",
       "source_x                           0\n",
       "title                            370\n",
       "doi                             3143\n",
       "pmcid                           2163\n",
       "pubmed_id                      12770\n",
       "license                        11808\n",
       "abstract                        2947\n",
       "publish_time                   11252\n",
       "authors                          946\n",
       "journal                        11709\n",
       "Microsoft Academic Paper ID    28366\n",
       "WHO #Covidence                 28264\n",
       "has_full_text                  12080\n",
       "dtype: int64"
      ]
     },
     "execution_count": 4,
     "metadata": {},
     "output_type": "execute_result"
    }
   ],
   "source": [
    "metaData.isnull().sum()"
   ]
  },
  {
   "cell_type": "markdown",
   "metadata": {},
   "source": [
    "## 3. Literature source distribution"
   ]
  },
  {
   "cell_type": "code",
   "execution_count": 5,
   "metadata": {},
   "outputs": [],
   "source": [
    "sourceDic = collections.defaultdict(int)\n",
    "for s in metaData[\"source_x\"][metaData[\"source_x\"].notnull()]:\n",
    "    sourceDic[s] += 1\n",
    "sizes = []\n",
    "explode = []\n",
    "labels = []\n",
    "for s in sourceDic:\n",
    "    sizes.append(sourceDic[s])\n",
    "    explode.append(0)\n",
    "    labels.append(s)"
   ]
  },
  {
   "cell_type": "code",
   "execution_count": 6,
   "metadata": {},
   "outputs": [
    {
     "data": {
      "image/png": "[encoded data removed]",
      "text/plain": [
       "<Figure size 432x288 with 1 Axes>"
      ]
     },
     "metadata": {},
     "output_type": "display_data"
    }
   ],
   "source": [
    "colors = ['gold', 'lightskyblue', 'yellowgreen', 'lightcoral']\n",
    "plt.pie(sizes, explode=explode, labels=labels, colors = colors, autopct='%1.1f%%', shadow=True, startangle=140)\n",
    "plt.axis('equal')\n",
    "plt.show()"
   ]
  },
  {
   "cell_type": "markdown",
   "metadata": {},
   "source": [
    "## 4. Publish year distribution"
   ]
  },
  {
   "cell_type": "code",
   "execution_count": 7,
   "metadata": {},
   "outputs": [],
   "source": [
    "yearList = []\n",
    "for y in metaData[\"publish_time\"][metaData[\"publish_time\"].notnull()]:\n",
    "    yearList.append(int(re.split(' |-', y)[0]))"
   ]
  },
  {
   "cell_type": "code",
   "execution_count": 8,
   "metadata": {},
   "outputs": [
    {
     "data": {
      "text/plain": [
       "Text(0, 0.5, 'Frequency')"
      ]
     },
     "execution_count": 8,
     "metadata": {},
     "output_type": "execute_result"
    },
    {
     "data": {
      "image/png": "[encoded data removed]",
      "text/plain": [
       "<Figure size 432x288 with 1 Axes>"
      ]
     },
     "metadata": {
      "needs_background": "light"
     },
     "output_type": "display_data"
    }
   ],
   "source": [
    "sns.distplot(yearList, bins = 50)\n",
    "plt.xlabel(\"Year\")\n",
    "plt.ylabel(\"Frequency\")"
   ]
  },
  {
   "cell_type": "markdown",
   "metadata": {},
   "source": [
    "A lot more coronaviruses related articles published in the past 10 years."
   ]
  },
  {
   "cell_type": "markdown",
   "metadata": {},
   "source": [
    "## 5. Has full text distribution"
   ]
  },
  {
   "cell_type": "code",
   "execution_count": 9,
   "metadata": {},
   "outputs": [
    {
     "name": "stdout",
     "output_type": "stream",
     "text": [
      "The number of articles with full text: 13219\n",
      "The number of articles without full text: 16281\n"
     ]
    }
   ],
   "source": [
    "hasFullText = metaData[\"has_full_text\"][metaData[\"has_full_text\"].notnull()]\n",
    "nanCount = metaData.shape[0] - hasFullText.shape[0]\n",
    "trueCount = sum(hasFullText)\n",
    "falseCount = hasFullText.shape[0] - trueCount\n",
    "print(\"The number of articles with full text: \" + str(trueCount))\n",
    "print(\"The number of articles without full text: \" + str(falseCount + nanCount))"
   ]
  },
  {
   "cell_type": "markdown",
   "metadata": {},
   "source": [
    "## 6. Abstract distribution"
   ]
  },
  {
   "cell_type": "code",
   "execution_count": 10,
   "metadata": {},
   "outputs": [
    {
     "name": "stdout",
     "output_type": "stream",
     "text": [
      "The number of articles with abstract: 26553\n"
     ]
    }
   ],
   "source": [
    "print(\"The number of articles with abstract: \" + str(sum(metaData[\"abstract\"].notnull())))"
   ]
  },
  {
   "cell_type": "markdown",
   "metadata": {},
   "source": [
    "Now we try to normalize the abstracts to learn the distribution of abstract length and tokens. The following steps will also be the steps to preprocess the abstracts for extracting tf-idf features."
   ]
  },
  {
   "cell_type": "code",
   "execution_count": 11,
   "metadata": {},
   "outputs": [
    {
     "name": "stdout",
     "output_type": "stream",
     "text": [
      "Time spent: 2.217min.\n",
      "The number of tokens: 50493\n"
     ]
    }
   ],
   "source": [
    "startTime = time.time()\n",
    "absLength = []\n",
    "word2count = {}\n",
    "for abstract in metaData[\"abstract\"][metaData[\"abstract\"].notnull()]:\n",
    "    ## Remove web links\n",
    "    abstract = re.sub('https?://\\S+|www\\.\\S+', '', abstract) \n",
    "\n",
    "    ## Lowercase\n",
    "    abstract = abstract.lower()\n",
    "    \n",
    "    ## Remove punctuation\n",
    "    abstract = re.sub('<.*?>+', ' ', abstract)\n",
    "    abstract = re.sub('[%s]' % re.escape(string.punctuation), ' ', abstract)\n",
    "    \n",
    "    ## Remove number\n",
    "    abstract = re.sub(r'\\d+', '', abstract)\n",
    "    \n",
    "    ## Tokenize\n",
    "    words = word_tokenize(abstract)\n",
    "    \n",
    "    ## Remove stop words\n",
    "    nltk_stop_words = stopwords.words('english')\n",
    "    words = [word for word in words if word not in nltk_stop_words]\n",
    "    \n",
    "    ## Stem\n",
    "    stemmer = SnowballStemmer('english')\n",
    "    words = [stemmer.stem(word) for word in words]\n",
    "    \n",
    "    ## Lematize verbs\n",
    "    lemmatizer = WordNetLemmatizer()\n",
    "    words = [lemmatizer.lemmatize(word, pos='v') for word in words]\n",
    "    \n",
    "    ## Record length\n",
    "    absLength.append(len(words))\n",
    "    \n",
    "    ## Get word count\n",
    "    for word in words:\n",
    "        count = word2count.get(word, 0)\n",
    "        word2count[word] = count + 1\n",
    "print(\"Time spent: \" + str(round((time.time() - startTime) / 60, 3)) + \"min.\")\n",
    "print(\"The number of tokens: \" + str(len(word2count)))"
   ]
  },
  {
   "cell_type": "markdown",
   "metadata": {},
   "source": [
    "### Distribution of abstract length\n",
    "There are 20 extremely long abstracts. We excluded them from the histogram."
   ]
  },
  {
   "cell_type": "code",
   "execution_count": 12,
   "metadata": {},
   "outputs": [
    {
     "data": {
      "image/png": "[encoded data removed]",
      "text/plain": [
       "<Figure size 432x288 with 1 Axes>"
      ]
     },
     "metadata": {
      "needs_background": "light"
     },
     "output_type": "display_data"
    }
   ],
   "source": [
    "sns.distplot(sorted(absLength)[:-20], bins = 50) # There are 20 extremely long abstracts\n",
    "plt.xlabel(\"Abstract token count\")\n",
    "plt.ylabel(\"Frequency\")\n",
    "plt.show()"
   ]
  },
  {
   "cell_type": "markdown",
   "metadata": {},
   "source": [
    "### Top 50 mostly frequent tokens"
   ]
  },
  {
   "cell_type": "code",
   "execution_count": 13,
   "metadata": {},
   "outputs": [
    {
     "data": {
      "text/plain": [
       "<matplotlib.axes._subplots.AxesSubplot at 0x140b7ce10>"
      ]
     },
     "execution_count": 13,
     "metadata": {},
     "output_type": "execute_result"
    },
    {
     "data": {
      "image/png": "[encoded data removed]",
      "text/plain": [
       "<Figure size 864x720 with 1 Axes>"
      ]
     },
     "metadata": {},
     "output_type": "display_data"
    }
   ],
   "source": [
    "df_word_count = pd.DataFrame(sorted(word2count.items(), key=lambda x: x[1])[::-1])\n",
    "sns.set(rc={'figure.figsize':(12,10)})\n",
    "sns.barplot(y = df_word_count[0].values[:50], x = df_word_count[1].values[:50], color='red')"
   ]
  },
  {
   "cell_type": "markdown",
   "metadata": {},
   "source": [
    "# II. Article and sentence retrieval\n",
    "Now let's start building the system for article and sentence retrieval. For the first level of retrieving articles, we build a tf-idf vectorizer for all articles based on their abstracts. Therefore, whether an article is considered related to a query is only based on the content in its abstract. The reasons we didn't include all text from the article is that 1. most articles don't have a full-text available; 2. abstract as a high-level summary of the discovery of the article is more information-enriched compared to the full-text; 3. only including the abstract will largely reduce the vectorizer learning time. For the second level of retrieving sentences, we first retrieving relevant articles. Then from the abstracts and paragraphs in discussion and/or conclusion sections (if exist) of the articles build a second vectorizer and retrieve the most relevant sentences. The reason we only take abstract, discussion and conclusion into consideration is that for most tasks in this challenge, the questions of interest are mostly high-level questions, to which the related information is more likely to be in summary sections rather than experiments or results sections. "
   ]
  },
  {
   "cell_type": "markdown",
   "metadata": {},
   "source": [
    "The tf-idf weight for a term $i$ in document $j$ is \n",
    "\\begin{equation*}\n",
    "w_{i, j} = log(1 + tf_{i, j})\\times log\\frac{N}{df_i}\n",
    "\\end{equation*}\n",
    "$tf_{i, j}$ = the number of occurrences of $i$ in $j$\n",
    "\n",
    "$df_i$ = the number of documents containing $i$\n",
    "\n",
    "$N$ = the total number of documents\n",
    "\n",
    "tf-idf weight represents a balance between the term frequency (the higher the more informative of the term) and the document frequency (the higher the more common of the term and thus less informative of the term).\n",
    "\n",
    "Any document/query can be transferred into a numeric vector by represented each term in the document/query with its tf-idf weight. The similarities between documents can then be quantized by computing distance (e.g. cosine distance) between the corresponding vectors."
   ]
  },
  {
   "cell_type": "markdown",
   "metadata": {},
   "source": [
    "## 1. Preprocess metadata\n",
    "This section only needs to be run once. The new metadata table with the normalized abstracts in the column \"clean_abstract\" will be saved to all_sources_metadata_2020-03-13_clean.csv in the output folder."
   ]
  },
  {
   "cell_type": "code",
   "execution_count": 14,
   "metadata": {},
   "outputs": [],
   "source": [
    "def textNormalize(rawString):\n",
    "    \"\"\"\n",
    "    Function for text normalization.\n",
    "    Text normalization includes:\n",
    "    1. removing web links\n",
    "    2. converting all letters to lower or upper case\n",
    "    3. removing punctuations\n",
    "    4. removing numbers\n",
    "    5. tokenization\n",
    "    6. removing stopwords\n",
    "    7. stemming\n",
    "    8. lemmatization\n",
    "    Input:\n",
    "        rawString: a string contains the text to be normaized. \n",
    "    Output:\n",
    "        normText: a string contains the normalized text where the tokens extracted from rawString are joined by space.\n",
    "    \"\"\"\n",
    "    if rawString == np.nan:\n",
    "        return rawString\n",
    "    ## Remove web links\n",
    "    rawString = re.sub('https?://\\S+|www\\.\\S+', '', rawString) \n",
    "\n",
    "    ## Lowercase\n",
    "    rawString = rawString.lower()\n",
    "    \n",
    "    ## Remove punctuation\n",
    "    rawString = re.sub('<.*?>+', ' ', rawString)\n",
    "    rawString = re.sub('[%s]' % re.escape(string.punctuation), ' ', rawString)\n",
    "    \n",
    "    ## Remove number\n",
    "    rawString = re.sub(r'\\d+', '', rawString)\n",
    "    \n",
    "    ## Tokenize\n",
    "    words = word_tokenize(rawString)\n",
    "    \n",
    "    ## Remove stop words\n",
    "    nltk_stop_words = stopwords.words('english')\n",
    "    words = [word for word in words if word not in nltk_stop_words]\n",
    "    \n",
    "    ## Stem\n",
    "    stemmer = SnowballStemmer('english')\n",
    "    words = [stemmer.stem(word) for word in words]\n",
    "    \n",
    "    ## Lematize verbs\n",
    "    lemmatizer = WordNetLemmatizer()\n",
    "    words = [lemmatizer.lemmatize(word, pos='v') for word in words]\n",
    "    \n",
    "    normText = \" \".join(words)\n",
    "    \n",
    "    return normText"
   ]
  },
  {
   "cell_type": "markdown",
   "metadata": {},
   "source": [
    "### Read-in metadata"
   ]
  },
  {
   "cell_type": "code",
   "execution_count": 16,
   "metadata": {},
   "outputs": [
    {
     "name": "stdout",
     "output_type": "stream",
     "text": [
      "The number of articles: 29500\n"
     ]
    },
    {
     "data": {
      "text/html": [
       "<div>\n",
       "<style scoped>\n",
       "    .dataframe tbody tr th:only-of-type {\n",
       "        vertical-align: middle;\n",
       "    }\n",
       "\n",
       "    .dataframe tbody tr th {\n",
       "        vertical-align: top;\n",
       "    }\n",
       "\n",
       "    .dataframe thead th {\n",
       "        text-align: right;\n",
       "    }\n",
       "</style>\n",
       "<table border=\"1\" class=\"dataframe\">\n",
       "  <thead>\n",
       "    <tr style=\"text-align: right;\">\n",
       "      <th></th>\n",
       "      <th>sha</th>\n",
       "      <th>source_x</th>\n",
       "      <th>title</th>\n",
       "      <th>doi</th>\n",
       "      <th>pmcid</th>\n",
       "      <th>pubmed_id</th>\n",
       "      <th>license</th>\n",
       "      <th>abstract</th>\n",
       "      <th>publish_time</th>\n",
       "      <th>authors</th>\n",
       "      <th>journal</th>\n",
       "      <th>Microsoft Academic Paper ID</th>\n",
       "      <th>WHO #Covidence</th>\n",
       "      <th>has_full_text</th>\n",
       "    </tr>\n",
       "  </thead>\n",
       "  <tbody>\n",
       "    <tr>\n",
       "      <th>0</th>\n",
       "      <td>c630ebcdf30652f0422c3ec12a00b50241dc9bd9</td>\n",
       "      <td>CZI</td>\n",
       "      <td>Angiotensin-converting enzyme 2 (ACE2) as a SA...</td>\n",
       "      <td>10.1007/s00134-020-05985-9</td>\n",
       "      <td>NaN</td>\n",
       "      <td>32125455.0</td>\n",
       "      <td>cc-by-nc</td>\n",
       "      <td>NaN</td>\n",
       "      <td>2020</td>\n",
       "      <td>Zhang, Haibo; Penninger, Josef M.; Li, Yimin; ...</td>\n",
       "      <td>Intensive Care Med</td>\n",
       "      <td>2.002765e+09</td>\n",
       "      <td>#3252</td>\n",
       "      <td>True</td>\n",
       "    </tr>\n",
       "    <tr>\n",
       "      <th>1</th>\n",
       "      <td>53eccda7977a31e3d0f565c884da036b1e85438e</td>\n",
       "      <td>CZI</td>\n",
       "      <td>Comparative genetic analysis of the novel coro...</td>\n",
       "      <td>10.1038/s41421-020-0147-1</td>\n",
       "      <td>NaN</td>\n",
       "      <td>NaN</td>\n",
       "      <td>cc-by</td>\n",
       "      <td>NaN</td>\n",
       "      <td>2020</td>\n",
       "      <td>Cao, Yanan; Li, Lin; Feng, Zhimin; Wan, Shengq...</td>\n",
       "      <td>Cell Discovery</td>\n",
       "      <td>3.003431e+09</td>\n",
       "      <td>#1861</td>\n",
       "      <td>True</td>\n",
       "    </tr>\n",
       "    <tr>\n",
       "      <th>2</th>\n",
       "      <td>210a892deb1c61577f6fba58505fd65356ce6636</td>\n",
       "      <td>CZI</td>\n",
       "      <td>Incubation Period and Other Epidemiological Ch...</td>\n",
       "      <td>10.3390/jcm9020538</td>\n",
       "      <td>NaN</td>\n",
       "      <td>NaN</td>\n",
       "      <td>cc-by</td>\n",
       "      <td>The geographic spread of 2019 novel coronaviru...</td>\n",
       "      <td>2020</td>\n",
       "      <td>Linton, M. Natalie; Kobayashi, Tetsuro; Yang, ...</td>\n",
       "      <td>Journal of Clinical Medicine</td>\n",
       "      <td>3.006065e+09</td>\n",
       "      <td>#1043</td>\n",
       "      <td>True</td>\n",
       "    </tr>\n",
       "    <tr>\n",
       "      <th>3</th>\n",
       "      <td>e3b40cc8e0e137c416b4a2273a4dca94ae8178cc</td>\n",
       "      <td>CZI</td>\n",
       "      <td>Characteristics of and Public Health Responses...</td>\n",
       "      <td>10.3390/jcm9020575</td>\n",
       "      <td>NaN</td>\n",
       "      <td>32093211.0</td>\n",
       "      <td>cc-by</td>\n",
       "      <td>In December 2019, cases of unidentified pneumo...</td>\n",
       "      <td>2020</td>\n",
       "      <td>Deng, Sheng-Qun; Peng, Hong-Juan</td>\n",
       "      <td>J Clin Med</td>\n",
       "      <td>1.776631e+08</td>\n",
       "      <td>#1999</td>\n",
       "      <td>True</td>\n",
       "    </tr>\n",
       "    <tr>\n",
       "      <th>4</th>\n",
       "      <td>92c2c9839304b4f2bc1276d41b1aa885d8b364fd</td>\n",
       "      <td>CZI</td>\n",
       "      <td>Imaging changes in severe COVID-19 pneumonia</td>\n",
       "      <td>10.1007/s00134-020-05976-w</td>\n",
       "      <td>NaN</td>\n",
       "      <td>32125453.0</td>\n",
       "      <td>cc-by-nc</td>\n",
       "      <td>NaN</td>\n",
       "      <td>2020</td>\n",
       "      <td>Zhang, Wei</td>\n",
       "      <td>Intensive Care Med</td>\n",
       "      <td>3.006643e+09</td>\n",
       "      <td>#3242</td>\n",
       "      <td>False</td>\n",
       "    </tr>\n",
       "  </tbody>\n",
       "</table>\n",
       "</div>"
      ],
      "text/plain": [
       "                                        sha source_x  \\\n",
       "0  c630ebcdf30652f0422c3ec12a00b50241dc9bd9      CZI   \n",
       "1  53eccda7977a31e3d0f565c884da036b1e85438e      CZI   \n",
       "2  210a892deb1c61577f6fba58505fd65356ce6636      CZI   \n",
       "3  e3b40cc8e0e137c416b4a2273a4dca94ae8178cc      CZI   \n",
       "4  92c2c9839304b4f2bc1276d41b1aa885d8b364fd      CZI   \n",
       "\n",
       "                                               title  \\\n",
       "0  Angiotensin-converting enzyme 2 (ACE2) as a SA...   \n",
       "1  Comparative genetic analysis of the novel coro...   \n",
       "2  Incubation Period and Other Epidemiological Ch...   \n",
       "3  Characteristics of and Public Health Responses...   \n",
       "4       Imaging changes in severe COVID-19 pneumonia   \n",
       "\n",
       "                          doi pmcid   pubmed_id   license  \\\n",
       "0  10.1007/s00134-020-05985-9   NaN  32125455.0  cc-by-nc   \n",
       "1   10.1038/s41421-020-0147-1   NaN         NaN     cc-by   \n",
       "2          10.3390/jcm9020538   NaN         NaN     cc-by   \n",
       "3          10.3390/jcm9020575   NaN  32093211.0     cc-by   \n",
       "4  10.1007/s00134-020-05976-w   NaN  32125453.0  cc-by-nc   \n",
       "\n",
       "                                            abstract publish_time  \\\n",
       "0                                                NaN         2020   \n",
       "1                                                NaN         2020   \n",
       "2  The geographic spread of 2019 novel coronaviru...         2020   \n",
       "3  In December 2019, cases of unidentified pneumo...         2020   \n",
       "4                                                NaN         2020   \n",
       "\n",
       "                                             authors  \\\n",
       "0  Zhang, Haibo; Penninger, Josef M.; Li, Yimin; ...   \n",
       "1  Cao, Yanan; Li, Lin; Feng, Zhimin; Wan, Shengq...   \n",
       "2  Linton, M. Natalie; Kobayashi, Tetsuro; Yang, ...   \n",
       "3                   Deng, Sheng-Qun; Peng, Hong-Juan   \n",
       "4                                         Zhang, Wei   \n",
       "\n",
       "                        journal  Microsoft Academic Paper ID WHO #Covidence  \\\n",
       "0            Intensive Care Med                 2.002765e+09          #3252   \n",
       "1                Cell Discovery                 3.003431e+09          #1861   \n",
       "2  Journal of Clinical Medicine                 3.006065e+09          #1043   \n",
       "3                    J Clin Med                 1.776631e+08          #1999   \n",
       "4            Intensive Care Med                 3.006643e+09          #3242   \n",
       "\n",
       "  has_full_text  \n",
       "0          True  \n",
       "1          True  \n",
       "2          True  \n",
       "3          True  \n",
       "4         False  "
      ]
     },
     "execution_count": 16,
     "metadata": {},
     "output_type": "execute_result"
    }
   ],
   "source": [
    "#metaDataPath = \"/kaggle/input/CORD-19-research-challenge/2020-03-13/all_sources_metadata_2020-03-13.csv\"\n",
    "metaDataPath = \"~/Downloads/2020-03-13/all_sources_metadata_2020-03-13.csv\"\n",
    "metaData = pd.read_csv(metaDataPath, header = 0)\n",
    "print(\"The number of articles: \" + str(metaData.shape[0]))\n",
    "metaData.head()"
   ]
  },
  {
   "cell_type": "markdown",
   "metadata": {},
   "source": [
    "### Normalize abstracts"
   ]
  },
  {
   "cell_type": "code",
   "execution_count": 17,
   "metadata": {},
   "outputs": [
    {
     "name": "stdout",
     "output_type": "stream",
     "text": [
      "Time spent: 2.068min.\n"
     ]
    }
   ],
   "source": [
    "startTime = time.time()\n",
    "metaData[\"clean_abstract\"] = float(\"NaN\")\n",
    "metaData.loc[metaData[\"abstract\"].notnull(), \"clean_abstract\"] = \\\n",
    "metaData[\"abstract\"][metaData[\"abstract\"].notnull()].apply(lambda x: textNormalize(x))\n",
    "print(\"Time spent: \" + str(round((time.time() - startTime) / 60, 3)) + \"min.\")"
   ]
  },
  {
   "cell_type": "markdown",
   "metadata": {},
   "source": [
    "### Output the new metadata table"
   ]
  },
  {
   "cell_type": "code",
   "execution_count": 18,
   "metadata": {},
   "outputs": [],
   "source": [
    "metaData.to_csv(\"~/Downloads/2020-03-13/all_sources_metadata_2020-03-13_clean.csv\")"
   ]
  },
  {
   "cell_type": "markdown",
   "metadata": {},
   "source": [
    "## 2. Learn tf-idf vectorizer"
   ]
  },
  {
   "cell_type": "markdown",
   "metadata": {},
   "source": [
    "This section only needs to be run once. A tf-idf vectorizer will be learned from the normalized abstracts and saved to tf-idf_vectorizer.pkl in the output folder."
   ]
  },
  {
   "cell_type": "markdown",
   "metadata": {},
   "source": [
    "### Read-in metadata with normalized abstracts"
   ]
  },
  {
   "cell_type": "code",
   "execution_count": 57,
   "metadata": {},
   "outputs": [
    {
     "data": {
      "text/html": [
       "<div>\n",
       "<style scoped>\n",
       "    .dataframe tbody tr th:only-of-type {\n",
       "        vertical-align: middle;\n",
       "    }\n",
       "\n",
       "    .dataframe tbody tr th {\n",
       "        vertical-align: top;\n",
       "    }\n",
       "\n",
       "    .dataframe thead th {\n",
       "        text-align: right;\n",
       "    }\n",
       "</style>\n",
       "<table border=\"1\" class=\"dataframe\">\n",
       "  <thead>\n",
       "    <tr style=\"text-align: right;\">\n",
       "      <th></th>\n",
       "      <th>Unnamed: 0</th>\n",
       "      <th>sha</th>\n",
       "      <th>source_x</th>\n",
       "      <th>title</th>\n",
       "      <th>doi</th>\n",
       "      <th>pmcid</th>\n",
       "      <th>pubmed_id</th>\n",
       "      <th>license</th>\n",
       "      <th>abstract</th>\n",
       "      <th>publish_time</th>\n",
       "      <th>authors</th>\n",
       "      <th>journal</th>\n",
       "      <th>Microsoft Academic Paper ID</th>\n",
       "      <th>WHO #Covidence</th>\n",
       "      <th>has_full_text</th>\n",
       "      <th>clean_abstract</th>\n",
       "    </tr>\n",
       "  </thead>\n",
       "  <tbody>\n",
       "    <tr>\n",
       "      <th>0</th>\n",
       "      <td>0</td>\n",
       "      <td>c630ebcdf30652f0422c3ec12a00b50241dc9bd9</td>\n",
       "      <td>CZI</td>\n",
       "      <td>Angiotensin-converting enzyme 2 (ACE2) as a SA...</td>\n",
       "      <td>10.1007/s00134-020-05985-9</td>\n",
       "      <td>NaN</td>\n",
       "      <td>32125455.0</td>\n",
       "      <td>cc-by-nc</td>\n",
       "      <td>NaN</td>\n",
       "      <td>2020</td>\n",
       "      <td>Zhang, Haibo; Penninger, Josef M.; Li, Yimin; ...</td>\n",
       "      <td>Intensive Care Med</td>\n",
       "      <td>2.002765e+09</td>\n",
       "      <td>#3252</td>\n",
       "      <td>True</td>\n",
       "      <td>NaN</td>\n",
       "    </tr>\n",
       "    <tr>\n",
       "      <th>1</th>\n",
       "      <td>1</td>\n",
       "      <td>53eccda7977a31e3d0f565c884da036b1e85438e</td>\n",
       "      <td>CZI</td>\n",
       "      <td>Comparative genetic analysis of the novel coro...</td>\n",
       "      <td>10.1038/s41421-020-0147-1</td>\n",
       "      <td>NaN</td>\n",
       "      <td>NaN</td>\n",
       "      <td>cc-by</td>\n",
       "      <td>NaN</td>\n",
       "      <td>2020</td>\n",
       "      <td>Cao, Yanan; Li, Lin; Feng, Zhimin; Wan, Shengq...</td>\n",
       "      <td>Cell Discovery</td>\n",
       "      <td>3.003431e+09</td>\n",
       "      <td>#1861</td>\n",
       "      <td>True</td>\n",
       "      <td>NaN</td>\n",
       "    </tr>\n",
       "    <tr>\n",
       "      <th>2</th>\n",
       "      <td>2</td>\n",
       "      <td>210a892deb1c61577f6fba58505fd65356ce6636</td>\n",
       "      <td>CZI</td>\n",
       "      <td>Incubation Period and Other Epidemiological Ch...</td>\n",
       "      <td>10.3390/jcm9020538</td>\n",
       "      <td>NaN</td>\n",
       "      <td>NaN</td>\n",
       "      <td>cc-by</td>\n",
       "      <td>The geographic spread of 2019 novel coronaviru...</td>\n",
       "      <td>2020</td>\n",
       "      <td>Linton, M. Natalie; Kobayashi, Tetsuro; Yang, ...</td>\n",
       "      <td>Journal of Clinical Medicine</td>\n",
       "      <td>3.006065e+09</td>\n",
       "      <td>#1043</td>\n",
       "      <td>True</td>\n",
       "      <td>geograph spread novel coronavirus covid infect...</td>\n",
       "    </tr>\n",
       "    <tr>\n",
       "      <th>3</th>\n",
       "      <td>3</td>\n",
       "      <td>e3b40cc8e0e137c416b4a2273a4dca94ae8178cc</td>\n",
       "      <td>CZI</td>\n",
       "      <td>Characteristics of and Public Health Responses...</td>\n",
       "      <td>10.3390/jcm9020575</td>\n",
       "      <td>NaN</td>\n",
       "      <td>32093211.0</td>\n",
       "      <td>cc-by</td>\n",
       "      <td>In December 2019, cases of unidentified pneumo...</td>\n",
       "      <td>2020</td>\n",
       "      <td>Deng, Sheng-Qun; Peng, Hong-Juan</td>\n",
       "      <td>J Clin Med</td>\n",
       "      <td>1.776631e+08</td>\n",
       "      <td>#1999</td>\n",
       "      <td>True</td>\n",
       "      <td>decemb case unidentifi pneumonia histori expos...</td>\n",
       "    </tr>\n",
       "    <tr>\n",
       "      <th>4</th>\n",
       "      <td>4</td>\n",
       "      <td>92c2c9839304b4f2bc1276d41b1aa885d8b364fd</td>\n",
       "      <td>CZI</td>\n",
       "      <td>Imaging changes in severe COVID-19 pneumonia</td>\n",
       "      <td>10.1007/s00134-020-05976-w</td>\n",
       "      <td>NaN</td>\n",
       "      <td>32125453.0</td>\n",
       "      <td>cc-by-nc</td>\n",
       "      <td>NaN</td>\n",
       "      <td>2020</td>\n",
       "      <td>Zhang, Wei</td>\n",
       "      <td>Intensive Care Med</td>\n",
       "      <td>3.006643e+09</td>\n",
       "      <td>#3242</td>\n",
       "      <td>False</td>\n",
       "      <td>NaN</td>\n",
       "    </tr>\n",
       "  </tbody>\n",
       "</table>\n",
       "</div>"
      ],
      "text/plain": [
       "   Unnamed: 0                                       sha source_x  \\\n",
       "0           0  c630ebcdf30652f0422c3ec12a00b50241dc9bd9      CZI   \n",
       "1           1  53eccda7977a31e3d0f565c884da036b1e85438e      CZI   \n",
       "2           2  210a892deb1c61577f6fba58505fd65356ce6636      CZI   \n",
       "3           3  e3b40cc8e0e137c416b4a2273a4dca94ae8178cc      CZI   \n",
       "4           4  92c2c9839304b4f2bc1276d41b1aa885d8b364fd      CZI   \n",
       "\n",
       "                                               title  \\\n",
       "0  Angiotensin-converting enzyme 2 (ACE2) as a SA...   \n",
       "1  Comparative genetic analysis of the novel coro...   \n",
       "2  Incubation Period and Other Epidemiological Ch...   \n",
       "3  Characteristics of and Public Health Responses...   \n",
       "4       Imaging changes in severe COVID-19 pneumonia   \n",
       "\n",
       "                          doi pmcid   pubmed_id   license  \\\n",
       "0  10.1007/s00134-020-05985-9   NaN  32125455.0  cc-by-nc   \n",
       "1   10.1038/s41421-020-0147-1   NaN         NaN     cc-by   \n",
       "2          10.3390/jcm9020538   NaN         NaN     cc-by   \n",
       "3          10.3390/jcm9020575   NaN  32093211.0     cc-by   \n",
       "4  10.1007/s00134-020-05976-w   NaN  32125453.0  cc-by-nc   \n",
       "\n",
       "                                            abstract publish_time  \\\n",
       "0                                                NaN         2020   \n",
       "1                                                NaN         2020   \n",
       "2  The geographic spread of 2019 novel coronaviru...         2020   \n",
       "3  In December 2019, cases of unidentified pneumo...         2020   \n",
       "4                                                NaN         2020   \n",
       "\n",
       "                                             authors  \\\n",
       "0  Zhang, Haibo; Penninger, Josef M.; Li, Yimin; ...   \n",
       "1  Cao, Yanan; Li, Lin; Feng, Zhimin; Wan, Shengq...   \n",
       "2  Linton, M. Natalie; Kobayashi, Tetsuro; Yang, ...   \n",
       "3                   Deng, Sheng-Qun; Peng, Hong-Juan   \n",
       "4                                         Zhang, Wei   \n",
       "\n",
       "                        journal  Microsoft Academic Paper ID WHO #Covidence  \\\n",
       "0            Intensive Care Med                 2.002765e+09          #3252   \n",
       "1                Cell Discovery                 3.003431e+09          #1861   \n",
       "2  Journal of Clinical Medicine                 3.006065e+09          #1043   \n",
       "3                    J Clin Med                 1.776631e+08          #1999   \n",
       "4            Intensive Care Med                 3.006643e+09          #3242   \n",
       "\n",
       "  has_full_text                                     clean_abstract  \n",
       "0          True                                                NaN  \n",
       "1          True                                                NaN  \n",
       "2          True  geograph spread novel coronavirus covid infect...  \n",
       "3          True  decemb case unidentifi pneumonia histori expos...  \n",
       "4         False                                                NaN  "
      ]
     },
     "execution_count": 57,
     "metadata": {},
     "output_type": "execute_result"
    }
   ],
   "source": [
    "metaDataPath = \"~/Downloads/2020-03-13/all_sources_metadata_2020-03-13_clean.csv\"\n",
    "metaData = pd.read_csv(metaDataPath, header = 0)\n",
    "metaData.head()"
   ]
  },
  {
   "cell_type": "markdown",
   "metadata": {},
   "source": [
    "### Learn vocabulary and idf from the normalized abstracts\n",
    "To further constrain the searching space to focus more on coronavirus knowledge, we only include an article if either \"coron\" (for coronavirus) or \"covid\" are mentioned in its abstract. In this way, other articles that are more generally related to epidemic or other respiration diseases will be excluded. This filtering step also largely boosts learning and retrieval time. More strict rules can also be used to only include articles that are specifically related to COVID-19."
   ]
  },
  {
   "cell_type": "code",
   "execution_count": 58,
   "metadata": {},
   "outputs": [
    {
     "name": "stdout",
     "output_type": "stream",
     "text": [
      "The number of remaining articles:  5246\n"
     ]
    }
   ],
   "source": [
    "metaData = metaData[metaData[\"clean_abstract\"].notnull()]\n",
    "metaData = metaData[metaData[\"clean_abstract\"].str.contains(\"|\".join([\"coron\", \"covid\"]))]\n",
    "print(\"The number of remaining articles: \", metaData.shape[0])"
   ]
  },
  {
   "cell_type": "code",
   "execution_count": 59,
   "metadata": {},
   "outputs": [
    {
     "name": "stdout",
     "output_type": "stream",
     "text": [
      "Time spent: 3.8996529579162598s.\n"
     ]
    }
   ],
   "source": [
    "startTime = time.time()\n",
    "vectorizer = TfidfVectorizer(tokenizer = word_tokenize)\n",
    "vectorizer.fit(metaData[\"clean_abstract\"][metaData[\"clean_abstract\"].notnull()])\n",
    "print('Time spent: ' + str(time.time() - startTime) + 's.')"
   ]
  },
  {
   "cell_type": "markdown",
   "metadata": {},
   "source": [
    "### Save the learned vectorizer"
   ]
  },
  {
   "cell_type": "code",
   "execution_count": 60,
   "metadata": {},
   "outputs": [],
   "source": [
    "vectPath = \"../../../Downloads/2020-03-13/tf-idf_vectorizer.pkl\"\n",
    "with open(vectPath, \"wb\") as vectFile:\n",
    "    pickle.dump(vectorizer, vectFile)"
   ]
  },
  {
   "cell_type": "markdown",
   "metadata": {},
   "source": [
    "## 3. Retrieve relevant articles and sentences for each task"
   ]
  },
  {
   "cell_type": "markdown",
   "metadata": {},
   "source": [
    "### Read-in metadata with normalized abstracts"
   ]
  },
  {
   "cell_type": "code",
   "execution_count": 63,
   "metadata": {},
   "outputs": [
    {
     "data": {
      "text/html": [
       "<div>\n",
       "<style scoped>\n",
       "    .dataframe tbody tr th:only-of-type {\n",
       "        vertical-align: middle;\n",
       "    }\n",
       "\n",
       "    .dataframe tbody tr th {\n",
       "        vertical-align: top;\n",
       "    }\n",
       "\n",
       "    .dataframe thead th {\n",
       "        text-align: right;\n",
       "    }\n",
       "</style>\n",
       "<table border=\"1\" class=\"dataframe\">\n",
       "  <thead>\n",
       "    <tr style=\"text-align: right;\">\n",
       "      <th></th>\n",
       "      <th>Unnamed: 0</th>\n",
       "      <th>sha</th>\n",
       "      <th>source_x</th>\n",
       "      <th>title</th>\n",
       "      <th>doi</th>\n",
       "      <th>pmcid</th>\n",
       "      <th>pubmed_id</th>\n",
       "      <th>license</th>\n",
       "      <th>abstract</th>\n",
       "      <th>publish_time</th>\n",
       "      <th>authors</th>\n",
       "      <th>journal</th>\n",
       "      <th>Microsoft Academic Paper ID</th>\n",
       "      <th>WHO #Covidence</th>\n",
       "      <th>has_full_text</th>\n",
       "      <th>clean_abstract</th>\n",
       "    </tr>\n",
       "  </thead>\n",
       "  <tbody>\n",
       "    <tr>\n",
       "      <th>0</th>\n",
       "      <td>0</td>\n",
       "      <td>c630ebcdf30652f0422c3ec12a00b50241dc9bd9</td>\n",
       "      <td>CZI</td>\n",
       "      <td>Angiotensin-converting enzyme 2 (ACE2) as a SA...</td>\n",
       "      <td>10.1007/s00134-020-05985-9</td>\n",
       "      <td>NaN</td>\n",
       "      <td>32125455.0</td>\n",
       "      <td>cc-by-nc</td>\n",
       "      <td>NaN</td>\n",
       "      <td>2020</td>\n",
       "      <td>Zhang, Haibo; Penninger, Josef M.; Li, Yimin; ...</td>\n",
       "      <td>Intensive Care Med</td>\n",
       "      <td>2.002765e+09</td>\n",
       "      <td>#3252</td>\n",
       "      <td>True</td>\n",
       "      <td>NaN</td>\n",
       "    </tr>\n",
       "    <tr>\n",
       "      <th>1</th>\n",
       "      <td>1</td>\n",
       "      <td>53eccda7977a31e3d0f565c884da036b1e85438e</td>\n",
       "      <td>CZI</td>\n",
       "      <td>Comparative genetic analysis of the novel coro...</td>\n",
       "      <td>10.1038/s41421-020-0147-1</td>\n",
       "      <td>NaN</td>\n",
       "      <td>NaN</td>\n",
       "      <td>cc-by</td>\n",
       "      <td>NaN</td>\n",
       "      <td>2020</td>\n",
       "      <td>Cao, Yanan; Li, Lin; Feng, Zhimin; Wan, Shengq...</td>\n",
       "      <td>Cell Discovery</td>\n",
       "      <td>3.003431e+09</td>\n",
       "      <td>#1861</td>\n",
       "      <td>True</td>\n",
       "      <td>NaN</td>\n",
       "    </tr>\n",
       "    <tr>\n",
       "      <th>2</th>\n",
       "      <td>2</td>\n",
       "      <td>210a892deb1c61577f6fba58505fd65356ce6636</td>\n",
       "      <td>CZI</td>\n",
       "      <td>Incubation Period and Other Epidemiological Ch...</td>\n",
       "      <td>10.3390/jcm9020538</td>\n",
       "      <td>NaN</td>\n",
       "      <td>NaN</td>\n",
       "      <td>cc-by</td>\n",
       "      <td>The geographic spread of 2019 novel coronaviru...</td>\n",
       "      <td>2020</td>\n",
       "      <td>Linton, M. Natalie; Kobayashi, Tetsuro; Yang, ...</td>\n",
       "      <td>Journal of Clinical Medicine</td>\n",
       "      <td>3.006065e+09</td>\n",
       "      <td>#1043</td>\n",
       "      <td>True</td>\n",
       "      <td>geograph spread novel coronavirus covid infect...</td>\n",
       "    </tr>\n",
       "    <tr>\n",
       "      <th>3</th>\n",
       "      <td>3</td>\n",
       "      <td>e3b40cc8e0e137c416b4a2273a4dca94ae8178cc</td>\n",
       "      <td>CZI</td>\n",
       "      <td>Characteristics of and Public Health Responses...</td>\n",
       "      <td>10.3390/jcm9020575</td>\n",
       "      <td>NaN</td>\n",
       "      <td>32093211.0</td>\n",
       "      <td>cc-by</td>\n",
       "      <td>In December 2019, cases of unidentified pneumo...</td>\n",
       "      <td>2020</td>\n",
       "      <td>Deng, Sheng-Qun; Peng, Hong-Juan</td>\n",
       "      <td>J Clin Med</td>\n",
       "      <td>1.776631e+08</td>\n",
       "      <td>#1999</td>\n",
       "      <td>True</td>\n",
       "      <td>decemb case unidentifi pneumonia histori expos...</td>\n",
       "    </tr>\n",
       "    <tr>\n",
       "      <th>4</th>\n",
       "      <td>4</td>\n",
       "      <td>92c2c9839304b4f2bc1276d41b1aa885d8b364fd</td>\n",
       "      <td>CZI</td>\n",
       "      <td>Imaging changes in severe COVID-19 pneumonia</td>\n",
       "      <td>10.1007/s00134-020-05976-w</td>\n",
       "      <td>NaN</td>\n",
       "      <td>32125453.0</td>\n",
       "      <td>cc-by-nc</td>\n",
       "      <td>NaN</td>\n",
       "      <td>2020</td>\n",
       "      <td>Zhang, Wei</td>\n",
       "      <td>Intensive Care Med</td>\n",
       "      <td>3.006643e+09</td>\n",
       "      <td>#3242</td>\n",
       "      <td>False</td>\n",
       "      <td>NaN</td>\n",
       "    </tr>\n",
       "  </tbody>\n",
       "</table>\n",
       "</div>"
      ],
      "text/plain": [
       "   Unnamed: 0                                       sha source_x  \\\n",
       "0           0  c630ebcdf30652f0422c3ec12a00b50241dc9bd9      CZI   \n",
       "1           1  53eccda7977a31e3d0f565c884da036b1e85438e      CZI   \n",
       "2           2  210a892deb1c61577f6fba58505fd65356ce6636      CZI   \n",
       "3           3  e3b40cc8e0e137c416b4a2273a4dca94ae8178cc      CZI   \n",
       "4           4  92c2c9839304b4f2bc1276d41b1aa885d8b364fd      CZI   \n",
       "\n",
       "                                               title  \\\n",
       "0  Angiotensin-converting enzyme 2 (ACE2) as a SA...   \n",
       "1  Comparative genetic analysis of the novel coro...   \n",
       "2  Incubation Period and Other Epidemiological Ch...   \n",
       "3  Characteristics of and Public Health Responses...   \n",
       "4       Imaging changes in severe COVID-19 pneumonia   \n",
       "\n",
       "                          doi pmcid   pubmed_id   license  \\\n",
       "0  10.1007/s00134-020-05985-9   NaN  32125455.0  cc-by-nc   \n",
       "1   10.1038/s41421-020-0147-1   NaN         NaN     cc-by   \n",
       "2          10.3390/jcm9020538   NaN         NaN     cc-by   \n",
       "3          10.3390/jcm9020575   NaN  32093211.0     cc-by   \n",
       "4  10.1007/s00134-020-05976-w   NaN  32125453.0  cc-by-nc   \n",
       "\n",
       "                                            abstract publish_time  \\\n",
       "0                                                NaN         2020   \n",
       "1                                                NaN         2020   \n",
       "2  The geographic spread of 2019 novel coronaviru...         2020   \n",
       "3  In December 2019, cases of unidentified pneumo...         2020   \n",
       "4                                                NaN         2020   \n",
       "\n",
       "                                             authors  \\\n",
       "0  Zhang, Haibo; Penninger, Josef M.; Li, Yimin; ...   \n",
       "1  Cao, Yanan; Li, Lin; Feng, Zhimin; Wan, Shengq...   \n",
       "2  Linton, M. Natalie; Kobayashi, Tetsuro; Yang, ...   \n",
       "3                   Deng, Sheng-Qun; Peng, Hong-Juan   \n",
       "4                                         Zhang, Wei   \n",
       "\n",
       "                        journal  Microsoft Academic Paper ID WHO #Covidence  \\\n",
       "0            Intensive Care Med                 2.002765e+09          #3252   \n",
       "1                Cell Discovery                 3.003431e+09          #1861   \n",
       "2  Journal of Clinical Medicine                 3.006065e+09          #1043   \n",
       "3                    J Clin Med                 1.776631e+08          #1999   \n",
       "4            Intensive Care Med                 3.006643e+09          #3242   \n",
       "\n",
       "  has_full_text                                     clean_abstract  \n",
       "0          True                                                NaN  \n",
       "1          True                                                NaN  \n",
       "2          True  geograph spread novel coronavirus covid infect...  \n",
       "3          True  decemb case unidentifi pneumonia histori expos...  \n",
       "4         False                                                NaN  "
      ]
     },
     "execution_count": 63,
     "metadata": {},
     "output_type": "execute_result"
    }
   ],
   "source": [
    "metaDataPath = \"~/Downloads/2020-03-13/all_sources_metadata_2020-03-13_clean.csv\"\n",
    "metaData = pd.read_csv(metaDataPath, header = 0)\n",
    "metaData.head()"
   ]
  },
  {
   "cell_type": "code",
   "execution_count": 64,
   "metadata": {},
   "outputs": [],
   "source": [
    "metaData = metaData[metaData[\"clean_abstract\"].notnull()]\n",
    "metaData = metaData[metaData[\"clean_abstract\"].str.contains(\"|\".join([\"coron\", \"covid\"]))]"
   ]
  },
  {
   "cell_type": "markdown",
   "metadata": {},
   "source": [
    "### Load the tf-idf vectorizer"
   ]
  },
  {
   "cell_type": "code",
   "execution_count": 65,
   "metadata": {},
   "outputs": [],
   "source": [
    "vectPath = \"../../../Downloads/2020-03-13/tf-idf_vectorizer.pkl\"\n",
    "with open(vectPath, 'rb') as vectFile:\n",
    "    vectorizer = pickle.load(vectFile)"
   ]
  },
  {
   "cell_type": "markdown",
   "metadata": {},
   "source": [
    "### Transfer abstracts to document-term matrix"
   ]
  },
  {
   "cell_type": "code",
   "execution_count": 66,
   "metadata": {},
   "outputs": [],
   "source": [
    "docTermMatrix = vectorizer.transform(metaData[\"clean_abstract\"][metaData[\"clean_abstract\"].notnull()]).toarray()"
   ]
  },
  {
   "cell_type": "markdown",
   "metadata": {},
   "source": [
    "### Queries for tasks\n",
    "We allow multiple queries for each task. The top relevant articles and sentences will be retrieved for each query. Below we give the example queries we used for each task. One may choose to run any one of them as the target queries or write new queries (in the form of a list of strings). Here we show the results of running the queries for task 1. At the end of the notebook, we provide a mixed short-cut for the results we got for all tasks."
   ]
  },
  {
   "cell_type": "markdown",
   "metadata": {},
   "source": [
    "#### Task 1: What is known about transmission, incubation, and environmental stability?"
   ]
  },
  {
   "cell_type": "code",
   "execution_count": 107,
   "metadata": {},
   "outputs": [],
   "source": [
    "queries = [\n",
    "    \"Range of incubation periods for the disease in humans (and how this varies across age and health status) and how long individuals are contagious, even after recovery.\",\n",
    "    \"Prevalence of asymptomatic shedding and transmission (e.g., particularly children).\",\n",
    "    \"Seasonality of transmission.\",\n",
    "    \"Physical science of the coronavirus (e.g., charge distribution, adhesion to hydrophilic/phobic surfaces, environmental survival to inform decontamination efforts for affected areas and provide information about viral shedding).\",\n",
    "    \"Persistence and stability on a multitude of substrates and sources (e.g., nasal discharge, sputum, urine, fecal matter, blood).\",\n",
    "    \"Persistence of virus on surfaces of different materials (e,g., copper, stainless steel, plastic).\",\n",
    "    \"Natural history of the virus and shedding of it from an infected person\",\n",
    "    \"Implementation of diagnostics and products to improve clinical processes\",\n",
    "    \"Disease models, including animal models for infection, disease and transmission\",\n",
    "    \"Tools and studies to monitor phenotypic change and potential adaptation of the virus\",\n",
    "    \"Immune response and immunity\",\n",
    "    \"Effectiveness of movement control strategies to prevent secondary transmission in health care and community settings\",\n",
    "    \"Effectiveness of personal protective equipment (PPE) and its usefulness to reduce risk of transmission in health care and community settings\",\n",
    "    \"Role of the environment in transmission\"\n",
    "]"
   ]
  },
  {
   "cell_type": "markdown",
   "metadata": {},
   "source": [
    "#### Task 2: What do we know about COVID-19 risk factors?"
   ]
  },
  {
   "cell_type": "code",
   "execution_count": 114,
   "metadata": {},
   "outputs": [],
   "source": [
    "queries = [\n",
    "    \"Smoking, pre-existing pulmonary disease\",\n",
    "    \"Co-infections (determine whether co-existing respiratory/viral infections make the virus more transmissible or virulent) and other co-morbidities\",\n",
    "    \"Neonates and pregnant women\",\n",
    "    \"Socio-economic and behavioral factors to understand the economic impact of the virus and whether there were differences.\",\n",
    "    \"Transmission dynamics of the virus, including the basic reproductive number, incubation period, serial interval, modes of transmission and environmental factors\",\n",
    "    \"Severity of disease, including risk of fatality among symptomatic hospitalized patients, and high-risk patient groups\",\n",
    "    \"Susceptibility of populations\",\n",
    "    \"Public health mitigation measures that could be effective for control\"\n",
    "]"
   ]
  },
  {
   "cell_type": "markdown",
   "metadata": {},
   "source": [
    "#### Task 3: What do we know about virus genetics, origin, and evolution?"
   ]
  },
  {
   "cell_type": "code",
   "execution_count": 122,
   "metadata": {},
   "outputs": [],
   "source": [
    "queries = [\n",
    "    \"Real-time tracking of whole genomes and a mechanism for coordinating the rapid dissemination of that information to inform the development of diagnostics and therapeutics and to track variations of the virus over time.\",\n",
    "    \"Access to geographic and temporal diverse sample sets to understand geographic distribution and genomic differences, and determine whether there is more than one strain in circulation. Multi-lateral agreements such as the Nagoya Protocol could be leveraged.\",\n",
    "    \"Evidence that livestock could be infected (e.g., field surveillance, genetic sequencing, receptor binding) and serve as a reservoir after the epidemic appears to be over.\",\n",
    "    \"Evidence of whether farmers are infected, and whether farmers could have played a role in the origin.\",\n",
    "    \"Surveillance of mixed wildlife- livestock farms for SARS-CoV-2 and other coronaviruses in Southeast Asia.\",\n",
    "    \"Experimental infections to test host range for this pathogen.\",\n",
    "    \"Animal host(s) and any evidence of continued spill-over to humans\",\n",
    "    \"Socioeconomic and behavioral risk factors for this spill-over\",\n",
    "    \"Sustainable risk reduction strategies\"\n",
    "]"
   ]
  },
  {
   "cell_type": "markdown",
   "metadata": {},
   "source": [
    "#### Task 4: What do we know about vaccines and therapeutics?"
   ]
  },
  {
   "cell_type": "code",
   "execution_count": 130,
   "metadata": {},
   "outputs": [],
   "source": [
    "queries = [\n",
    "    \"Effectiveness of drugs being developed and tried to treat COVID-19 patients.\",\n",
    "    \"Clinical and bench trials to investigate less common viral inhibitors against COVID-19 such as naproxen, clarithromycin, and minocyclinethat that may exert effects on viral replication.\",\n",
    "    \"Methods evaluating potential complication of Antibody-Dependent Enhancement (ADE) in vaccine recipients.\",\n",
    "    \"Exploration of use of best animal models and their predictive value for a human vaccine.\",\n",
    "    \"Capabilities to discover a therapeutic (not vaccine) for the disease, and clinical effectiveness studies to discover therapeutics, to include antiviral agents.\",\n",
    "    \"Alternative models to aid decision makers in determining how to prioritize and distribute scarce, newly proven therapeutics as production ramps up. This could include identifying approaches for expanding production capacity to ensure equitable and timely distribution to populations in need.\",\n",
    "    \"Efforts targeted at a universal coronavirus vaccine.\",\n",
    "    \"Efforts to develop animal models and standardize challenge studies\",\n",
    "    \"Efforts to develop prophylaxis clinical studies and prioritize in healthcare workers\",\n",
    "    \"Approaches to evaluate risk for enhanced disease after vaccination\",\n",
    "    \"Assays to evaluate vaccine immune response and process development for vaccines, alongside suitable animal models in conjunction with therapeutics\"\n",
    "]"
   ]
  },
  {
   "cell_type": "markdown",
   "metadata": {},
   "source": [
    "#### Task 5: What has been published about medical care?"
   ]
  },
  {
   "cell_type": "code",
   "execution_count": 138,
   "metadata": {},
   "outputs": [],
   "source": [
    "queries = [\n",
    "    \"Resources to support skilled nursing facilities and long term care facilities.\",\n",
    "    \"Mobilization of surge medical staff to address shortages in overwhelmed communities\",\n",
    "    \"Age-adjusted mortality data for Acute Respiratory Distress Syndrome (ARDS) with/without other organ failure – particularly for viral etiologies\",\n",
    "    \"Extracorporeal membrane oxygenation (ECMO) outcomes data of COVID-19 patients\",\n",
    "    \"Outcomes data for COVID-19 after mechanical ventilation adjusted for age.\",\n",
    "    \"Knowledge of the frequency, manifestations, and course of extrapulmonary manifestations of COVID-19, including, but not limited to, possible cardiomyopathy and cardiac arrest.\",\n",
    "    \"Application of regulatory standards (e.g., EUA, CLIA) and ability to adapt care to crisis standards of care level.\",\n",
    "    \"Approaches for encouraging and facilitating the production of elastomeric respirators, which can save thousands of N95 masks.\",\n",
    "    \"Best telemedicine practices, barriers and faciitators, and specific actions to remove/expand them within and across state boundaries.\",\n",
    "    \"Guidance on the simple things people can do at home to take care of sick people and manage disease.\",\n",
    "    \"Oral medications that might potentially work.\",\n",
    "    \"Use of AI in real-time health care delivery to evaluate interventions, risk factors, and outcomes in a way that could not be done manually.\",\n",
    "    \"Best practices and critical challenges and innovative solutions and technologies in hospital flow and organization, workforce protection, workforce allocation, community-based support resources, payment, and supply chain management to enhance capacity, efficiency, and outcomes.\",\n",
    "    \"Efforts to define the natural history of disease to inform clinical care, public health interventions, infection prevention control, transmission, and clinical trials\",\n",
    "    \"Efforts to develop a core clinical outcome set to maximize usability of data across a range of trials\",\n",
    "    \"Efforts to determine adjunctive and supportive interventions that can improve the clinical outcomes of infected patients (e.g. steroids, high flow oxygen)\"\n",
    "]"
   ]
  },
  {
   "cell_type": "markdown",
   "metadata": {},
   "source": [
    "#### Task 6: What do we know about non-pharmaceutical interventions?"
   ]
  },
  {
   "cell_type": "code",
   "execution_count": 146,
   "metadata": {},
   "outputs": [],
   "source": [
    "queries = [\n",
    "    \"Guidance on ways to scale up NPIs in a more coordinated way (e.g., establish funding, infrastructure and authorities to support real time, authoritative (qualified participants) collaboration with all states to gain consensus on consistent guidance and to mobilize resources to geographic areas where critical shortfalls are identified) to give us time to enhance our health care delivery system capacity to respond to an increase in cases.\",\n",
    "    \"Rapid design and execution of experiments to examine and compare NPIs currently being implemented. DHS Centers for Excellence could potentially be leveraged to conduct these experiments.\",\n",
    "    \"Rapid assessment of the likely efficacy of school closures, travel bans, bans on mass gatherings of various sizes, and other social distancing approaches.\",\n",
    "    \"Methods to control the spread in communities, barriers to compliance and how these vary among different populations.\",\n",
    "    \"Models of potential interventions to predict costs and benefits that take account of such factors as race, income, disability, age, geographic location, immigration status, housing status, employment status, and health insurance status.\",\n",
    "    \"Policy changes necessary to enable the compliance of individuals with limited resources and the underserved with NPIs.\",\n",
    "    \"Research on why people fail to comply with public health advice, even if they want to do so (e.g., social or financial costs may be too high).\",\n",
    "    \"Research on the economic impact of this or any pandemic. This would include identifying policy and programmatic alternatives that lessen/mitigate risks to critical government services, food distribution and supplies, access to critical household supplies, and access to health diagnoses, treatment, and needed care, regardless of ability to pay.\"\n",
    "]"
   ]
  },
  {
   "cell_type": "markdown",
   "metadata": {},
   "source": [
    "#### Task 7: Sample task with sample submission"
   ]
  },
  {
   "cell_type": "code",
   "execution_count": 158,
   "metadata": {},
   "outputs": [],
   "source": [
    "queries = [\n",
    "    \"Are there geographic variations in the rate of COVID-19 spread?\",\n",
    "    \"Are there geographic variations in the mortality rate of COVID-19?\",\n",
    "    \"there any evidence to suggest geographic based virus mutations?\"\n",
    "]"
   ]
  },
  {
   "cell_type": "markdown",
   "metadata": {},
   "source": [
    "#### Task 8: What do we know about diagnostics and surveillance?"
   ]
  },
  {
   "cell_type": "code",
   "execution_count": 166,
   "metadata": {},
   "outputs": [],
   "source": [
    "queries = [\n",
    "    \"How widespread current exposure is to be able to make immediate policy recommendations on mitigation measures. Denominators for testing and a mechanism for rapidly sharing that information, including demographics, to the extent possible. Sampling methods to determine asymptomatic disease (e.g., use of serosurveys (such as convalescent samples) and early detection of disease (e.g., use of screening of neutralizing antibodies such as ELISAs).\",\n",
    "    \"Efforts to increase capacity on existing diagnostic platforms and tap into existing surveillance platforms.\",\n",
    "    \"Recruitment, support, and coordination of local expertise and capacity (public, private—commercial, and non-profit, including academic), including legal, ethical, communications, and operational issues.\",\n",
    "    \"National guidance and guidelines about best practices to states (e.g., how states might leverage universities and private laboratories for testing purposes, communications to public health officials and the public).\",\n",
    "    \"Development of a point-of-care test (like a rapid influenza test) and rapid bed-side tests, recognizing the tradeoffs between speed, accessibility, and accuracy.\",\n",
    "    \"Rapid design and execution of targeted surveillance experiments calling for all potential testers using PCR in a defined area to start testing and report to a specific entity. These experiments could aid in collecting longitudinal samples, which are critical to understanding the impact of ad hoc local interventions (which also need to be recorded).\",\n",
    "    \"Separation of assay development issues from instruments, and the role of the private sector to help quickly migrate assays onto those devices.\",\n",
    "    \"Efforts to track the evolution of the virus (i.e., genetic drift or mutations) and avoid locking into specific reagents and surveillance/detection schemes.\",\n",
    "    \"Latency issues and when there is sufficient viral load to detect the pathogen, and understanding of what is needed in terms of biological and environmental sampling.\",\n",
    "    \"Use of diagnostics such as host response markers (e.g., cytokines) to detect early disease or predict severe disease progression, which would be important to understanding best clinical practice and efficacy of therapeutic interventions.\",\n",
    "    \"Policies and protocols for screening and testing.\",\n",
    "    \"Policies to mitigate the effects on supplies associated with mass testing, including swabs and reagents.\",\n",
    "    \"Technology roadmap for diagnostics.\",\n",
    "    \"Barriers to developing and scaling up new diagnostic tests (e.g., market forces), how future coalition and accelerator models (e.g., Coalition for Epidemic Preparedness Innovations) could provide critical funding for diagnostics, and opportunities for a streamlined regulatory environment.\",\n",
    "    \"New platforms and technology (e.g., CRISPR) to improve response times and employ more holistic approaches to COVID-19 and future diseases.\",\n",
    "    \"Coupling genomics and diagnostic testing on a large scale.\",\n",
    "    \"Enhance capabilities for rapid sequencing and bioinformatics to target regions of the genome that will allow specificity for a particular variant.\",\n",
    "    \"Enhance capacity (people, technology, data) for sequencing with advanced analytics for unknown pathogens, and explore capabilities for distinguishing naturally-occurring pathogens from intentional.\",\n",
    "    \"One Health surveillance of humans and potential sources of future spillover or ongoing exposure for this organism and future pathogens, including both evolutionary hosts (e.g., bats) and transmission hosts (e.g., heavily trafficked and farmed wildlife and domestic food and companion species), inclusive of environmental, demographic, and occupational risk factors.\"\n",
    "]"
   ]
  },
  {
   "cell_type": "markdown",
   "metadata": {},
   "source": [
    "#### Task 9: What has been published about ethical and social science considerations?"
   ]
  },
  {
   "cell_type": "code",
   "execution_count": 174,
   "metadata": {},
   "outputs": [],
   "source": [
    "queries = [\n",
    "    \"Efforts to articulate and translate existing ethical principles and standards to salient issues in COVID-2019\",\n",
    "    \"Efforts to embed ethics across all thematic areas, engage with novel ethical issues that arise and coordinate to minimize duplication of oversight\",\n",
    "    \"Efforts to support sustained education, access, and capacity building in the area of ethics\",\n",
    "    \"Efforts to establish a team at WHO that will be integrated within multidisciplinary research and operational platforms and that will connect with existing and expanded global networks of social sciences.\",\n",
    "    \"Efforts to develop qualitative assessment frameworks to systematically collect information related to local barriers and enablers for the uptake and adherence to public health measures for prevention and control. This includes the rapid identification of the secondary impacts of these measures. (e.g. use of surgical masks, modification of health seeking behaviors for SRH, school closures)\",\n",
    "    \"Efforts to identify how the burden of responding to the outbreak and implementing public health measures affects the physical and psychological health of those providing care for Covid-19 patients and identify the immediate needs that must be addressed.\",\n",
    "    \"Efforts to identify the underlying drivers of fear, anxiety and stigma that fuel misinformation and rumor, particularly through social media.\"\n",
    "]"
   ]
  },
  {
   "cell_type": "markdown",
   "metadata": {},
   "source": [
    "#### Task 10: What has been published about information sharing and inter-sectoral collaboration?"
   ]
  },
  {
   "cell_type": "code",
   "execution_count": 106,
   "metadata": {},
   "outputs": [],
   "source": [
    "queries = [\n",
    "    \"Methods for coordinating data-gathering with standardized nomenclature.\",\n",
    "    \"Sharing response information among planners, providers, and others.\",\n",
    "    \"Understanding and mitigating barriers to information-sharing.\",\n",
    "    \"How to recruit, support, and coordinate local (non-Federal) expertise and capacity relevant to public health emergency response (public, private, commercial and non-profit, including academic).\",\n",
    "    \"Integration of federal/state/local public health surveillance systems.\",\n",
    "    \"Value of investments in baseline public health response infrastructure preparedness\",\n",
    "    \"Modes of communicating with target high-risk populations (elderly, health care workers).\",\n",
    "    \"Risk communication and guidelines that are easy to understand and follow (include targeting at risk populations’ families too).\",\n",
    "    \"Communication that indicates potential risk of disease to all population groups.\",\n",
    "    \"Misunderstanding around containment and mitigation.\",\n",
    "    \"Action plan to mitigate gaps and problems of inequity in the Nation’s public health capability, capacity, and funding to ensure all citizens in need are supported and can access information, surveillance, and treatment.\",\n",
    "    \"Measures to reach marginalized and disadvantaged populations.Data systems and research priorities and agendas incorporate attention to the needs and circumstances of disadvantaged populations and underrepresented minorities.\",\n",
    "    \"Mitigating threats to incarcerated people from COVID-19, assuring access to information, prevention, diagnosis, and treatment.\",\n",
    "    \"Understanding coverage policies (barriers and opportunities) related to testing, treatment, and care\"\n",
    "]"
   ]
  },
  {
   "cell_type": "markdown",
   "metadata": {},
   "source": [
    "### Transfer queries to query-term matrix"
   ]
  },
  {
   "cell_type": "code",
   "execution_count": 175,
   "metadata": {},
   "outputs": [],
   "source": [
    "normQueries = [textNormalize(q) for q in queries] # Text normalization for all queries\n",
    "queryTermMatrix = vectorizer.transform(normQueries).toarray()"
   ]
  },
  {
   "cell_type": "markdown",
   "metadata": {},
   "source": [
    "### Level 1: retrieve top related articles based on cosine similarity between tf-idf vectors"
   ]
  },
  {
   "cell_type": "markdown",
   "metadata": {},
   "source": [
    "Compute cosine similarity between each query and all abstracts."
   ]
  },
  {
   "cell_type": "code",
   "execution_count": 176,
   "metadata": {},
   "outputs": [
    {
     "name": "stdout",
     "output_type": "stream",
     "text": [
      "Time spent: 1.56s.\n"
     ]
    }
   ],
   "source": [
    "startTime = time.time()\n",
    "queryDocDist = 1 - cdist(queryTermMatrix, docTermMatrix, metric = 'cosine')\n",
    "print(\"Time spent: \" + str(round((time.time() - startTime), 3)) + \"s.\")"
   ]
  },
  {
   "cell_type": "code",
   "execution_count": 177,
   "metadata": {},
   "outputs": [],
   "source": [
    "def retrieveTopLiter(queries, queryDocDist, outputPath, nDoc = 5, showResults = True):\n",
    "    \"\"\"\n",
    "    Function to retrieve the top n literatures for each query based on cosine similarities between query tf-idf \n",
    "    representations and literature tf-idf representations. \n",
    "    Input:\n",
    "        queries: a list of m strings where each string is a text normalized query.\n",
    "        queryDocDist: a m x n array that gives the pairwise cosine similarity between the m queries and n literatures.\n",
    "        outputPath: a string specifies the path to the output file.\n",
    "        nDoc (default 5): the number of literatures to be retrieved for each query.\n",
    "        showResults (default True): whether show the results in the terminal.\n",
    "    Output:\n",
    "        The abstract and metadata of the retrieved literatures will be written to the output file specified by\n",
    "        outputPath.\n",
    "    \"\"\"\n",
    "    outputFile = open(outputPath, \"w\")\n",
    "    for i in range(len(queries)):\n",
    "        print(\"Query: \", queries[i])\n",
    "        print(\"\")\n",
    "        outputFile.write(\"Query: \" + queries[i] + \"\\n\\n\")\n",
    "        docCount = 1\n",
    "        for idx in queryDocDist[i].argsort()[-nDoc:][::-1]:\n",
    "            docMeta = metaData[metaData[\"abstract\"].notnull()].iloc[idx]\n",
    "            if showResults:\n",
    "                print(\"#\" + str(docCount) + \" article\")\n",
    "                print(\"Cosine similarity: \", queryDocDist[i][idx])\n",
    "                print(\"PMC_ID: \", docMeta[\"pmcid\"])\n",
    "                print(\"doi: \", docMeta[\"doi\"])\n",
    "                print(\"Title: \", docMeta[\"title\"])\n",
    "                print(\"Abstract: \", docMeta[\"abstract\"])\n",
    "                print(\"Has full text: \", docMeta[\"has_full_text\"])\n",
    "                print(\"\")\n",
    "            \n",
    "            outputFile.write(\"#\" + str(docCount) + \" article\\n\")\n",
    "            outputFile.write(\"Cosine similarity: \" + str(round(queryDocDist[i][idx], 5)) + \"\\n\")\n",
    "            outputFile.write(\"PMC_ID: \" + str(docMeta[\"pmcid\"]) + \"\\n\")\n",
    "            outputFile.write(\"doi: \" + str(docMeta[\"doi\"]) + \"\\n\")\n",
    "            outputFile.write(\"Title: \" + docMeta[\"title\"] + \"\\n\")\n",
    "            outputFile.write(\"Abstract: \" + docMeta[\"abstract\"] + \"\\n\")\n",
    "            outputFile.write(\"Has full text: \" + str(docMeta[\"has_full_text\"]) + \"\\n\\n\")\n",
    "            \n",
    "            docCount += 1\n",
    "    outputFile.close()\n",
    "    return"
   ]
  },
  {
   "cell_type": "markdown",
   "metadata": {},
   "source": [
    "List out the meta information for top 5 related articles"
   ]
  },
  {
   "cell_type": "code",
   "execution_count": 178,
   "metadata": {},
   "outputs": [
    {
     "name": "stdout",
     "output_type": "stream",
     "text": [
      "Query:  Efforts to articulate and translate existing ethical principles and standards to salient issues in COVID-2019\n",
      "\n",
      "#1 article\n",
      "Cosine similarity:  0.3240790939247129\n",
      "PMC_ID:  PMC4750516\n",
      "doi:  http://dx.doi.org/10.3961/jpmph.16.013\n",
      "Title:  Ethical Perspectives on the Middle East Respiratory Syndrome Coronavirus Epidemic in Korea\n",
      "Abstract:  Ethical considerations are essential in planning for and responding to outbreaks of infectious diseases. During the outbreak of Middle East respiratory syndrome coronavirus (MERS-CoV) in the Republic of Korea in 2015, serious challenges emerged regarding important ethical issues, such as transparency and the protection of privacy. The development of bioethics in Korea has been influenced by individualistic perspectives applied in clinical contexts, leading to a paucity of ethical perspectives relevant to population-level phenomena such as outbreaks. Alternative theories of public health ethics include the perspectives of relational autonomy and the patient as victim and vector. Public health actions need to incorporate clear and systematic procedures founded upon ethical principles. The MERS-CoV epidemic in Korea created significant public support for more aggressive early interventions in future outbreaks. This trend makes it all the more imperative for ethical principles and procedures to be implemented in future planning and responses to outbreaks in order to promote perceptions of legitimacy and civic participation.\n",
      "Has full text:  True\n",
      "\n",
      "#2 article\n",
      "Cosine similarity:  0.1572101689996106\n",
      "PMC_ID:  nan\n",
      "doi:  10.26355/eurrev_202002_20378\n",
      "Title:  COVID-19 (Novel Coronavirus 2019) - recent trends\n",
      "Abstract:  The World Health Organization (WHO) has issued a warning that, although the 2019 novel coronavirus (COVID-19) from Wuhan City (China), is not pandemic, it should be contained to prevent the global spread. The COVID-19 virus was known earlier as 2019-nCoV. As of 12 February 2020, WHO reported 45,171 cases and 1115 deaths related to COVID-19. COVID-19 is similar to Severe Acute Respiratory Syndrome coronavirus (SARS-CoV) virus in its pathogenicity, clinical spectrum, and epidemiology. Comparison of the genome sequences of COVID-19, SARS-CoV, and Middle East Respiratory Syndrome coronavirus (MERS-CoV) showed that COVID-19 has a better sequence identity with SARS-CoV compared to MERS CoV. However, the amino acid sequence of COVID-19 differs from other coronaviruses specifically in the regions of 1ab polyprotein and surface glycoprotein or S-protein. Although several animals have been speculated to be a reservoir for COVID-19, no animal reservoir has been already confirmed. COVID-19 causes COVID-19 disease that has similar symptoms as SARS-CoV. Studies suggest that the human receptor for COVID-19 may be angiotensin-converting enzyme 2 (ACE2) receptor similar to that of SARS-CoV. The nucleocapsid (N) protein of COVID-19 has nearly 90% amino acid sequence identity with SARS-CoV. The N protein antibodies of SARS-CoV may cross react with COVID-19 but may not provide cross-immunity. In a similar fashion to SARS-CoV, the N protein of COVID-19 may play an important role in suppressing the RNA interference (RNAi) to overcome the host defense. This mini-review aims at investigating the most recent trend of COVID-19.\n",
      "Has full text:  nan\n",
      "\n",
      "#3 article\n",
      "Cosine similarity:  0.14195514426954192\n",
      "PMC_ID:  nan\n",
      "doi:  10.33546/bnj.1058\n",
      "Title:  THREE NOTICEABLE ISSUES ON NOVEL CORONAVIRUS: A QUICK LOOK FROM VIETNAM’S CIRCUMSTANCES\n",
      "Abstract:  Novel Coronavirus officially COVID-19 has been detected since December 2019 and it has become a global health issue concern today. According to the statistics from the Vietnam’s Ministry of Health, until 13February 2020, Vietnam has fifteen positive cases with COVID-19, which one of those is a 3-month-old baby (Ministry of Health, 2020). It is estimated that the COVID-19 outbreak will be reached the top in the next ten days due to the excessive worrying and wrong behaviors towards the virus (Thu, 2020). In this letter, the author presents three noticeable issues based on the current situation in Vietnam and efforts that nurses should do\n",
      "Has full text:  nan\n",
      "\n",
      "#4 article\n",
      "Cosine similarity:  0.12799174534080415\n",
      "PMC_ID:  nan\n",
      "doi:  10.1016/j.clinimag.2020.02.008\n",
      "Title:  Asymptomatic novel coronavirus pneumonia patient outside WuHan: The value of CT images in the course of the disease\n",
      "Abstract:  The purpose of this case report is to describe the imaging and associated clinical features of an asymptomatic novel coronavirus pneumonia (COVID-19) patient outside WuHan, China. The principle findings are that in this patient with laboratory-confirmed COVID-19, CT findings preceded symptoms and included bilateral pleural effusions, previously not reported in association with COVID-19. The role of this case report is promotion of potential recognition amongst radiologists of this new disease, which has been declared a global health emergency by the World Health Organization (WHO).\n",
      "Has full text:  nan\n",
      "\n",
      "#5 article\n",
      "Cosine similarity:  0.1277914819256467\n",
      "PMC_ID:  PMC4932258\n",
      "doi:  http://dx.doi.org/10.1136/bmjopen-2016-011341\n",
      "Title:  Patient and family satisfaction levels in the intensive care unit after elective cardiac surgery: study protocol for a randomised controlled trial of a preoperative patient education intervention\n",
      "Abstract:  INTRODUCTION: Patients and their families are understandably anxious about the risk of complications and unfamiliar experiences following cardiac surgery. Providing information about postoperative care in the intensive care unit (ICU) to patients and families may lead to lower anxiety levels, and increased satisfaction with healthcare. The objectives of this study are to evaluate the effectiveness of preoperative patient education provided for patients undergoing elective cardiac surgery. METHODS AND ANALYSIS: 100 patients undergoing elective coronary artery bypass graft, with or without valve replacement surgery, will be recruited into a 2-group, parallel, superiority, double-blinded randomised controlled trial. Participants will be randomised to either preoperative patient education comprising of a video and ICU tour with standard care (intervention) or standard education (control). The primary outcome measures are the satisfaction levels of patients and family members with ICU care and decision-making in the ICU. The secondary outcome measures are patient anxiety and depression levels before and after surgery. ETHICS AND DISSEMINATION: Ethical approval has been obtained from the Joint Chinese University of Hong Kong—New Territories East Cluster Clinical Research Ethics Committee (reference number CREC 2015.308). The findings will be presented at conferences and published in peer-reviewed journals. Study participants will receive a 1-page plain language summary of results. TRIAL REGISTRATION NUMBER: ChiCTR-IOR-15006971.\n",
      "Has full text:  True\n",
      "\n",
      "Query:  Efforts to embed ethics across all thematic areas, engage with novel ethical issues that arise and coordinate to minimize duplication of oversight\n",
      "\n",
      "#1 article\n",
      "Cosine similarity:  0.37005516524006876\n",
      "PMC_ID:  PMC4750516\n",
      "doi:  http://dx.doi.org/10.3961/jpmph.16.013\n",
      "Title:  Ethical Perspectives on the Middle East Respiratory Syndrome Coronavirus Epidemic in Korea\n",
      "Abstract:  Ethical considerations are essential in planning for and responding to outbreaks of infectious diseases. During the outbreak of Middle East respiratory syndrome coronavirus (MERS-CoV) in the Republic of Korea in 2015, serious challenges emerged regarding important ethical issues, such as transparency and the protection of privacy. The development of bioethics in Korea has been influenced by individualistic perspectives applied in clinical contexts, leading to a paucity of ethical perspectives relevant to population-level phenomena such as outbreaks. Alternative theories of public health ethics include the perspectives of relational autonomy and the patient as victim and vector. Public health actions need to incorporate clear and systematic procedures founded upon ethical principles. The MERS-CoV epidemic in Korea created significant public support for more aggressive early interventions in future outbreaks. This trend makes it all the more imperative for ethical principles and procedures to be implemented in future planning and responses to outbreaks in order to promote perceptions of legitimacy and civic participation.\n",
      "Has full text:  True\n",
      "\n",
      "#2 article\n",
      "Cosine similarity:  0.14669483780579518\n",
      "PMC_ID:  PMC4932258\n",
      "doi:  http://dx.doi.org/10.1136/bmjopen-2016-011341\n",
      "Title:  Patient and family satisfaction levels in the intensive care unit after elective cardiac surgery: study protocol for a randomised controlled trial of a preoperative patient education intervention\n",
      "Abstract:  INTRODUCTION: Patients and their families are understandably anxious about the risk of complications and unfamiliar experiences following cardiac surgery. Providing information about postoperative care in the intensive care unit (ICU) to patients and families may lead to lower anxiety levels, and increased satisfaction with healthcare. The objectives of this study are to evaluate the effectiveness of preoperative patient education provided for patients undergoing elective cardiac surgery. METHODS AND ANALYSIS: 100 patients undergoing elective coronary artery bypass graft, with or without valve replacement surgery, will be recruited into a 2-group, parallel, superiority, double-blinded randomised controlled trial. Participants will be randomised to either preoperative patient education comprising of a video and ICU tour with standard care (intervention) or standard education (control). The primary outcome measures are the satisfaction levels of patients and family members with ICU care and decision-making in the ICU. The secondary outcome measures are patient anxiety and depression levels before and after surgery. ETHICS AND DISSEMINATION: Ethical approval has been obtained from the Joint Chinese University of Hong Kong—New Territories East Cluster Clinical Research Ethics Committee (reference number CREC 2015.308). The findings will be presented at conferences and published in peer-reviewed journals. Study participants will receive a 1-page plain language summary of results. TRIAL REGISTRATION NUMBER: ChiCTR-IOR-15006971.\n",
      "Has full text:  True\n",
      "\n",
      "#3 article\n",
      "Cosine similarity:  0.11737692520089726\n",
      "PMC_ID:  PMC4456257\n",
      "doi:  http://dx.doi.org/10.1016/j.coviro.2015.01.002\n",
      "Title:  Study of viral pathogenesis in humanized mice\n",
      "Abstract:  Many of the viral pathogens that cause infectious disease in humans have a highly restricted species tropism, making the study of their pathogenesis and the development of clinical therapies difficult. The improvement of humanized mouse models over the past 30 years has greatly facilitated researchers’ abilities to study host responses to viral infections in a cost effective and ethical manner. From HIV to hepatotropic viruses to Middle East respiratory syndrome coronavirus, humanized mice have led to the identification of factors crucial to the viral life cycle, an outlet for testing candidate therapies, and improved analysis of human immune responses to infection. In tackling both the new and old viruses as they emerge, humanized mice will continue to be an indispensable tool.\n",
      "Has full text:  nan\n",
      "\n",
      "#4 article\n",
      "Cosine similarity:  0.10668168118906929\n",
      "PMC_ID:  PMC4462269\n",
      "doi:  http://dx.doi.org/10.5152/tpa.2014.1121\n",
      "Title:  Ten year retrospective evaluation of the seasonal distribution of agent viruses in childhood respiratory tract infections\n",
      "Abstract:  AIM: Infections caused by respiratory viruses sometimes occur as epidemias or pandemias and are an important public health problem in the whole world. These viral agents may lead to severe respiratory diseases especially in young children and in the elderly. The aim of this study was to determine the seasonal distribution of agent viruses in childhood respiratory infections in our region. MATERIAL AND METHODS: In this study, nasopharyngeal swab sample was obtained from 1 326 patients who presented to Ege University, Medical Faculty Children’s Hospital between 2002 and 2012 and who were thought to have respiratory tract infection. Influenza virus type A and B, respiratory syncytial virus, adenovirus and parainfluenza virus type 1–3 were investigated using shell-vial cell culture method and direct fluorescent antibody test and/or multiplex PCR test. Parainfluenza virus type 4, human metapneumovirus, rhinovirus, coronavirus, human bocavirus were investigated using multiplex PCR test. The seasonal distributions of the viruses were determined according to the results obtained from Ege University Medical Faculty, Department of Medical Microbiology Clinical Virology Laboratory. Approval was obtained from the ethics committee (Ege University Clinical Researches Ethics Committee, 12.02.2013, number: 13–1/46). RESULTS: The majority of the patients who presented were outpatients (n:888, 67%) and the remainder were hospitalized patients (33%, n:438). Respiratory viruses were found in 503 of the nasopharyngeal swab samples (38%). Parainfluenza and respiratory syncytial virus were found most frequently in December–february (58% and 59%, respectively, influenza viruses were found most frequently in November–december (72%) and adenoviruses were found most frequently in may–september (56%). CONCLUSION: Although only supportive therapies are administered generally in viral infections, viral investigations are important in terms of determining the measures to be taken by determining the causes as well as in terms of establishing a general database. Another benefit of this study would be strengthening clinical approach to patients and decreasing unnecessary antibiotic use.\n",
      "Has full text:  nan\n",
      "\n",
      "#5 article\n",
      "Cosine similarity:  0.09301152809358715\n",
      "PMC_ID:  PMC4550170\n",
      "doi:  http://dx.doi.org/10.3201/eid2109.150476\n",
      "Title:  Laboratory Testing for Middle East Respiratory Syndrome Coronavirus, California, USA, 2013–2014\n",
      "Abstract:  Since Middle East respiratory syndrome coronavirus (MERS-CoV) first emerged, the California Department of Public Health has coordinated efforts to identify possible cases in travelers to California, USA, from affected areas. During 2013–2014, the department investigated 54 travelers for MERS-CoV; none tested positive, but 32 (62%) of 52 travelers with suspected MERS-CoV had other respiratory viruses.\n",
      "Has full text:  True\n",
      "\n",
      "Query:  Efforts to support sustained education, access, and capacity building in the area of ethics\n",
      "\n",
      "#1 article\n",
      "Cosine similarity:  0.30812296098197023\n",
      "PMC_ID:  PMC4750516\n",
      "doi:  http://dx.doi.org/10.3961/jpmph.16.013\n",
      "Title:  Ethical Perspectives on the Middle East Respiratory Syndrome Coronavirus Epidemic in Korea\n",
      "Abstract:  Ethical considerations are essential in planning for and responding to outbreaks of infectious diseases. During the outbreak of Middle East respiratory syndrome coronavirus (MERS-CoV) in the Republic of Korea in 2015, serious challenges emerged regarding important ethical issues, such as transparency and the protection of privacy. The development of bioethics in Korea has been influenced by individualistic perspectives applied in clinical contexts, leading to a paucity of ethical perspectives relevant to population-level phenomena such as outbreaks. Alternative theories of public health ethics include the perspectives of relational autonomy and the patient as victim and vector. Public health actions need to incorporate clear and systematic procedures founded upon ethical principles. The MERS-CoV epidemic in Korea created significant public support for more aggressive early interventions in future outbreaks. This trend makes it all the more imperative for ethical principles and procedures to be implemented in future planning and responses to outbreaks in order to promote perceptions of legitimacy and civic participation.\n",
      "Has full text:  True\n",
      "\n",
      "#2 article\n",
      "Cosine similarity:  0.2078960470662401\n",
      "PMC_ID:  PMC4932258\n",
      "doi:  http://dx.doi.org/10.1136/bmjopen-2016-011341\n",
      "Title:  Patient and family satisfaction levels in the intensive care unit after elective cardiac surgery: study protocol for a randomised controlled trial of a preoperative patient education intervention\n",
      "Abstract:  INTRODUCTION: Patients and their families are understandably anxious about the risk of complications and unfamiliar experiences following cardiac surgery. Providing information about postoperative care in the intensive care unit (ICU) to patients and families may lead to lower anxiety levels, and increased satisfaction with healthcare. The objectives of this study are to evaluate the effectiveness of preoperative patient education provided for patients undergoing elective cardiac surgery. METHODS AND ANALYSIS: 100 patients undergoing elective coronary artery bypass graft, with or without valve replacement surgery, will be recruited into a 2-group, parallel, superiority, double-blinded randomised controlled trial. Participants will be randomised to either preoperative patient education comprising of a video and ICU tour with standard care (intervention) or standard education (control). The primary outcome measures are the satisfaction levels of patients and family members with ICU care and decision-making in the ICU. The secondary outcome measures are patient anxiety and depression levels before and after surgery. ETHICS AND DISSEMINATION: Ethical approval has been obtained from the Joint Chinese University of Hong Kong—New Territories East Cluster Clinical Research Ethics Committee (reference number CREC 2015.308). The findings will be presented at conferences and published in peer-reviewed journals. Study participants will receive a 1-page plain language summary of results. TRIAL REGISTRATION NUMBER: ChiCTR-IOR-15006971.\n",
      "Has full text:  True\n",
      "\n",
      "#3 article\n",
      "Cosine similarity:  0.16511960305505957\n",
      "PMC_ID:  nan\n",
      "doi:  doi.org/10.1101/2020.01.24.919159\n",
      "Title:  2019-20 Wuhan coronavirus outbreak: Intense surveillance is vital for preventing sustained transmission in new locations\n",
      "Abstract:  The outbreak of pneumonia originating in Wuhan, China, has generated 830 confirmed cases, including 26 deaths, as of 24 January 2020. The virus (2019-nCoV) has spread elsewhere in China and to other countries, including South Korea, Thailand, Japan and USA. Fortunately, there has not yet been evidence of sustained human-to-human transmission outside of China. Here we assess the risk of sustained transmission whenever the coronavirus arrives in other countries. Data describing the times from symptom onset to hospitalisation for 47 patients infected in the current outbreak are used to generate an estimate for the probability that an imported case is followed by sustained human-to-human transmission. Under the assumptions that the imported case is representative of the patients in China, and that the 2019-nCoV is similarly transmissible to the SARS coronavirus, the probability that an imported case is followed by sustained human-to-human transmission is 0.37. However, if the mean time from symptom onset to hospitalisation can be halved by intense surveillance, then the probability that an imported case leads to sustained transmission is only 0.005. This emphasises the importance of current surveillance efforts in countries around the world, to ensure that the ongoing outbreak will not become a large global epidemic.\n",
      "Has full text:  True\n",
      "\n",
      "#4 article\n",
      "Cosine similarity:  0.1575368678330742\n",
      "PMC_ID:  nan\n",
      "doi:  10.31646/gbio.50\n",
      "Title:  Wuhan novel coronavirus 2019nCoV\n",
      "Abstract:  Information about the open-access article 'Wuhan novel coronavirus 2019nCoV' in DOAJ. DOAJ is an online directory that indexes and provides access to quality open access, peer-reviewed journals.\n",
      "Has full text:  True\n",
      "\n",
      "#5 article\n",
      "Cosine similarity:  0.15125932572328038\n",
      "PMC_ID:  nan\n",
      "doi:  10.20535/ibb.2020.4.1.195074\n",
      "Title:  Statistics-Based Predictions of Coronavirus Epidemic Spreading in Mainland China\n",
      "Abstract:  Information about the open-access article 'Statistics-Based Predictions of Coronavirus Epidemic Spreading in Mainland China' in DOAJ. DOAJ is an online directory that indexes and provides access to quality open access, peer-reviewed journals.\n",
      "Has full text:  True\n",
      "\n",
      "Query:  Efforts to establish a team at WHO that will be integrated within multidisciplinary research and operational platforms and that will connect with existing and expanded global networks of social sciences.\n",
      "\n",
      "#1 article\n",
      "Cosine similarity:  0.18541300855718368\n",
      "PMC_ID:  nan\n",
      "doi:  10.1126/science.367.6478.606\n",
      "Title:  China virus response criticized as slow\n",
      "Abstract:  As the novel coronavirus that emerged in Wuhan spreads worldwide (p. 610), China is facing criticism that its initial response was slow, and questions persist about officials' openness. People in and outside of China have praised an early warning about mysterious illnesses, sounded in a message sent 30 December 2019 by Li Wenliang, an ophthalmologist at a Wuhan hospital, to his medical school classmates. On 3 January, however, local police summoned Li, chastised him for spreading socially disruptive rumors, and made him sign a letter of self-criticism. He has since become infected and was hospitalized. Last week, the country's highest court faulted Li's detention as overreach. China is waging a fierce battle against the virus; it built a new, 1000-bed hospital in Wuhan in just 10 days, and Chinese scientists have published several papers on the virus. But in a 30 January statement leaked on social media, China's Ministry of Science and Technology urged researchers to pour their efforts into stopping its spread instead. “Until the task of prevention and control is completed, the focus should not be on the publication of papers,” the statement says As the novel coronavirus that emerged in Wuhan spreads worldwide (p. [610][1]), China is facing criticism that its initial response was slow, and questions persist about officials' openness. People in and outside of China have praised an early warning about mysterious illnesses, sounded in a message sent 30 December 2019 by Li Wenliang, an ophthalmologist at a Wuhan hospital, to his medical school classmates. On 3 January, however, local police summoned Li, chastised him for spreading socially disruptive rumors, and made him sign a letter of self-criticism. He has since become infected and was hospitalized. Last week, the country's highest court faulted Li's detention as overreach. China is waging a fierce battle against the virus; it built a new, 1000-bed hospital in Wuhan in just 10 days, and Chinese scientists have published several papers on the virus. But in a 30 January statement leaked on social media, China's Ministry of Science and Technology urged researchers to pour their efforts into stopping its spread instead. “Until the task of prevention and control is completed, the focus should not be on the publication of papers,” the statement says. > “Employees … are questioning whether they should post potentially life-saving info or check tweets first.” > > A September 2019 email by a National Weather Service official , reported by The Washington Post, after superiors rebuked forecasters for contradicting the president's inaccurate tweets about Hurricane Dorian's path. ### Agriculture The largest plague of desert locusts ( Schistocerca gregaria ) in decades is advancing across the Horn of Africa, consuming crops and threatening famine. The problem began in 2018 when unusually heavy rains on the Arabian Peninsula allowed populations to boom over several generations. In October 2019, the locusts swarmed south into Ethiopia, Eritrea, and Somalia, and in late December, they spread to Kenya, causing the worst infestation there in 70 years. Somalia—which last week declared a national emergency and asked for increased food aid—has already lost 100,000 hectares of crops and pasture. Another generation of locusts will likely hatch this month and cause more damage. The Food and Agriculture Organization of the United Nations called for $70 million to fight the outbreak with pesticides and help farmers. ### Glaciology After dropping sensors and a torpedo-shaped robot through a 700-meter hole in the ice, scientists in Antarctica last week revealed the first direct evidence that warm ocean temperatures around the rapidly retreating Thwaites Glacier could destabilize the key ice sheet. Researchers are worried because Thwaites—larger than the state of Illinois—helps block the ocean from reaching and warming the even bigger, unstable West Antarctic Ice Sheet, whose melting could eventually drive meters of sea level rise. Battling 2 months of stormy conditions, the team measured ocean waters beneath Thwaites at more than 2°C above the freezing point. The robot, Icefin (above, shown operating elsewhere in Antarctica), provided the first images of the glacier's grounding zone, the mysterious boundary where the floating coastal ice sheet attaches to bedrock. The project is part of the International Thwaites Glacier Collaboration, a multiyear effort by the United States and the United Kingdom that is wrapping up its first full field season. ### Leadership Some researchers in Colombia are calling for a little-known molecular biologist appointed as the country's first ever science minister to resign. They are outraged by reports that she treated cancer patients with a fungal extract, without running a formal clinical trial. “We can only regret that the course of how to do science in our country has been left in the hands of pseudoscience,” the Colombian Association of Medical Faculties wrote in a statement. In December 2019, Mabel Gisela Torres Torres was appointed to lead the newly created Ministry of Science, Technology and Innovation. In January, she told a newspaper she did not seek formal ethical, safety, and efficacy reviews of her work with patients because she believed the fungus posed no threat to human health. Her Ph.D. adviser has defended her and notes that metabolites in the fungi Torres studied have shown potential as a cancer treatment in cell and mouse studies. ### Environmental science ![Figure][2] CREDITS: (GRAPHIC) J. BRAINARD/ SCIENCE ; (DATA) UNITED NATIONS UNIVERSITY INSTITUTE FOR WATER, ENVIRONMENT, AND HEALTH The world's growing flows of wastewater offer a largely untapped, potentially lucrative source of energy, agricultural fertilizers, and water for irrigation, a comprehensive study says. The opportunities will increase as the annual volume of wastewater—now 380 billion cubic meters—expands by an estimated 51% by 2050, as populations and incomes multiply, says a team led by researchers at United Nations University's Institute for Water, Environment, and Health. About 13% of global demand for fertilizer could be met by recovering nitrogen, phosphorus, and potash from wastewater; such use provides a bonus, diverting nutrients from waterways, where they can create harmful eutrophication. Sewage also offers an alternative energy source. The need to plan and finance such recovery efforts is greatest in “low- and middle-income countries, where most municipal wastewater still goes into the environment untreated,” says the study, published 27 January in Natural Resources Forum. ### Conservation A decision by South Africa's government to allow breeding and genetic research on more than 30 wild species—including rhinos, lions, and cheetahs—could considerably reduce their genetic diversity, scientists warned last week. The government's action has been interpreted to allow breeders to select for commercially desirable traits, such as longer horns or larger body size; that could create genetic bottlenecks by promoting a few stud lines, the researchers wrote in the South African Journal of Science. They added that it may prove expensive or impossible to keep the intensively bred animals from mating with wild counterparts. A handful of game ranchers requested the policy, which South Africa announced in May 2019 without consulting the public or studying potential consequences. Game ranching —for hunting, meat, and tourism—already occupies more than 15% of the country, and the government wants to expand the industry. ### Funding The U.S. National Science Foundation (NSF) announced this week seven winners in its contest for “big ideas” to address societal problems. Four winning teams will receive $26,000 each to develop ideas on topics ranging from using artificial intelligence for complex problem-solving to developing small-scale technologies that sequester carbon dioxide. Three more teams earned $10,000 as runners-up. The 2026 Idea Machine contest attracted almost 800 submissions, and although some high schoolers made it to the semifinals, all the winners work at research institutions. NSF hopes to fund workshops and exploratory grants to further develop these and other ideas from contestants. ### Publishing A software company said last week it has teamed up with publishing giant Wiley to roll out in mid-2020 a tool that can signal whether findings in Wiley's scientific papers are reproducible. The software, called [Scite.ai][3], uses artificial intelligence to examine articles that cite a paper, and determines and displays whether they provide evidence supporting or contradicting the paper's findings. Users can browse and search the relevant text of the citing articles. Scite CEO Josh Nicholson says the software allows users to home in on articles that attempted to reproduce a study; of every 100 citations analyzed, Scite has found that 94 merely note the paper cited. The addition of Wiley's articles will expand Scite's current trove of more than 14 million papers from other publishers, most in the biomedical sciences. Nicholson expects his company to sign agreements with additional publishers to analyze their articles. ### Biomedicine The Chan Zuckerberg Initiative (CZI) said this week it will award $13.5 million to 30 patient advocacy groups to support their work finding treatments for rare diseases. Of an estimated 7000 rare diseases, fewer than 5% have treatments approved by the U.S. Food and Drug Administration. Each group will receive $450,000 over 2 years as well as training and mentoring as part of the foundation's Rare As One Project, launched last year to help advocates develop networks of patients, clinicians, and scientists. Most of the diseases are autoimmune, neurodegenerative, and other inherited disorders, but the list of diseases also includes rare cancers. CZI, founded by Facebook's Mark Zuckerberg and pediatrician Priscilla Chan, his wife, has made a few other awards to rare disease groups. The initiative expected to make just 10 Rare As One awards but tripled the number after receiving 275 applications. ### Conservation The Trump administration proposed last week to end penalties on owners of open oil storage ponds and other industrial operations that kill birds accidentally. The administration will instead encourage voluntary efforts to protect birds. Conservation groups cried foul, saying the change to the Migratory Bird Treaty Act of 1918 will only embolden companies to take actions that threaten vulnerable species. ### BRAIN Initiative gets leader Since its launch in 2013, the U.S. Brain Research through Advancing Innovative Neurotechnologies (BRAIN) Initiative has doled out about $1.3 billion to develop tools that map and manipulate the brain. Until now, the multiagency effort has had no formal director. But last week, neurobiologist John Ngai of the University of California, Berkeley, was named to take the helm in March. (A longer version of the interview is at <https://scim.ag/BRAINdirector>.) > Q: Why is BRAIN getting a director? > A:The initiative has been run day to day by a terrific team of senior program directors and staff with oversight from the 10 [U.S. National Institutes of Health (NIH)] institutes and centers that are involved in BRAIN. I think as enterprises emerge from their startup phase, the question is how do you translate this into a sustainable enterprise, and yet maintain this cutting-edge innovation? … The initiative really will benefit from somebody thinking about this 24/7. > Q: What distinguishes this second phase of BRAIN? > A:In the first phase, there was a very intentional and concentrated focus on tool development. As we learn more about how neural circuits drive behavior … we can start implementing that knowledge, in terms of treating human diseases. I am hopeful that BRAIN, with other efforts in NIH and in partnership with industry, [can create] technology platforms that could be applied across multiple disease applications. For example: a toolkit of different types of viral delivery vectors [for gene therapy] that could be applied to different parts of the brain, different cell types in the brain, and so on. > Q: What do you see as the initiative's shortcomings? > A:We have a lot of figuring out to do in terms of how to balance the unique potential of individual investigator-initiated research versus the power of large-scale projects. … [And] there is a diversity issue in terms of ethnic diversity as well as gender diversity [among applicants and funded investigators]. It's a hard problem. It just kills me that we're leaving all this talent on the table. [1]: http://www.sciencemag.org/content/367/6478/610 [2]: pending:yes [3]: https://Scite.ai\n",
      "Has full text:  nan\n",
      "\n",
      "#2 article\n",
      "Cosine similarity:  0.167639375093651\n",
      "PMC_ID:  PMC6131701\n",
      "doi:  http://dx.doi.org/10.1021/acsinfecdis.6b00104\n",
      "Title:  Integration of Global Analyses of Host Molecular Responses with Clinical Data To Evaluate Pathogenesis and Advance Therapies for Emerging and Re-emerging Viral Infections\n",
      "Abstract:  Outbreaks associated with emerging and re-emerging viral pathogens continue to increase in frequency and are associated with an increasing burden to global health. In light of this, there is a need to integrate basic and clinical research for investigating the connections between molecular and clinical pathogenesis and for therapeutic development strategies. Here, we will discuss this approach with a focus on the emerging viral pathogens Middle East respiratory syndrome coronavirus (MERS-CoV), Ebola virus (EBOV), and monkeypox virus (MPXV) from the context of clinical presentation, immunological and molecular features of the diseases, and OMICS-based analyses of pathogenesis. Furthermore, we will highlight the role of global investigations of host kinases, the kinome, for investigating emerging and re-emerging viral pathogens from the context of characterizing cellular responses and identifying novel therapeutic targets. Lastly, we will address how increased integration of clinical and basic research will assist treatment and prevention efforts for emerging pathogens.\n",
      "Has full text:  nan\n",
      "\n"
     ]
    },
    {
     "name": "stdout",
     "output_type": "stream",
     "text": [
      "#3 article\n",
      "Cosine similarity:  0.15534075850712015\n",
      "PMC_ID:  nan\n",
      "doi:  10.1016/S0140-6736(20)30461-X\n",
      "Title:  How to fight an infodemic\n",
      "Abstract:  WHO's newly launched platform aims to combat misinformation around COVID-19. John Zarocostas reports from WHO is leading the effort to slow the spread of the 2019 coronavirus disease (COVID-19) outbreak. But a global epidemic of misinformation—spreading rapidly through social media platforms and other outlets—poses a serious problem for public health. “We’re not just fighting an epidemic; we’re fighting an infodemic”, said WHO Director-General Tedros Adhanom Ghebreyesus at the Munich Security Conference on Feb 15. Immediately after COVID-19 was declared a Public Health Emergency of International Concern, WHO's risk communication team launched a new information platform called WHO Information Network for Epidemics (EPI-WIN), with the aim of using a series of amplifiers to share tailored information with specific target groups. Sylvie Briand, director of Infectious Hazards Management at WHO's Health Emergencies Programme and architect of WHO's strategy to counter the infodemic risk, told The Lancet, “We know that every outbreak will be accompanied by a kind of tsunami of information, but also within this information you always have misinformation, rumours, etc. We know that even in the Middle Ages there was this phenomenon”. “But the difference now with social media is that this phenomenon is amplified, it goes faster and further, like the viruses that travel with people and go faster and further. So it is a new challenge, and the challenge is the [timing] because you need to be faster if you want to fill the void…What is at stake during an outbreak is making sure people will do the right thing to control the disease or to mitigate its impact. So it is not only information to make sure people are informed; it is also making sure people are informed to act appropriately.” About 20 staff and some consultants are involved in WHO's communications teams globally, at any given time. This includes social media personnel at each of WHO's six regional offices, risk communications consultants, and WHO communications officers.\n",
      "Has full text:  nan\n",
      "\n",
      "#4 article\n",
      "Cosine similarity:  0.14730743983957428\n",
      "PMC_ID:  PMC4642378\n",
      "doi:  http://dx.doi.org/10.2196/jmir.3891\n",
      "Title:  The Potential Role of Social Media Platforms in Community Awareness of Antibiotic Use in the Gulf Cooperation Council States: Luxury or Necessity?\n",
      "Abstract:  The increasing emergence and spread of antimicrobial resistance (AMR) is a serious public health issue. Increasing the awareness of the general public about appropriate antibiotic use is a key factor for combating this issue. Several public media campaigns worldwide have been launched; however, such campaigns can be costly and the outcomes are variable and difficult to assess. Social media platforms, including Twitter, Facebook, and YouTube, are now frequently utilized to address health-related issues. In many geographical locations, such as the countries of the Gulf Cooperation Council (GCC) States (Saudi Arabia, United Arab Emirates, Kuwait, Oman, Qatar, and Bahrain), these platforms are becoming increasingly popular. The socioeconomic status of the GCC states and their reliable communication and networking infrastructure has allowed the penetration and scalability of these platforms in the region. This might explain why the Saudi Ministry of Health is using social media platforms alongside various other media platforms in a large-scale public awareness campaign to educate at-risk communities about the recently emerged Middle East respiratory syndrome coronavirus (MERS-CoV). This paper discusses the potential for using social media tools as cost-efficient and mass education platforms to raise awareness of appropriate antibiotic use in the general public and in the medical communities of the Arabian Peninsula.\n",
      "Has full text:  nan\n",
      "\n",
      "#5 article\n",
      "Cosine similarity:  0.14446524532822946\n",
      "PMC_ID:  PMC5165716\n",
      "doi:  http://dx.doi.org/10.1186/s12916-016-0760-x\n",
      "Title:  Modernising epidemic science: enabling patient-centred research during epidemics\n",
      "Abstract:  BACKGROUND: Emerging and epidemic infectious disease outbreaks are a significant public health problem and global health security threat. As an outbreak begins, epidemiological investigations and traditional public health responses are generally mounted very quickly. However, patient-centred research is usually not prioritised when planning and enacting the response. Instead, the clinical research response occurs subsequent to and separate from the public health response, and is inadequate for evidence-based decision-making at the bedside or in the offices of public health policymakers. DISCUSSION: The deficiencies of the clinical research response to severe acute respiratory syndrome, pandemic influenza, Middle East respiratory syndrome coronavirus and Ebola virus demonstrate that current research models do not adequately inform and improve the quality of clinical care or public health response. Three suggestions for improvements are made. First, integrate the data and sample collection needs for clinical and public health decision-making within a unified framework, combined with a risk-based, rather than a discipline-based, approach to ethical review and consent. Second, develop clinical study methods and tools that are specifically designed to meet the epidemiological and contextual challenges of emerging and epidemic infectious diseases. Third, invest in investigator-led clinical research networks that are primed and incentivised to respond to outbreak infections, and which can call on the support and resources of a central centre of excellence. CONCLUSIONS: It is crucial that the field of epidemic science matures to place patients at the heart of the response. This can only be achieved when patient-centred research is integrated in the outbreak response from day one and practical steps are taken to reduce the barriers to the generation of reliable and useful evidence.\n",
      "Has full text:  True\n",
      "\n",
      "Query:  Efforts to develop qualitative assessment frameworks to systematically collect information related to local barriers and enablers for the uptake and adherence to public health measures for prevention and control. This includes the rapid identification of the secondary impacts of these measures. (e.g. use of surgical masks, modification of health seeking behaviors for SRH, school closures)\n",
      "\n",
      "#1 article\n",
      "Cosine similarity:  0.21186840616627345\n",
      "PMC_ID:  nan\n",
      "doi:  10.1016/S0140-6736(20)30547-X\n",
      "Title:  Mitigate the effects of home confinement on children during the COVID-19 outbreak\n",
      "Abstract:  In response to the coronavirus disease 2019 (COVID-19) outbreak, the Chinese Government has ordered a nationwide school closure as an emergency measure to prevent spreading of the infection. Public activities are discouraged. The Ministry of Education estimates that more than 220 million children and adolescents are confined to their homes; this includes 180 million primary and secondary students and 47 million preschool children).1 Thanks to the strong administrative system in China, the emergency home schooling plan has been rigorously implemented.2 Massive efforts are being made by schools and teachers at all levels to create online courses and deliver them through TV broadcasts and the internet in record time. The new virtual semester has just started in many parts of the country, and various courses are offered online in a well organised manner. These actions are helping to alleviate many parents' concerns about their children's educational attainment by ensuring that school learning is largely undisrupted. Although these measures and efforts are highly commendable and necessary, there are reasons to be concerned because prolonged school closure and home confinement during a disease outbreak might have negative effects on children's physical and mental health.3 , 4 Evidence suggests that when children are out of school (eg, weekends and summer holidays), they are physically less active, have much longer screen time, irregular sleep patterns, and less favourable diets, resulting in weight gain and a loss of cardiorespiratory fitness.3 , 5 Such negative effects on health are likely to be much worse when children are confined to their homes without outdoor activities and interaction with same aged friends during the outbreak.\n",
      "Has full text:  nan\n",
      "\n"
     ]
    },
    {
     "name": "stdout",
     "output_type": "stream",
     "text": [
      "#2 article\n",
      "Cosine similarity:  0.19898210624128065\n",
      "PMC_ID:  PMC6616393\n",
      "doi:  http://dx.doi.org/10.3390/ijerph16122161\n",
      "Title:  Preventive Behavioral Responses to the 2015 Middle East Respiratory Syndrome Coronavirus Outbreak in Korea\n",
      "Abstract:  This study examined the public’s preventive behavioral responses during the 2015 Middle East respiratory syndrome coronavirus (MERS-CoV) outbreak in Korea and the influencing factors. Two cross-sectional telephone surveys were conducted by Gallup Korea using random digit dialing in June 2015 (n = 2004). The main outcome variables were nonpharmaceutical preventive measures (survey (1): Measures for reducing transmission (handwashing, face masks); and survey (2): Measures for avoiding contact with others). Multiple logistic regression was used to identify the factors influencing preventive behaviors. In survey (1), 60.3% of respondents reported more frequent handwashing and 15.5% reported wearing face masks at least once due to the MERS-CoV epidemic. In survey (2), 41–56% of respondents reported practicing avoidance measures. The concerned group was more likely to practice reducing transmission measures (odds ratio (OR) 4.5; 95% confidence interval (CI) 3.3–6.1) and avoidance measures (OR = 9.6; 95% CI, 6.4–14.4). The respondents who had low trust in president or ruling party had a higher practice rate of reducing transmission measures (OR = 1.7; 95% CI, 1.2–2.6) and avoidance measures (OR = 2.1; 95% CI, 1.2–3.5). Cooperative prevention measures need appropriated public concern based on effective risk communication.\n",
      "Has full text:  True\n",
      "\n",
      "#3 article\n",
      "Cosine similarity:  0.17922429383149452\n",
      "PMC_ID:  PMC7011107\n",
      "doi:  http://dx.doi.org/10.4178/epih.e2020006\n",
      "Title:  An interim review of the epidemiological characteristics of 2019 novel coronavirus\n",
      "Abstract:  OBJECTIVES: The 2019 novel coronavirus (2019-nCoV) from Wuhan, China is currently recognized as a public health emergency of global concern. METHODS: We reviewed the currently available literature to provide up-to-date guidance on control measures to be implemented by public health authorities. RESULTS: Some of the epidemiological characteristics of 2019-nCoV have been identified. However, there remain considerable uncertainties, which should be considered when providing guidance to public health authorities on control measures. CONCLUSIONS: Additional studies incorporating more detailed information from confirmed cases would be valuable.\n",
      "Has full text:  True\n",
      "\n",
      "#4 article\n",
      "Cosine similarity:  0.17390680420115667\n",
      "PMC_ID:  nan\n",
      "doi:  10.1016/S1473-3099(20)30152-3\n",
      "Title:  Taking the right measures to control COVID-19\n",
      "Abstract:  First, although COVID-19 is spread by the airborne route, air disinfection of cities and communities is not known to be effective for disease control and needs to be stopped. The widespread practice of spraying disinfectant and alcohol in the sky, on roads, vehicles, and personnel has no value; moreover, large quantities of alcohol and disinfectant are potentially harmful to humans and should be avoided.3 , 4 Second, in the use of personal protective equipment, we should try to distinguish different risk factors, adopt different epidemic prevention measures, and reduce the waste of personal protective equipment, as these resources are already in short supply. Although surgical masks are in widespread use by the general population, there is no evidence that these masks prevent the acquisition of COVID-19, although they might slightly reduce the spread from an infected patient. High-filtration masks such as N95 masks and protective clothing (goggles and gowns) should be used in hospitals where health-care workers are in direct contact with infected patients.5 Third, the practice of blocking traffic and lockdown of villages is of no value for the prevention and control of COVID-19. Since the outbreak of COVID-19, some countries have suspended flights to and from China, and prevented Chinese people from travelling to their countries; both of these actions violate WHO International Health Regulations.6 Similarly, in community prevention and control of the disease, the measures taken by individual villages and communities to seal off roads are of no value.7 Such measures could result in civil unrest and reduce compliance with infection prevention and control advice. Fourth, public health education must be based on scientific evidence to reduce the anxiety and distress caused by misinformation. In particular, epidemiological findings need to be reported in a timely and objective manner so that they can be accurately assessed and interpreted. The risk of transmission with brief contact (less than 15 min face-to-face contact) or infection onset after 14 days of exposure to a known infected person (the estimated maximum incubation period) is low and should not be over-exaggerated. Misinformation spreads panic among the general population and is not conducive to implementation of epidemic control measures.8 Fifth, WHO has made it clear that there are currently no known effective treatments for COVID-19 and does not recommend the use of antiviral drugs, antibiotics, glucocorticoids, or traditional Chinese medicine. Despite this, there have been reports of the use of oseltamivir, lopinavir/ritonavir, prednisone, antibiotics, and traditional Chinese medicine for the treatment of patients with COVID-19.9 Care should be taken to not give patients drugs of unknown efficacy, which might be detrimental to critically ill patients with COVID-19; clinical trials are urgently required in this context.10 Likewise, the development of a vaccine is an urgent public health priority.\n",
      "Has full text:  nan\n",
      "\n",
      "#5 article\n",
      "Cosine similarity:  0.16539883923618237\n",
      "PMC_ID:  PMC4676643\n",
      "doi:  http://dx.doi.org/10.3961/jpmph.15.066\n",
      "Title:  Structural Factors of the Middle East Respiratory Syndrome Coronavirus Outbreak as a Public Health Crisis in Korea and Future Response Strategies\n",
      "Abstract:  The recent Middle East respiratory syndrome coronavirus (MERS-CoV) outbreak has originated from a failure in the national quarantine system in the Republic of Korea as most basic role of protecting the safety and lives of its citizens. Furthermore, a number of the Korean healthcare system’s weaknesses seem to have been completely exposed. The MERS-CoV outbreak can be considered a typical public health crisis in that the public was not only greatly terrorized by the actual fear of the disease, but also experienced a great impact to their daily lives, all in a short period of time. Preparedness for and an appropriate response to a public health crisis require comprehensive systematic public healthcare measures to address risks comprehensively with an all-hazards approach. Consequently, discussion regarding establishment of post-MERS-CoV improvement measures must focus on the total reform of the national quarantine system and strengthening of the public health infrastructure. In addition, the Korea Centers for Disease Control and Prevention must implement specific strategies of action including taking on the role of “control tower” in a public health emergency, training of Field Epidemic Intelligence Service officers, establishment of collaborative governance between central and local governments for infection prevention and control, strengthening the roles and capabilities of community-based public hospitals, and development of nationwide crisis communication methods.\n",
      "Has full text:  True\n",
      "\n",
      "Query:  Efforts to identify how the burden of responding to the outbreak and implementing public health measures affects the physical and psychological health of those providing care for Covid-19 patients and identify the immediate needs that must be addressed.\n",
      "\n",
      "#1 article\n",
      "Cosine similarity:  0.3448570171451186\n",
      "PMC_ID:  nan\n",
      "doi:  10.3390/ijerph17051729\n",
      "Title:  Immediate Psychological Responses and Associated Factors during the Initial Stage of the 2019 Coronavirus Disease (COVID-19) Epidemic among the General Population in China\n",
      "Abstract:  Background: The 2019 coronavirus disease (COVID-19) epidemic is a public health emergency of international concern and poses a challenge to psychological resilience. Research data are needed to develop evidence-driven strategies to reduce adverse psychological impacts and psychiatric symptoms during the epidemic. The aim of this study was to survey the general public in China to better understand their levels of psychological impact, anxiety, depression, and stress during the initial stage of the COVID-19 outbreak. The data will be used for future reference. Methods: From 31 January to 2 February 2020, we conducted an online survey using snowball sampling techniques. The online survey collected information on demographic data, physical symptoms in the past 14 days, contact history with COVID-19, knowledge and concerns about COVID-19, precautionary measures against COVID-19, and additional information required with respect to COVID-19. Psychological impact was assessed by the Impact of Event Scale-Revised (IES-R), and mental health status was assessed by the Depression, Anxiety and Stress Scale (DASS-21). Results: This study included 1210 respondents from 194 cities in China. In total, 53.8% of respondents rated the psychological impact of the outbreak as moderate or severe; 16.5% reported moderate to severe depressive symptoms; 28.8% reported moderate to severe anxiety symptoms; and 8.1% reported moderate to severe stress levels. Most respondents spent 20&ndash;24 h per day at home (84.7%); were worried about their family members contracting COVID-19 (75.2%); and were satisfied with the amount of health information available (75.1%). Female gender, student status, specific physical symptoms (e.g., myalgia, dizziness, coryza), and poor self-rated health status were significantly associated with a greater psychological impact of the outbreak and higher levels of stress, anxiety, and depression (p &lt; 0.05). Specific up-to-date and accurate health information (e.g., treatment, local outbreak situation) and particular precautionary measures (e.g., hand hygiene, wearing a mask) were associated with a lower psychological impact of the outbreak and lower levels of stress, anxiety, and depression (p &lt; 0.05). Conclusions: During the initial phase of the COVID-19 outbreak in China, more than half of the respondents rated the psychological impact as moderate-to-severe, and about one-third reported moderate-to-severe anxiety. Our findings identify factors associated with a lower level of psychological impact and better mental health status that can be used to formulate psychological interventions to improve the mental health of vulnerable groups during the COVID-19 epidemic.\n",
      "Has full text:  nan\n",
      "\n",
      "#2 article\n",
      "Cosine similarity:  0.2975924028311836\n",
      "PMC_ID:  nan\n",
      "doi:  10.1016/S2215-0366(20)30046-8\n",
      "Title:  Timely mental health care for the 2019 novel coronavirus outbreak is urgently needed\n",
      "Abstract:  The 2019 novel coronavirus (2019-nCoV) pneumonia, believed to have originated in a wet market in Wuhan, Hubei province, China at the end of 2019, has gained intense attention nationwide and globally. To lower the risk of further disease transmission, the authority in Wuhan suspended public transport indefinitely from Jan 23, 2020; similar measures were adopted soon in many other cities in China. As of Jan 25, 2020, 30 Chinese provinces, municipalities, and autonomous regions covering over 1·3 billion people have initiated first-level responses to major public health emergencies. A range of measures has been urgently adopted,1,2 such as early identification and isolation of suspected and diagnosed cases, contact tracing and monitoring, collection of clinical data and biological samples from patients, dissemination of regional and national diagnostic criteria and expert treatment consensus, establishment of isolation units and hospitals, and prompt provision of medical supplies and external expert teams to Hubei province. The emergence of the 2019-nCoV pneumonia has parallels with the 2003 outbreak of severe acute respiratory syndrome (SARS), which was caused by another coronavirus that killed 349 of 5327 patients with confirmed infection in China.3 Although the diseases have different clinical presentations, the infectious cause, epidemiological features, fast transmission pattern, and insufficient preparedness of health authorities to address the outbreaks are similar. So far, mental health care for the patients and health professionals directly affected by the 2019-nCoV epidemic has been under-addressed, although the National Health Commission of China released the notification of basic principles for emergency psychological crisis interventions for the 2019-nCoV pneumonia on Jan 26, 2020. This notification contained a reference to mental health problems and interventions that occurred during the 2003 SARS outbreak, and mentioned that mental health care should be provided for patients with 2019-nCoV pneumonitis, close contacts, suspected cases who are isolated at home, patients in fever clinics, families and friends of affected people, health professionals caring for infected patients, and the public who are in need. To date, epidemiological data on the mental health problems and psychiatric morbidity of those suspected or diagnosed with the 2019-nCoV and their treating health professionals have not been available; therefore how best to respond to challenges during the outbreak is unknown. The observations of mental health consequences and measures taken during the 2003 SARS outbreak could help inform health authorities and the public to provide mental health interventions to those who are in need.\n",
      "Has full text:  nan\n",
      "\n",
      "#3 article\n",
      "Cosine similarity:  0.2685777918035934\n",
      "PMC_ID:  PMC2263793\n",
      "doi:  nan\n",
      "Title:  SARS: An Emerging Global Microbial Threat.\n",
      "Abstract:  In March 2003, the Institute of Medicine published an update to its 1992 landmark report on emerging infections. The new report, Microbial Threats to Health: Emergence, Detection, and Response, describes the current spectrum of global microbial threats, factors affecting their emergence or resurgence, and measures that should be undertaken to effectively address them. Coincident with this publication came increasing reports of severe atypical pneumonia of unknown etiology among persons in southeast Asia. This new disease, designated severe acute respiratory syndrome (SARS), spread globally in a matter of weeks, infecting primarily close contacts of index patients (e.g., household members and healthcare workers caring for index patients) but also resulting in community transmission in some areas. An unprecedented worldwide collaborative effort was undertaken to determine the cause of the illness and implement prevention measures. A previously unrecognized coronavirus was identified as the causative agent, and health officials throughout the world struggled to implement measures to contain its spread, including isolation of suspect SARS cases and quarantine of exposed persons. The emergence of SARS is a timely reminder of the need to expect the unexpected and to ensure strong national and global public health partnerships when preparing for and responding to infectious diseases. Effectively addressing the threat of SARS will require enhanced global infectious disease surveillance, the development of rapid diagnostics, new therapies, and vaccines, implementation of aggressive evidence-based infection control strategies, and effective communication.\n",
      "Has full text:  nan\n",
      "\n",
      "#4 article\n",
      "Cosine similarity:  0.25014692937486815\n",
      "PMC_ID:  PMC7008581\n",
      "doi:  http://dx.doi.org/10.2147/RMHP.S239984\n",
      "Title:  Syndromic Surveillance System for MERS-CoV as New Early Warning and Identification Approach\n",
      "Abstract:  This commentary presents a novel outlook for public health authorities in the affected countries to detect and respond quickly to the emerging public health threats such as Middle East respiratory syndrome coronavirus (MERS-CoV). Implementing an innovative electronic surveillance system called syndromic surveillance system is essential for global health security.\n",
      "Has full text:  True\n",
      "\n",
      "#5 article\n",
      "Cosine similarity:  0.24947965176882714\n",
      "PMC_ID:  nan\n",
      "doi:  doi.org/10.1101/2020.01.27.922443\n",
      "Title:  Breaking down of healthcare system: Mathematical modelling for controlling the novel coronavirus (2019-nCoV) outbreak in Wuhan, China\n",
      "Abstract:  A novel coronavirus pneumonia initially identified in Wuhan, China and provisionally named 2019-nCoV has surged in the public. In anticipation of substantial burdens on healthcare system following this human-to-human spread, we aim to scrutinise the currently available information and evaluate the burden of healthcare systems during this outbreak in Wuhan. We applied a modified SIR model to project the actual number of infected cases and the specific burdens on isolation wards and intensive care units, given the scenarios of different diagnosis rates as well as different public health intervention efficacy. Our estimates suggest the actual number of infected cases could be much higher than the reported, with estimated 26,701 cases (as of 28th January 2020) assuming 50% diagnosis rate if no public health interventions were implemented. The estimated burdens on healthcare system could be largely reduced if at least 70% efficacy of public health intervention is achieved.\n",
      "Has full text:  True\n",
      "\n",
      "Query:  Efforts to identify the underlying drivers of fear, anxiety and stigma that fuel misinformation and rumor, particularly through social media.\n",
      "\n",
      "#1 article\n",
      "Cosine similarity:  0.19321917061109328\n",
      "PMC_ID:  PMC7052559\n",
      "doi:  http://dx.doi.org/10.12998/wjcc.v8.i4.652\n",
      "Title:  Fear can be more harmful than the severe acute respiratory syndrome coronavirus 2 in controlling the corona virus disease 2019 epidemic\n",
      "Abstract:  The current corona virus disease 2019 outbreak caused by severe acute respiratory syndrome coronavirus 2 started in Wuhan, China in December 2019 and has put the world on alert. To safeguard Chinese citizens and to strengthen global health security, China has made great efforts to control the epidemic. Many in the global community have joined China to limit the epidemic. However, discrimination and prejudice driven by fear or misinformation have been flowing globally, superseding evidence and jeopardizing the anti-severe acute respiratory syndrome coronavirus 2 efforts. We analyze this phenomenon and its underlying causes and suggest practical solutions.\n",
      "Has full text:  True\n",
      "\n",
      "#2 article\n",
      "Cosine similarity:  0.15629098529993746\n",
      "PMC_ID:  nan\n",
      "doi:  10.1016/S0140-6736(20)30461-X\n",
      "Title:  How to fight an infodemic\n",
      "Abstract:  WHO's newly launched platform aims to combat misinformation around COVID-19. John Zarocostas reports from WHO is leading the effort to slow the spread of the 2019 coronavirus disease (COVID-19) outbreak. But a global epidemic of misinformation—spreading rapidly through social media platforms and other outlets—poses a serious problem for public health. “We’re not just fighting an epidemic; we’re fighting an infodemic”, said WHO Director-General Tedros Adhanom Ghebreyesus at the Munich Security Conference on Feb 15. Immediately after COVID-19 was declared a Public Health Emergency of International Concern, WHO's risk communication team launched a new information platform called WHO Information Network for Epidemics (EPI-WIN), with the aim of using a series of amplifiers to share tailored information with specific target groups. Sylvie Briand, director of Infectious Hazards Management at WHO's Health Emergencies Programme and architect of WHO's strategy to counter the infodemic risk, told The Lancet, “We know that every outbreak will be accompanied by a kind of tsunami of information, but also within this information you always have misinformation, rumours, etc. We know that even in the Middle Ages there was this phenomenon”. “But the difference now with social media is that this phenomenon is amplified, it goes faster and further, like the viruses that travel with people and go faster and further. So it is a new challenge, and the challenge is the [timing] because you need to be faster if you want to fill the void…What is at stake during an outbreak is making sure people will do the right thing to control the disease or to mitigate its impact. So it is not only information to make sure people are informed; it is also making sure people are informed to act appropriately.” About 20 staff and some consultants are involved in WHO's communications teams globally, at any given time. This includes social media personnel at each of WHO's six regional offices, risk communications consultants, and WHO communications officers.\n",
      "Has full text:  nan\n",
      "\n",
      "#3 article\n",
      "Cosine similarity:  0.13710849711009565\n",
      "PMC_ID:  PMC4642378\n",
      "doi:  http://dx.doi.org/10.2196/jmir.3891\n",
      "Title:  The Potential Role of Social Media Platforms in Community Awareness of Antibiotic Use in the Gulf Cooperation Council States: Luxury or Necessity?\n",
      "Abstract:  The increasing emergence and spread of antimicrobial resistance (AMR) is a serious public health issue. Increasing the awareness of the general public about appropriate antibiotic use is a key factor for combating this issue. Several public media campaigns worldwide have been launched; however, such campaigns can be costly and the outcomes are variable and difficult to assess. Social media platforms, including Twitter, Facebook, and YouTube, are now frequently utilized to address health-related issues. In many geographical locations, such as the countries of the Gulf Cooperation Council (GCC) States (Saudi Arabia, United Arab Emirates, Kuwait, Oman, Qatar, and Bahrain), these platforms are becoming increasingly popular. The socioeconomic status of the GCC states and their reliable communication and networking infrastructure has allowed the penetration and scalability of these platforms in the region. This might explain why the Saudi Ministry of Health is using social media platforms alongside various other media platforms in a large-scale public awareness campaign to educate at-risk communities about the recently emerged Middle East respiratory syndrome coronavirus (MERS-CoV). This paper discusses the potential for using social media tools as cost-efficient and mass education platforms to raise awareness of appropriate antibiotic use in the general public and in the medical communities of the Arabian Peninsula.\n",
      "Has full text:  nan\n",
      "\n",
      "#4 article\n",
      "Cosine similarity:  0.1281435706666082\n",
      "PMC_ID:  nan\n",
      "doi:  10.1136/bmj.m764\n",
      "Title:  Covid-19: a digital epidemic\n",
      "Abstract:  The covid-19 epidemic is not only viral—it is also digital.1Information spread through social and traditional media, as well as through governmental or health agencies, has reached …\n",
      "Has full text:  nan\n",
      "\n",
      "#5 article\n",
      "Cosine similarity:  0.12808812870777586\n",
      "PMC_ID:  nan\n",
      "doi:  10.1016/j.ctcp.2020.101132\n",
      "Title:  Effects of progressive muscle relaxation on anxiety and sleep quality in patients with COVID-19\n",
      "Abstract:  Background Patients with Coronavirus Disease 2019(COVID-19) will experience high levels of anxiety and low sleep quality due to isolation treatment. Some sleep-improving drugs may inhibit the respiratory system and worsen the condition. Prolonged bedside instruction may increase the risk of medical infections. Objective To investigate the effect of progressive muscle relaxation on anxiety and sleep quality of COVID-19. Methods In this randomized controlled clinical trial, a total of 51 patients who entered the isolation ward were included in the study and randomly divided into experimental and control groups. The experimental group used progressive muscle relaxation (PMR) technology for 30 min per day for 5 consecutive days. During this period, the control group received only routine care and treatment. Before and after the intervention, the Spielberger State-Trait Anxiety Scale (STAI) and Sleep State Self-Rating Scale (SRSS) were used to measure and record patient anxiety and sleep quality. Finally, data analysis was performed using SPSS 25.0 software. Results The average anxiety score (STAI) before intervention was not statistically significant (P = 0.730), and the average anxiety score after intervention was statistically significant (P < 0.001). The average sleep quality score (SRSS) of the two groups before intervention was not statistically significant (P = 0.838), and it was statistically significant after intervention (P < 0.001). Conclusion Progressive muscle relaxation as an auxiliary method can reduce anxiety and improve sleep quality in patients with COVID-19.\n",
      "Has full text:  nan\n",
      "\n"
     ]
    }
   ],
   "source": [
    "nDoc = 5\n",
    "outputPath = \"../../../Downloads/2020-03-13/topArt.txt\" \n",
    "retrieveTopLiter(queries, queryDocDist, outputPath, nDoc)"
   ]
  },
  {
   "cell_type": "markdown",
   "metadata": {},
   "source": [
    "We can see that most retrieved articles are highly correlated with the queries, especially for longer queries that provide a more detailed description of the information need. We also noticed that there are repeats articles in the dataset, probably due to the submission of the same article to multiple pre-print or print platforms."
   ]
  },
  {
   "cell_type": "markdown",
   "metadata": {},
   "source": [
    "### Level 2: retrieve top related sentences based on cosine similarity between tf-idf vectors"
   ]
  },
  {
   "cell_type": "markdown",
   "metadata": {},
   "source": [
    "Now for each retrieved article, check if a full text is available. When a full text is available, the abstracts and all paragraphs in discussion and conclusion sections (if exists) are used for sentence retrieval. When a full text is not available, only the abstract is used. All these contents are then segmented into sentences and combined for retrieving the top n related sentences for a query. The motivation behind retrieving sentences is that we are expecting the most relevant sentences may help compose a summary paragraph for each query."
   ]
  },
  {
   "cell_type": "code",
   "execution_count": 179,
   "metadata": {},
   "outputs": [],
   "source": [
    "def findFile(name, path):\n",
    "    \"\"\"\n",
    "    Function to locate a file in a directory.\n",
    "    Input:\n",
    "        name: a string gives the name of the target file.\n",
    "        path: a string gives the directory to search the file.\n",
    "    Output:\n",
    "        return the path of the target file if the file is found. Otherwise return None.\n",
    "    \"\"\"\n",
    "    for root, dirs, files in os.walk(path):\n",
    "        if name in files:\n",
    "            return os.path.join(root, name)\n",
    "    return None"
   ]
  },
  {
   "cell_type": "code",
   "execution_count": 180,
   "metadata": {},
   "outputs": [],
   "source": [
    "def retrieveTopSent(queries, queryDocDist, dataPath, outputPath, nDoc = 5, nSent = 10, showResults = True):\n",
    "    \"\"\"\n",
    "    Function to retrieve the top n sentences for each query based on cosine similarities between query tf-idf \n",
    "    representations and sentence tf-idf representations.\n",
    "    The retrieval is done by steps:\n",
    "        1. retrive the top nDoc literatures related to each query.\n",
    "        2. from the top nDoc literatures retrieve the top nSent sentences related to each query.\n",
    "    Input:\n",
    "        queries: a list of m strings where each string is a text normalized query.\n",
    "        queryDocDist: a m x n array that gives the pairwise cosine similarity between the m queries and n literatures.\n",
    "        dataPath: a string specifies the path to the full-text files.\n",
    "        outputPath: a string specifies the path to the output file.\n",
    "        nDoc (default 5): the number of literatures to be retrieved for each query.\n",
    "        nSent (default 10): the number of sentences to be retrieved for eacu query.\n",
    "        showResults (default True): whether show the results in the terminal.\n",
    "    \"\"\"\n",
    "    outputFile = open(outputPath, \"w\")\n",
    "    for i in range(len(queries)):\n",
    "        query = queries[i]\n",
    "        print(\"Query: \", query)\n",
    "        print(\"\")\n",
    "        outputFile.write(\"Query: \" + queries[i] + \"\\n\\n\")\n",
    "        querySents = []\n",
    "        sentPmcid = []\n",
    "        sentDoi = []\n",
    "        for idx in queryDocDist[i].argsort()[-nDoc:][::-1]:\n",
    "            docMeta = metaData[metaData[\"abstract\"].notnull()].iloc[idx]\n",
    "            docRepText = docMeta[\"abstract\"] # Include abstract to represent a literature\n",
    "            pmcid = docMeta[\"pmcid\"]\n",
    "            doi = docMeta[\"doi\"]\n",
    "            if docMeta[\"has_full_text\"] == True: # Has full text\n",
    "                sha = docMeta[\"sha\"]\n",
    "                jsonFile = findFile(sha + \".json\", dataPath) # Retrieve the full text with sha\n",
    "                if jsonFile:\n",
    "                    with open(jsonFile) as f:\n",
    "                        doc = json.load(f)\n",
    "                    for para in doc[\"body_text\"]:\n",
    "                        if para[\"section\"].lower() in [\"discussion\", \"conclusion\"]: \n",
    "                            docRepText = docRepText + \" \" + para[\"text\"] # Include paragraphs in discussion and conclusion\n",
    "            docRepSents = sent_tokenize(docRepText) # Sentence segmentation\n",
    "            querySents = querySents + docRepSents # Add sentences of this literature to all sentences related to the query\n",
    "            sentPmcid = sentPmcid + [pmcid] * len(docRepSents)\n",
    "            sentDoi = sentDoi + [doi] * len(docRepSents)\n",
    "        normQuerySents = [textNormalize(sent) for sent in querySents] # Text normalization for all sentences\n",
    "        qVectorizer = TfidfVectorizer(tokenizer = word_tokenize) # Learn a vectorizer for retrieiving sentences\n",
    "        qVectorizer.fit(normQuerySents)\n",
    "        print(\"Vocabulary size: \", len(qVectorizer.get_feature_names()))\n",
    "        print(\"\")\n",
    "        sentTermMatrix = qVectorizer.transform(normQuerySents).toarray() # Transfer sentences to sentence-term matrix\n",
    "        queryTermMatrix = qVectorizer.transform([textNormalize(query)]).toarray() # Transfer the query to query-term matrix\n",
    "        querySentDist = 1 - cdist(queryTermMatrix, sentTermMatrix, metric = 'cosine') # Compute cosine similarity\n",
    "        sentCount = 1\n",
    "        for iidx in querySentDist[0].argsort()[-nSent:][::-1]: # Show the top n related sentences\n",
    "            if np.isnan(querySentDist[0][iidx]):\n",
    "                continue\n",
    "            if showResults:\n",
    "                print(\"#\" + str(sentCount) + \" sentence\")\n",
    "                print(\"Cosine similarity: \", querySentDist[0][iidx])\n",
    "                print(\"PMC_ID: \", sentPmcid[iidx])\n",
    "                print(\"doi: \", sentDoi[iidx])\n",
    "                print(querySents[iidx])\n",
    "                print(\"\")\n",
    "            outputFile.write(\"#\" + str(sentCount) + \" sentence\\n\")\n",
    "            outputFile.write(\"Cosine similarity: \" + str(round(querySentDist[0][iidx], 5)) + \"\\n\")\n",
    "            outputFile.write(\"PMC_ID: \" + str(sentPmcid[iidx]) + \"\\n\")\n",
    "            outputFile.write(\"doi: \" + str(sentDoi[iidx]) + \"\\n\")\n",
    "            outputFile.write(querySents[iidx] + \"\\n\\n\")\n",
    "            sentCount += 1\n",
    "    outputFile.close()\n",
    "    return"
   ]
  },
  {
   "cell_type": "code",
   "execution_count": 181,
   "metadata": {},
   "outputs": [
    {
     "name": "stdout",
     "output_type": "stream",
     "text": [
      "Query:  Efforts to articulate and translate existing ethical principles and standards to salient issues in COVID-2019\n",
      "\n",
      "Vocabulary size:  381\n",
      "\n",
      "#1 sentence\n",
      "Cosine similarity:  0.25725257213573405\n",
      "PMC_ID:  PMC4932258\n",
      "doi:  http://dx.doi.org/10.1136/bmjopen-2016-011341\n",
      "Participants will be randomised to either preoperative patient education comprising of a video and ICU tour with standard care (intervention) or standard education (control).\n",
      "\n",
      "#2 sentence\n",
      "Cosine similarity:  0.25692686454299296\n",
      "PMC_ID:  nan\n",
      "doi:  10.33546/bnj.1058\n",
      "In this letter, the author presents three noticeable issues based on the current situation in Vietnam and efforts that nurses should do\n",
      "\n",
      "#3 sentence\n",
      "Cosine similarity:  0.1982427528360322\n",
      "PMC_ID:  PMC4750516\n",
      "doi:  http://dx.doi.org/10.3961/jpmph.16.013\n",
      "If we do not include ethical values and principles explicitly in pandemic planning in advance, the next response to an epidemic may result in widespread breaches of ethical principles, leading to deeper confusion and non-cooperation.\n",
      "\n",
      "#4 sentence\n",
      "Cosine similarity:  0.16026248466677018\n",
      "PMC_ID:  PMC4750516\n",
      "doi:  http://dx.doi.org/10.3961/jpmph.16.013\n",
      "Pandemic planning enriched with ethical principles will facilitate efficiency, voluntariness, and legitimacy.\n",
      "\n",
      "#5 sentence\n",
      "Cosine similarity:  0.1410736146412297\n",
      "PMC_ID:  PMC4750516\n",
      "doi:  http://dx.doi.org/10.3961/jpmph.16.013\n",
      "Public health actions need to incorporate clear and systematic procedures founded upon ethical principles.\n",
      "\n",
      "#6 sentence\n",
      "Cosine similarity:  0.1386235051224315\n",
      "PMC_ID:  nan\n",
      "doi:  10.33546/bnj.1058\n",
      "Novel Coronavirus officially COVID-19 has been detected since December 2019 and it has become a global health issue concern today.\n",
      "\n",
      "#7 sentence\n",
      "Cosine similarity:  0.12663675807865737\n",
      "PMC_ID:  nan\n",
      "doi:  10.1016/j.clinimag.2020.02.008\n",
      "The principle findings are that in this patient with laboratory-confirmed COVID-19, CT findings preceded symptoms and included bilateral pleural effusions, previously not reported in association with COVID-19.\n",
      "\n",
      "#8 sentence\n",
      "Cosine similarity:  0.12661494655930539\n",
      "PMC_ID:  nan\n",
      "doi:  10.26355/eurrev_202002_20378\n",
      "The World Health Organization (WHO) has issued a warning that, although the 2019 novel coronavirus (COVID-19) from Wuhan City (China), is not pandemic, it should be contained to prevent the global spread.\n",
      "\n",
      "#9 sentence\n",
      "Cosine similarity:  0.12125637246394516\n",
      "PMC_ID:  PMC4750516\n",
      "doi:  http://dx.doi.org/10.3961/jpmph.16.013\n",
      "During the outbreak of Middle East respiratory syndrome coronavirus (MERS-CoV) in the Republic of Korea in 2015, serious challenges emerged regarding important ethical issues, such as transparency and the protection of privacy.\n",
      "\n",
      "Query:  Efforts to embed ethics across all thematic areas, engage with novel ethical issues that arise and coordinate to minimize duplication of oversight\n",
      "\n",
      "Vocabulary size:  382\n",
      "\n",
      "#1 sentence\n",
      "Cosine similarity:  0.2662772328876366\n",
      "PMC_ID:  PMC4550170\n",
      "doi:  http://dx.doi.org/10.3201/eid2109.150476\n",
      "Since Middle East respiratory syndrome coronavirus (MERS-CoV) first emerged, the California Department of Public Health has coordinated efforts to identify possible cases in travelers to California, USA, from affected areas.\n",
      "\n",
      "#2 sentence\n",
      "Cosine similarity:  0.1579911203704213\n",
      "PMC_ID:  PMC4750516\n",
      "doi:  http://dx.doi.org/10.3961/jpmph.16.013\n",
      "During the outbreak of Middle East respiratory syndrome coronavirus (MERS-CoV) in the Republic of Korea in 2015, serious challenges emerged regarding important ethical issues, such as transparency and the protection of privacy.\n",
      "\n",
      "#3 sentence\n",
      "Cosine similarity:  0.1566024862127814\n",
      "PMC_ID:  PMC4750516\n",
      "doi:  http://dx.doi.org/10.3961/jpmph.16.013\n",
      "Public engagement and civic partnership with public health authorities to discuss ethical principles are essential to foster community participation, collaboration, and solidarity from the civil society.\n",
      "\n",
      "#4 sentence\n",
      "Cosine similarity:  0.14904615129025545\n",
      "PMC_ID:  PMC4932258\n",
      "doi:  http://dx.doi.org/10.1136/bmjopen-2016-011341\n",
      "ETHICS AND DISSEMINATION: Ethical approval has been obtained from the Joint Chinese University of Hong Kong—New Territories East Cluster Clinical Research Ethics Committee (reference number CREC 2015.308).\n",
      "\n",
      "#5 sentence\n",
      "Cosine similarity:  0.12891804537818585\n",
      "PMC_ID:  PMC4462269\n",
      "doi:  http://dx.doi.org/10.5152/tpa.2014.1121\n",
      "Approval was obtained from the ethics committee (Ege University Clinical Researches Ethics Committee, 12.02.2013, number: 13–1/46).\n",
      "\n",
      "#6 sentence\n",
      "Cosine similarity:  0.09685689569975087\n",
      "PMC_ID:  PMC4750516\n",
      "doi:  http://dx.doi.org/10.3961/jpmph.16.013\n",
      "If we do not include ethical values and principles explicitly in pandemic planning in advance, the next response to an epidemic may result in widespread breaches of ethical principles, leading to deeper confusion and non-cooperation.\n",
      "\n",
      "#7 sentence\n",
      "Cosine similarity:  0.0865700324987404\n",
      "PMC_ID:  PMC4750516\n",
      "doi:  http://dx.doi.org/10.3961/jpmph.16.013\n",
      "Ethical considerations are essential in planning for and responding to outbreaks of infectious diseases.\n",
      "\n",
      "#8 sentence\n",
      "Cosine similarity:  0.08495590861028768\n",
      "PMC_ID:  PMC4750516\n",
      "doi:  http://dx.doi.org/10.3961/jpmph.16.013\n",
      "Ethical values and considerations should be incorporated into pandemic planning and in the responses to future outbreaks in Korea.\n",
      "\n",
      "#9 sentence\n",
      "Cosine similarity:  0.07916662751860637\n",
      "PMC_ID:  PMC4750516\n",
      "doi:  http://dx.doi.org/10.3961/jpmph.16.013\n",
      "Pandemic planning enriched with ethical principles will facilitate efficiency, voluntariness, and legitimacy.\n",
      "\n",
      "Query:  Efforts to support sustained education, access, and capacity building in the area of ethics\n",
      "\n",
      "Vocabulary size:  368\n",
      "\n",
      "#1 sentence\n",
      "Cosine similarity:  0.19384321448777642\n",
      "PMC_ID:  nan\n",
      "doi:  10.31646/gbio.50\n",
      "DOAJ is an online directory that indexes and provides access to quality open access, peer-reviewed journals.\n",
      "\n",
      "#2 sentence\n",
      "Cosine similarity:  0.19384321448777642\n",
      "PMC_ID:  nan\n",
      "doi:  10.20535/ibb.2020.4.1.195074\n",
      "DOAJ is an online directory that indexes and provides access to quality open access, peer-reviewed journals.\n",
      "\n",
      "#3 sentence\n",
      "Cosine similarity:  0.19342538689018685\n",
      "PMC_ID:  PMC4932258\n",
      "doi:  http://dx.doi.org/10.1136/bmjopen-2016-011341\n",
      "Participants will be randomised to either preoperative patient education comprising of a video and ICU tour with standard care (intervention) or standard education (control).\n",
      "\n",
      "#4 sentence\n",
      "Cosine similarity:  0.15443712178796154\n",
      "PMC_ID:  PMC4750516\n",
      "doi:  http://dx.doi.org/10.3961/jpmph.16.013\n",
      "The MERS-CoV epidemic in Korea created significant public support for more aggressive early interventions in future outbreaks.\n",
      "\n",
      "#5 sentence\n",
      "Cosine similarity:  0.13565660761329923\n",
      "PMC_ID:  nan\n",
      "doi:  doi.org/10.1101/2020.01.24.919159\n",
      "This emphasises the importance of current surveillance efforts in countries around the world, to ensure that the ongoing outbreak will not become a large global epidemic.\n",
      "\n",
      "#6 sentence\n",
      "Cosine similarity:  0.12187534192631244\n",
      "PMC_ID:  PMC4932258\n",
      "doi:  http://dx.doi.org/10.1136/bmjopen-2016-011341\n",
      "The objectives of this study are to evaluate the effectiveness of preoperative patient education provided for patients undergoing elective cardiac surgery.\n",
      "\n",
      "#7 sentence\n",
      "Cosine similarity:  0.11877544279671226\n",
      "PMC_ID:  nan\n",
      "doi:  10.31646/gbio.50\n",
      "Information about the open-access article 'Wuhan novel coronavirus 2019nCoV' in DOAJ.\n",
      "\n",
      "#8 sentence\n",
      "Cosine similarity:  0.10842192453518773\n",
      "PMC_ID:  nan\n",
      "doi:  doi.org/10.1101/2020.01.24.919159\n",
      "Here we assess the risk of sustained transmission whenever the coronavirus arrives in other countries.\n",
      "\n",
      "Query:  Efforts to establish a team at WHO that will be integrated within multidisciplinary research and operational platforms and that will connect with existing and expanded global networks of social sciences.\n",
      "\n",
      "Vocabulary size:  879\n",
      "\n",
      "#1 sentence\n",
      "Cosine similarity:  0.21400674706640088\n",
      "PMC_ID:  PMC6131701\n",
      "doi:  http://dx.doi.org/10.1021/acsinfecdis.6b00104\n",
      "In light of this, there is a need to integrate basic and clinical research for investigating the connections between molecular and clinical pathogenesis and for therapeutic development strategies.\n",
      "\n",
      "#2 sentence\n",
      "Cosine similarity:  0.19053734650374254\n",
      "PMC_ID:  nan\n",
      "doi:  10.1016/S0140-6736(20)30461-X\n",
      "But a global epidemic of misinformation—spreading rapidly through social media platforms and other outlets—poses a serious problem for public health.\n",
      "\n",
      "#3 sentence\n",
      "Cosine similarity:  0.18771124684805496\n",
      "PMC_ID:  nan\n",
      "doi:  10.1126/science.367.6478.606\n",
      "But in a 30 January statement leaked on social media, China's Ministry of Science and Technology urged researchers to pour their efforts into stopping its spread instead.\n",
      "\n",
      "#4 sentence\n",
      "Cosine similarity:  0.18771124684805496\n",
      "PMC_ID:  nan\n",
      "doi:  10.1126/science.367.6478.606\n",
      "But in a 30 January statement leaked on social media, China's Ministry of Science and Technology urged researchers to pour their efforts into stopping its spread instead.\n",
      "\n",
      "#5 sentence\n",
      "Cosine similarity:  0.18266863875544692\n",
      "PMC_ID:  PMC6131701\n",
      "doi:  http://dx.doi.org/10.1021/acsinfecdis.6b00104\n",
      "Lastly, we will address how increased integration of clinical and basic research will assist treatment and prevention efforts for emerging pathogens.\n",
      "\n",
      "#6 sentence\n",
      "Cosine similarity:  0.14906418808459443\n",
      "PMC_ID:  nan\n",
      "doi:  10.1126/science.367.6478.606\n",
      "The addition of Wiley's articles will expand Scite's current trove of more than 14 million papers from other publishers, most in the biomedical sciences.\n",
      "\n",
      "#7 sentence\n",
      "Cosine similarity:  0.1241057817094362\n",
      "PMC_ID:  nan\n",
      "doi:  10.1126/science.367.6478.606\n",
      "### Environmental science !\n",
      "\n",
      "#8 sentence\n",
      "Cosine similarity:  0.12304119556025428\n",
      "PMC_ID:  PMC4642378\n",
      "doi:  http://dx.doi.org/10.2196/jmir.3891\n",
      "The socioeconomic status of the GCC states and their reliable communication and networking infrastructure has allowed the penetration and scalability of these platforms in the region.\n",
      "\n",
      "#9 sentence\n",
      "Cosine similarity:  0.11942979336476922\n",
      "PMC_ID:  PMC5165716\n",
      "doi:  http://dx.doi.org/10.1186/s12916-016-0760-x\n",
      "First, integrate the data and sample collection needs for clinical and public health decision-making within a unified framework, combined with a risk-based, rather than a discipline-based, approach to ethical review and consent.\n",
      "\n",
      "#10 sentence\n",
      "Cosine similarity:  0.11237340231075488\n",
      "PMC_ID:  nan\n",
      "doi:  10.1016/S0140-6736(20)30461-X\n",
      "Immediately after COVID-19 was declared a Public Health Emergency of International Concern, WHO's risk communication team launched a new information platform called WHO Information Network for Epidemics (EPI-WIN), with the aim of using a series of amplifiers to share tailored information with specific target groups.\n",
      "\n",
      "Query:  Efforts to develop qualitative assessment frameworks to systematically collect information related to local barriers and enablers for the uptake and adherence to public health measures for prevention and control. This includes the rapid identification of the secondary impacts of these measures. (e.g. use of surgical masks, modification of health seeking behaviors for SRH, school closures)\n",
      "\n"
     ]
    },
    {
     "name": "stdout",
     "output_type": "stream",
     "text": [
      "Vocabulary size:  529\n",
      "\n",
      "#1 sentence\n",
      "Cosine similarity:  0.20534693451747477\n",
      "PMC_ID:  PMC4676643\n",
      "doi:  http://dx.doi.org/10.3961/jpmph.15.066\n",
      "In addition, the Korea Centers for Disease Control and Prevention must implement specific strategies of action including taking on the role of “control tower” in a public health emergency, training of Field Epidemic Intelligence Service officers, establishment of collaborative governance between central and local governments for infection prevention and control, strengthening the roles and capabilities of community-based public hospitals, and development of nationwide crisis communication methods.\n",
      "\n",
      "#2 sentence\n",
      "Cosine similarity:  0.17886447175509446\n",
      "PMC_ID:  nan\n",
      "doi:  10.1016/S0140-6736(20)30547-X\n",
      "In response to the coronavirus disease 2019 (COVID-19) outbreak, the Chinese Government has ordered a nationwide school closure as an emergency measure to prevent spreading of the infection.\n",
      "\n",
      "#3 sentence\n",
      "Cosine similarity:  0.17459169287258913\n",
      "PMC_ID:  PMC4676643\n",
      "doi:  http://dx.doi.org/10.3961/jpmph.15.066\n",
      "Preparedness for and an appropriate response to a public health crisis require comprehensive systematic public healthcare measures to address risks comprehensively with an all-hazards approach.\n",
      "\n",
      "#4 sentence\n",
      "Cosine similarity:  0.17010215147666752\n",
      "PMC_ID:  PMC6616393\n",
      "doi:  http://dx.doi.org/10.3390/ijerph16122161\n",
      "It is desirable to educate the population regarding health and preventive behaviors for infectious diseases regularly at schools and public institutions.\n",
      "\n",
      "#5 sentence\n",
      "Cosine similarity:  0.16871573278137797\n",
      "PMC_ID:  nan\n",
      "doi:  10.1016/S1473-3099(20)30152-3\n",
      "Although surgical masks are in widespread use by the general population, there is no evidence that these masks prevent the acquisition of COVID-19, although they might slightly reduce the spread from an infected patient.\n",
      "\n",
      "#6 sentence\n",
      "Cosine similarity:  0.16762517215609596\n",
      "PMC_ID:  PMC7011107\n",
      "doi:  http://dx.doi.org/10.4178/epih.e2020006\n",
      "However, there remain considerable uncertainties, which should be considered when providing guidance to public health authorities on control measures.\n",
      "\n",
      "#7 sentence\n",
      "Cosine similarity:  0.16747409940241087\n",
      "PMC_ID:  PMC6616393\n",
      "doi:  http://dx.doi.org/10.3390/ijerph16122161\n",
      "It would be useful to evaluate preventive behaviors of respondents qualitatively if questions about the circumstances and frequencies of preventive behavior practice were surveyed in future studies.\n",
      "\n",
      "#8 sentence\n",
      "Cosine similarity:  0.1585244179218619\n",
      "PMC_ID:  PMC6616393\n",
      "doi:  http://dx.doi.org/10.3390/ijerph16122161\n",
      "The main outcome variables were nonpharmaceutical preventive measures (survey (1): Measures for reducing transmission (handwashing, face masks); and survey (2): Measures for avoiding contact with others).\n",
      "\n",
      "#9 sentence\n",
      "Cosine similarity:  0.15220927732009115\n",
      "PMC_ID:  PMC7011107\n",
      "doi:  http://dx.doi.org/10.4178/epih.e2020006\n",
      "METHODS: We reviewed the currently available literature to provide up-to-date guidance on control measures to be implemented by public health authorities.\n",
      "\n",
      "#10 sentence\n",
      "Cosine similarity:  0.14959375658159768\n",
      "PMC_ID:  nan\n",
      "doi:  10.1016/S1473-3099(20)30152-3\n",
      "High-filtration masks such as N95 masks and protective clothing (goggles and gowns) should be used in hospitals where health-care workers are in direct contact with infected patients.5 Third, the practice of blocking traffic and lockdown of villages is of no value for the prevention and control of COVID-19.\n",
      "\n",
      "Query:  Efforts to identify how the burden of responding to the outbreak and implementing public health measures affects the physical and psychological health of those providing care for Covid-19 patients and identify the immediate needs that must be addressed.\n",
      "\n",
      "Vocabulary size:  604\n",
      "\n",
      "#1 sentence\n",
      "Cosine similarity:  0.34809736339988306\n",
      "PMC_ID:  nan\n",
      "doi:  10.1016/S2215-0366(20)30046-8\n",
      "This notification contained a reference to mental health problems and interventions that occurred during the 2003 SARS outbreak, and mentioned that mental health care should be provided for patients with 2019-nCoV pneumonitis, close contacts, suspected cases who are isolated at home, patients in fever clinics, families and friends of affected people, health professionals caring for infected patients, and the public who are in need.\n",
      "\n",
      "#2 sentence\n",
      "Cosine similarity:  0.2867494852284487\n",
      "PMC_ID:  nan\n",
      "doi:  10.1016/S2215-0366(20)30046-8\n",
      "The observations of mental health consequences and measures taken during the 2003 SARS outbreak could help inform health authorities and the public to provide mental health interventions to those who are in need.\n",
      "\n",
      "#3 sentence\n",
      "Cosine similarity:  0.26388089211498766\n",
      "PMC_ID:  nan\n",
      "doi:  10.1016/S2215-0366(20)30046-8\n",
      "So far, mental health care for the patients and health professionals directly affected by the 2019-nCoV epidemic has been under-addressed, although the National Health Commission of China released the notification of basic principles for emergency psychological crisis interventions for the 2019-nCoV pneumonia on Jan 26, 2020.\n",
      "\n",
      "#4 sentence\n",
      "Cosine similarity:  0.2509993366596337\n",
      "PMC_ID:  nan\n",
      "doi:  10.3390/ijerph17051729\n",
      "Our findings identify factors associated with a lower level of psychological impact and better mental health status that can be used to formulate psychological interventions to improve the mental health of vulnerable groups during the COVID-19 epidemic.\n",
      "\n",
      "#5 sentence\n",
      "Cosine similarity:  0.191106160564134\n",
      "PMC_ID:  nan\n",
      "doi:  10.3390/ijerph17051729\n",
      "The online survey collected information on demographic data, physical symptoms in the past 14 days, contact history with COVID-19, knowledge and concerns about COVID-19, precautionary measures against COVID-19, and additional information required with respect to COVID-19.\n",
      "\n",
      "#6 sentence\n",
      "Cosine similarity:  0.18823990209229913\n",
      "PMC_ID:  nan\n",
      "doi:  doi.org/10.1101/2020.01.27.922443\n",
      "It is thus essential to implement effective public health measures to curb this very outbreak without delay.\n",
      "\n",
      "#7 sentence\n",
      "Cosine similarity:  0.1819074883835139\n",
      "PMC_ID:  nan\n",
      "doi:  doi.org/10.1101/2020.01.27.922443\n",
      "To achieve higher efficacy of the public health interventions, efforts from individuals should not be neglected.\n",
      "\n",
      "#8 sentence\n",
      "Cosine similarity:  0.17736712943773014\n",
      "PMC_ID:  PMC2263793\n",
      "doi:  nan\n",
      "A previously unrecognized coronavirus was identified as the causative agent, and health officials throughout the world struggled to implement measures to contain its spread, including isolation of suspect SARS cases and quarantine of exposed persons.\n",
      "\n",
      "#9 sentence\n",
      "Cosine similarity:  0.1731776555968909\n",
      "PMC_ID:  nan\n",
      "doi:  doi.org/10.1101/2020.01.27.922443\n",
      "A novel coronavirus pneumonia initially identified in Wuhan, China and provisionally named 2019-nCoV has surged in the public.\n",
      "\n",
      "Query:  Efforts to identify the underlying drivers of fear, anxiety and stigma that fuel misinformation and rumor, particularly through social media.\n",
      "\n",
      "Vocabulary size:  332\n",
      "\n",
      "#1 sentence\n",
      "Cosine similarity:  0.2586291167513668\n",
      "PMC_ID:  PMC7052559\n",
      "doi:  http://dx.doi.org/10.12998/wjcc.v8.i4.652\n",
      "However, discrimination and prejudice driven by fear or misinformation have been flowing globally, superseding evidence and jeopardizing the anti-severe acute respiratory syndrome coronavirus 2 efforts.\n",
      "\n",
      "#2 sentence\n",
      "Cosine similarity:  0.1640986808618614\n",
      "PMC_ID:  PMC7052559\n",
      "doi:  http://dx.doi.org/10.12998/wjcc.v8.i4.652\n",
      "We analyze this phenomenon and its underlying causes and suggest practical solutions.\n",
      "\n",
      "#3 sentence\n",
      "Cosine similarity:  0.13843884173398546\n",
      "PMC_ID:  PMC7052559\n",
      "doi:  http://dx.doi.org/10.12998/wjcc.v8.i4.652\n",
      "As global community, we need solidarity instead of stigma or discrimination to contain the spread of SARS-CoV-2 outbreak.\n",
      "\n",
      "#4 sentence\n",
      "Cosine similarity:  0.12448236670115342\n",
      "PMC_ID:  nan\n",
      "doi:  10.1016/S0140-6736(20)30461-X\n",
      "But a global epidemic of misinformation—spreading rapidly through social media platforms and other outlets—poses a serious problem for public health.\n",
      "\n",
      "#5 sentence\n",
      "Cosine similarity:  0.11922787926044931\n",
      "PMC_ID:  nan\n",
      "doi:  10.1016/S0140-6736(20)30461-X\n",
      "WHO's newly launched platform aims to combat misinformation around COVID-19.\n",
      "\n",
      "#6 sentence\n",
      "Cosine similarity:  0.10936932153464629\n",
      "PMC_ID:  PMC4642378\n",
      "doi:  http://dx.doi.org/10.2196/jmir.3891\n",
      "Social media platforms, including Twitter, Facebook, and YouTube, are now frequently utilized to address health-related issues.\n",
      "\n",
      "#7 sentence\n",
      "Cosine similarity:  0.1065477264310446\n",
      "PMC_ID:  PMC4642378\n",
      "doi:  http://dx.doi.org/10.2196/jmir.3891\n",
      "This might explain why the Saudi Ministry of Health is using social media platforms alongside various other media platforms in a large-scale public awareness campaign to educate at-risk communities about the recently emerged Middle East respiratory syndrome coronavirus (MERS-CoV).\n",
      "\n",
      "#8 sentence\n",
      "Cosine similarity:  0.09985544817499303\n",
      "PMC_ID:  nan\n",
      "doi:  10.1016/S0140-6736(20)30461-X\n",
      "John Zarocostas reports from WHO is leading the effort to slow the spread of the 2019 coronavirus disease (COVID-19) outbreak.\n",
      "\n",
      "#9 sentence\n",
      "Cosine similarity:  0.09970790451422851\n",
      "PMC_ID:  nan\n",
      "doi:  10.1136/bmj.m764\n",
      "The covid-19 epidemic is not only viral—it is also digital.1Information spread through social and traditional media, as well as through governmental or health agencies, has reached …\n",
      "\n",
      "#10 sentence\n",
      "Cosine similarity:  0.09917268309170801\n",
      "PMC_ID:  nan\n",
      "doi:  10.1016/j.ctcp.2020.101132\n",
      "Before and after the intervention, the Spielberger State-Trait Anxiety Scale (STAI) and Sleep State Self-Rating Scale (SRSS) were used to measure and record patient anxiety and sleep quality.\n",
      "\n"
     ]
    }
   ],
   "source": [
    "nDoc = 5\n",
    "nSent = 10\n",
    "dataPath = \"../../../Downloads/2020-03-13\"\n",
    "outputPath = \"../../../Downloads/2020-03-13/topSent.txt\" \n",
    "retrieveTopSent(queries, queryDocDist, dataPath, outputPath, nDoc, nSent)"
   ]
  },
  {
   "cell_type": "markdown",
   "metadata": {},
   "source": [
    "Compared to the article retrieved based on abstracts, some of the sentences retrieved here are more specifically related to the query while others only contain part of the information, which may need complement from its context."
   ]
  },
  {
   "cell_type": "markdown",
   "metadata": {},
   "source": [
    "# III. Results summary for each task"
   ]
  },
  {
   "cell_type": "markdown",
   "metadata": {},
   "source": [
    "Below we provide a mixed short-cut of selected content from articles and sentences we retrieved for the queries of each task. We have been very cautious to not overextend any conclusions or observations reported in the original articles, and only add minimal modifications to make some sentences more concise and readable. We also provide pmcid as the reference to the article that supports each statement wherever available. The summary was written based on the articles included in the dataset, which may no longer reflect the most up-to-date research progress in this active field."
   ]
  },
  {
   "cell_type": "markdown",
   "metadata": {},
   "source": [
    "#### Task 1: What is known about transmission, incubation, and environmental stability?\n",
    "Controversy remains about whether COVID-19 has infectivity during the incubation period. A case was reported that did not show infectivity during the incubation period. Another clustering outbreak case suggested asymptomatic patients may be the key point to control the epidemic. A shorter incubation period of SARS-CoV may associate with more severe disease (PMC_ID: PMC4889459). A longer incubation period of MERS-CoV may associate with a lower risk of death (PMC_ID: PMC4766874). Longer recovery delay of MERS-CoV was seen in patients of older age, ICU admission, and abnormal radiology findings (PMC_ID: PMC6086845). Before 2012, CoV infection was found not associated with hospitalization or with increased severity of illness for children hospitalized for acute respiratory illness and/or fever (PMC_ID: PMC3288315). COVID-19 are usually mild in children while prolonged virus shedding is observed in the respiratory tract and feces at the convalescent stage. Before COVID-19, CoV generally displayed in winter seasonality between December and April, except HCoV-229E (PMC_ID: PMC2916580). Viruses other than influenza may also be important contributors to hospitalization and mortality during the peak weeks of influenza seasons, especially for the elderly (PMC_ID: PMC4281811). The role of camels in the transmission of MERS-CoV has been confirmed (PMC_ID: PMC6518552, PMC_ID: PMC6518552). Hospital-associated transmission may have a larger role than direct contact with an infected camel in the spread of MERS-CoV (PMC_ID: PMC6518552). Studies have described the ability of CoVs to survive in different environmental conditions (e.g. temperature and humidity), on different supports found in hospital settings such as aluminum, sterile sponges or latex surgical gloves or in biological fluids (PMC_ID: PMC3509683). Nasal discharge showed a higher viral positivity than feces for bovine CoV, which seemed to be associated with positive detection in the plasma (PMC_ID: PMC6068295). In an evaluation of clinical specimens from SARS patients, 34 (52%) of 66 nasopharyngeal aspirate samples from 50 patients, 5 (5%) of 94 urine samples from 94 patients, and 36 (55%) of 65 fecal samples from 65 patients tested positive for SARS CoV nucleocapsid protein (PMC_ID: PMC446266). Pathogenic CoV-229E remained infectious in a human lung cell culture model following at least 5 days of persistence on a range of common nonbiocidal surface materials, including polytetrafluoroethylene (Teflon; PTFE), polyvinyl chloride (PVC), ceramic tiles, glass, silicone rubber, and stainless steel (PMC_ID: PMC4659470). CoV-229E was rapidly inactivated on a range of copper alloys (within a few minutes for simulated fingertip contamination) and Cu/Zn brasses were very effective at lower copper concentration. Exposure to copper destroyed the viral genomes and irreversibly affected virus morphology, including disintegration of envelope and dispersal of surface spikes (PMC_ID: PMC4659470). Most viruses from the respiratory tract, including SARS, can persist on surfaces for a few days (PMC_ID: PMC1564025). The analysis of 22 studies reveals that human coronaviruses such as SARS-CoV, MERS-CoV or endemic human coronaviruses (HCoV) can persist on inanimate surfaces like metal, glass or plastic for up to 9 days, but can be efficiently inactivated by surface disinfection procedures with 62–71% ethanol, 0.5% hydrogen peroxide or 0.1% sodium hypochlorite within 1 minute. Alpacas may be suitable models for infection and shedding dynamics of MERS-CoV (PMC_ID: PMC4880109). Rhesus macaque and common marmoset have been established as animal models for MERS-CoV (PMC_ID: PMC4140844). A current limitation of animal models for CoV is that no animal model perfectly recapitulates the disease seen in humans (PMC_ID: PMC4811657). No evidence was found of changes in the evolutionary rate of MERS-CoV and no reason to suspect adaptive changes in viral proteins (PMC_ID: PMC4734539). Many, if not all, viruses, including CoV, suppress innate immune responses to gain a window of opportunity for efficient virus replication and setting-up of the infection (PMC_ID: PMC6959104). Potential targets have been identified for immune responses to COVID-19 and provide essential information for understanding human immune responses to this virus and evaluation of diagnostic and vaccine candidates. For SARS-CoV, the humoral immune response was enhanced most effectively through the use of inactivated virus with adjuvants, either MF59 or alum, and was associated with stimulation of the CD4 but not the CD8 response (PMC_ID: PMC1280202). MERS-CoV and SARS-CoV have evolved diverse strategies to evade and block host immune responses, facilitating infection and transmission (PMC_ID: PMC4821769).  Full precautions should be applied and carefully followed to prevent the transmission of MERS-CoV, especially among health care workers (PMC_ID: PMC6695009). For SARS-CoV, a study reported that there was no evidence of transmission of infection before symptom onset (PMC_ID: PMC2870589). The patients treated in the burn and wound care ward are susceptible to viral infection because of disease, age and other factors, so it is very important to manage the burn and wound care ward during the prevention and control of CoV epidemic. Extensive measures to reduce person-to-person transmission of COVID-19 have been implemented to control the current outbreak. Special attention and efforts to protect or reduce transmission should be applied in susceptible populations including children, health care providers, and elderly people. Contaminated surfaces may play a major role in transmission of SARS-CoV in the hospital and the community (PMC_ID: PMC3265313). The better stability of SARS-CoV at low temperature and low humidity environment may facilitate its transmission in community in subtropical area (such as Hong Kong) during the spring and in air-conditioned environments (PMC_ID: PMC3265313). In countries such as Singapore and Hong Kong where there is an intensive use of air-conditioning, transmission of SARS-CoV largely occurred in well-air-conditioned environments such as hospitals or hotels (PMC_ID: PMC3265313)."
   ]
  },
  {
   "cell_type": "markdown",
   "metadata": {},
   "source": [
    "#### Task 2: What do we know about COVID-19 risk factors?\n",
    "Evidence of an impact of legislative bans on smoking prevalence and tobacco consumption is inconsistent, with some studies not detecting additional long‐term change in existing trends in smoking prevalence or impact on respiratory and perinatal health outcomes (PMC_ID: PMC6486282). Coronavirus infection should be considered in differential diagnosis of respiratory tract illness in adults including those that require hospitalization, have a history of smoking and have pulmonary comorbidities (PMC_ID: PMC5631947). Pulmonary function testing procedures have been associated with an increasing risk of COVID-19 transmission among patients/subjects and medical staffs. It is strongly recommended to suspend the pulmonary function test for the confirmed or suspected cases of COVID-19 during the contagious stage, and to postpone the test for other patients if it is not imperative. H1N1 patients coinfected with rhinovirus had less severe disease while non-rhinovirus co-infections were associated with substantially higher severity without changes in influenza viral titer (PMC_ID: PMC3153592). There was a significant decrease in the duration of influenza A viral shedding in co-infections (of any respiratory viruses) compared to single infections (PMC_ID: PMC6625191). Respiratory viruses rarely reach their epidemic peak concurrently and there appears to be a negative association between infection with one respiratory virus and co-infection with another (PMC_ID: PMC6625191). Co-detections of specific clusters of viruses were observed in 9% of acute respiratory illness cases particularly in children, were less frequent in households without children, and were less symptomatic (e.g., lower fever) than single infections (PMC_ID: PMC4344779). Most frequently co-detected viruses were coronavirus, respiratory syncytial virus, and influenza A virus (PMC_ID: PMC4344779). Co-infection was less likely with increasing age, which may be a consequence of pre-existing immunity or decreased viral shedding with increasing age (PMC_ID: PMC6625191). Infection by rhinovirus may result in temporary immunity of the host to infection by other respiratory viruses due to the production of cytokines, thus resulting in a negative association between rhinovirus infection and co-infection with another virus (PMC_ID: PMC6625191). So far, no maternal deaths have been reported for women with COVID-19. There appears to be some risk of premature rupture of membranes, preterm delivery, fetal tachycardia and fetal distress when the infection occurs in the third trimester of pregnancy. There is no evidence suggesting transplacental transmission based on very limited data, as the analysis of amniotic fluid, cord blood, neonatal throat swab, and breast milk samples available from six of the nine patients were found to be negative for COVID-19. Whether virus shedding occurs vaginally is also not known. In general, the clinical characteristics of the pregnant women with COVID-19 pneumonia were similar to those of non-pregnant adult patients who developed COVID-19 pneumonia. Another study reported that the impact of COVID-19 infection on pregnant women appears to be less severe. Both SARS coronavirus and H7N9 viruses presented a global epidemic threat, but the social and economic impacts of H7N9 were not as serious as in the case of SARS because the response to H7N9 was more effective (PMC_ID: PMC6046118). A mathematical model for MERS-CoV transmission dynamics has been used to estimate the transmission rates in two periods due to the implementation of intensive interventions (PMC_ID: PMC4776270). The serial interval of COVID-19 is close to or shorter than its median incubation period. This suggests that a substantial proportion of secondary transmission may occur prior to illness onset. The COVID-19 serial interval is also shorter than the serial interval of severe acute respiratory syndrome (SARS), indicating that calculations made using the SARS serial interval may introduce bias. Among patients infected with a respiratory virus, risk of hospitalization was higher among underweight adult patients, and obese patients had a longer mean length of stay once hospitalized (PMC_ID: PMC6809817). Underweight children were not at increased risk of hospitalization (PMC_ID: PMC6809817). For MERS-CoV, increased age and underlying comorbidity were risk factors for both death and severe disease, while cases arising in Saudi Arabia were more likely to be severe (PMC_ID: PMC5023790). There is no significant association between alleles or genotypes of the MASP2 tagSNP and susceptibility to SARS-CoV in both Beijing and Guangzhou populations (PMC_ID: PMC2683852). MASP2 polymorphisms is not directly related to SARS-CoV susceptibility in northern and southern Chinese (PMC_ID: PMC2683852). Strong infection control and response measures were effective in controlling the outbreak of MERS-CoV in the Republic of Korea (PMC_ID: PMC4957609). Two of the most effective policy procedures to prevent infections of SARS-CoV would be to apply stringent precautionary measures and to impose quicker and more effective quarantine of the exposed populace (PMC_ID: PMC1732706)."
   ]
  },
  {
   "cell_type": "markdown",
   "metadata": {},
   "source": [
    "#### Task 3: What do we know about virus genetics, origin, and evolution?\n",
    "A web-based tool (SummaryGenome Detective) was developed to allow tracking of new viral mutations as the outbreak expands globally, which may help to accelerate the development of novel diagnostics, drugs and vaccines to stop the COVID-19 disease. A web-based portal (WashU Virus Genome Browser) was developed for viewing virus genomic data, which is home to 16 complete 2019-nCoV genome sequences, together with hundreds of related viral sequences including SARS-CoV, MERS-CoV, and Ebola virus. Genetic and epidemiological evidence indicate camels serve as a reservoir for MERS virus (PMC_ID: PMC4720378). The emergence of MERS-CoV was believed to be of zoonotic origin from bats with dromedary camels as intermediate hosts. There is a likelihood of other domestic livestock serving as intermediate hosts for this virus (PMC_ID: PMC6473935). RNA-RNA recombination may play a significant role in natural evolution and neuropathogenesis of coronaviruses (PMC_ID: PMC253235). It is unclear whether higher virus load causally leads to severe outcomes of MERS-CoV (PMC_ID: PMC4622256). Wildlife trade can facilitate zoonotic disease transmission and represents a threat to human health and economies in Asia, highlighted by the 2003 SARS coronavirus outbreak, where a Chinese wildlife market facilitated pathogen transmission (PMC_ID: PMC4805265). Highly pathogenic viruses elicit expression of many of the same key genes as lower pathogenic viruses but to a higher degree. This increased degree of expression may result in the uncontrolled co-localization of inflammatory cell types and lead to irreversible host damage (PMC_ID: PMC3297540). In addition to SARS, the highly pathogenic avian influenza virus (AIV), H5N1, and the lower pathogenicity H9N2 AIV have expanded their host ranges to infect human beings and other mammalian species as well as birds (PMC_ID: PMC2865088). Viruses that originate in bats may be the most notorious emerging zoonoses that spill over from wildlife into domestic animals and humans (PMC_ID: PMC4262174). Transmission of viruses from bats to humans requires a hierarchy of enabling conditions that connect the distribution of reservoir hosts, viral infection within these hosts, and exposure and susceptibility of recipient hosts (PMC_ID: PMC4262174). The advancements in metagenomic techniques have allowed the identification of SARS-like coronaviruses (SL-CoVs) sequences that share high homology to the human SARS-CoV epidemic strains from wildlife bats, presenting concrete evidence that bats are the origin and natural reservoir of SARS-CoV (PMC_ID: PMC5287300). Demographic factors, such as race, smoking status, and socioeconomic status, may confer an increased risk of susceptibility to viruses including CoV (PMC_ID: PMC2593164)."
   ]
  },
  {
   "cell_type": "markdown",
   "metadata": {},
   "source": [
    "#### Task 4: What do we know about vaccines and therapeutics?\n",
    "Drugs developed for HIV and Ebola are being tested for treating COVID-19. In the epidemic of COVID-19, front-line medical staff in emergency traumatic orthopedics is faced with great challenges in the process of diagnosing and treating patients. Lung computed tomography images are being used for supporting the diagnosis of COVID-19. It is considered particularly important for medical institutions of all levels to maintain safe and effective routine services while doing well in COVID-19 prevention. Viral protease inhibitors are remarkably effective at blocking the replication of viruses such as human immunodeficiency virus and hepatitis C virus, but they inevitably lead to the selection of inhibitor-resistant mutants, which may contribute to ongoing disease (PMC_ID: PMC4178758). To date, effective treatment is lacking; however, clinical trials investigating the efficacy of several agents, including remdesivir and chloroquine, are underway in China for COVID-19. From the Chinese Clinical Trial Registry (http://www.chictr.org.cn) and U.S. National Library of Medicine Clinical Trial Registry (https://clinicaltrials. gov), there are 125 clinical trials registered by February 18, 2020, focusing on the treatment of COVID-19. There is an upward trend on the number of registered clinical trials. Among the 125 clinical trials on treatment, 33.3% used anti-viral agents, 14.7% anti-inflammation or immunomodulators, 33.3% herbs or traditional Chinese medicine (TCM), 9.3% cell-based therapy, 2.3% antioxidation and 7.0% other approaches. Studies suggest that the human receptor for COVID-19 may be angiotensin-converting enzyme 2 (ACE2) receptor similar to that of SARS-CoV. The nucleocapsid (N) protein of COVID-19 has nearly 90% amino acid sequence identity with SARS-CoV. The N protein antibodies of SARS-CoV may cross react with COVID-19 but may not provide cross-immunity. Antibody-dependent enhancement (ADE) of viral entry has been a major concern for epidemiology, vaccine development, and antibody-based drug therapy. The discrepancy between the severity of cases observed in the Hubei province of China and those occurring elsewhere in the world may due to the antibody dependent enhancement (ADE) of SARS-CoV-2 due to prior exposure to other coronaviruses. Antibody-dependent enhancement (ADE), a phenomenon in which viral replication is increased rather than decreased by immune sera, has been observed in vitro for a large number of viruses of public health importance, including flaviviruses, coronaviruses, and retroviruses (PMC_ID: PMC1257724). Vaccination is a major strategy for containing resurgence of SARS in humans, and a number of vaccine candidates have been tested in experimental animal models (PMC_ID: PMC3187504). In general, the potential vaccine candidates for MERS-CoV can be classified into six types: viral vector-based vaccine, DNA vaccine, subunit vaccine, nanoparticle-based vaccine, inactivated-whole virus vaccine and live-attenuated vaccine (PMC_ID: PMC6688523). Animal models are utilized to gain insight into the pathogenesis of disease with the overall goal of identifying potential targets for intervention and evaluating specific therapeutics and vaccines (PMC_ID: PMC3644300). MERS-CoV has been used to screen FDA-approved drugs identify potential therapeutic options for treatment of MERS-CoV infections and provide a basis for potential therapeutic options for COVID-19. COVID-19 imaging characteristic mainly has subpleural, centrilobular and diffused distribution. N protein can be used as an early diagnostic maker for SARS (PMC_ID: PMC3329003). Several types of vaccines have been developed for SARS-CoV including inactivated viruses, subunit vaccines, virus-like particles (VLPs), DNA vaccines, heterologous expression systems, and vaccines derived from SARS-CoV genome by reverse genetics (PMC_ID: PMC2633062). Transgenic mouse model has been developed for MERS-CoV (PMC_ID: PMC4403411). The standard small animals, mice, hamsters, and ferrets, all lack the functional MERS-CoV receptor and are not susceptible to infection (PMC_ID: PMC4403411). Camel vaccination for MERS-CoV may be a novel approach to preventing the human infection (PMC_ID: PMC4969153). For SARS-CoV, evaluations of an inactivated whole virus vaccine in ferrets and nonhuman primates and a virus-like-particle vaccine in mice induced protection against infection but challenged animals exhibited an immunopathologic-type lung disease (PMC_ID: PMC3335060). The majority of MERS vaccines under development are based on MERS-CoV S protein, including full-length S, S1, and receptor-binding domain (RBD). (PMC_ID: PMC6355461)."
   ]
  },
  {
   "cell_type": "markdown",
   "metadata": {},
   "source": [
    "#### Task 5: What has been published about medical care?\n",
    "While ensuring the completion of treatment work of COVID-19, Beijing You'an Hospital manage to leverage nursing human resources in a scientific, standardized and maximized efficiency manner, to ensure the quality of nursing, and the physical and mental health of nursing staff. The future resilience of healthcare services will depend on having sufficient numbers of nurses who are adequately resourced to face the coming challenges such as the new coronavirus COVID-19. Ninety-seven percent (181/186) of the MERS-CoV cases in Korea had exposure to the health care facilities (PMC_ID: PMC4630490). Three outbreaks of HCoV-OC43 in Melbourne establish this virus as a cause of morbidity in aged-care facilities and add to increasing evidence of the significance of coronavirus infections (PMC_ID: PMC2870246). All healthcare facilities should establish and implement infection prevention and control measure as well as triage policies and procedures for early detection and isolation of suspected MERS-CoV cases (PMC_ID: PMC4630490). In COVID-19 epidemic, the incidence of anxiety and stress disorder is high among medical staff. Medical institutions should strengthen the training of psychological skills of medical staff. Special attention should be paid to the mental health of female nurses. In hospitals there is above average risk for exposure to infectious diseases (PMC_ID: PMC4405869). The following baseline factors were independently associated with worse survival of SARS-CoV: older age (61–80 years), presence of an active comorbid condition and higher initial viral load of SARS coronavirus (PMC_ID: PMC527336). For MERS-CoV in Al-Qassim, Saudi Arabia between 2014 and 2017, hospital mortality was 25%; septic shock/organ failure at admittance was a significant predictor of mortality (PMC_ID: PMC6805532). Higher initial viral load is independently associated with worse prognosis in SARS (PMC_ID: PMC527336). Mortality data for patients with SARS should be interpreted in light of age, comorbidity and viral load (PMC_ID: PMC527336). Pneumonia and acute respiratory distress syndrome were the most common associated conditions that MERS-CoV patients had when they were admitted to the hospital (PMC_ID: PMC6805532). Advanced age was significantly associated with increased SARS-related deaths, primarily due to the onset of early- and late-stage acute respiratory distress syndrome (ARDS) and pulmonary fibrosis (PMC_ID: PMC2704758). Respiratory viruses can cause a wide spectrum of pulmonary diseases, ranging from mild, upper respiratory tract infections to severe and life-threatening lower respiratory tract infections, including the development of acute lung injury (ALI) and acute respiratory distress syndrome (ARDS) (PMC_ID: PMC4267971). SARS-CoV and MERS-CoV cause severe infection of the lower respiratory tract, with 10% and 35% overall mortality rates, respectively; however, >50% mortality rates are seen in the aged and immunosuppressed populations (PMC_ID: PMC4267971). Presenting with septic shock and organ failure at admission was significantly associated with hospital mortality for MERS-CoV (PMC_ID: PMC6805532). ECMO use, as a rescue therapy, was associated with lower mortality in MERS patients with refractory hypoxemia (PMC_ID: PMC5768582). Evidence supports the use of ECMO as a rescue therapy in patients with severe MERS-CoV (PMC_ID: PMC5768582). Although patients with cancer had worse outcomes from COVID-19, the median age of these patients (63·1 years) to be significantly higher than for those without cancer (48·7 years), suggesting that older age is associated with worse COVID-19 outcomes. Patients with cancer were more likely to develop COVID-19. Some patients of COVID-19 required supplemental oxygen and had variable clinical outcomes following treatment with an antiretroviral agent. Based on the clinical data of novel coronavirus pneumonia (NCP), as well as the dada from previous clinical studies and the recommendations from the Extracorporeal Life Support Organization (ELSO), the committee board of the Chinese Society of Extracorporeal Life Support (CSECLS) made this recommendations to guide clinical ECMO application in the patients with NCP. Advanced age correlated with more adverse disease outcomes following severe acute respiratory syndrome coronavirus (SARS-CoV) infection in humans (PMC_ID: PMC3999990). The ICU mortality rate among those who required non-invasive ventilation was 23 (79%) of 29 and among those who required invasive mechanical ventilation was 19 (86%) of 22.2. It is not recommended to use of a high-flow nasal cannula or non-invasive ventilation until the patient has viral clearance. The CT imaging of COVID-19 patients showed multiple and scattered ground-glass opacity (GGO) in both lungs, which is similar to the CT performance of SARS and MERS in acute stage. Considered a relative of SARS and MERS, COVID-19 is a betacoronavirus that affects the lower respiratory tract and manifests as pneumonia in humans. If we assume that average levels of health care are similar throughout China, higher numbers of infections in a given population can be considered an indirect indicator of a heavier health-care burden. Full precautions should be applied and carefully followed to prevent the transmission of the virus, especially among health care workers (PMC_ID: PMC6695009). If everyone puts on a mask in public places, it would help to remove stigmatisation that has hitherto discouraged masking of symptomatic patients in many places. Transmission from asymptomatic infected individuals has been documented for COVID-19, and viral load is particularly high at early disease stage. It has long been recommended that for respiratory infections like influenza, affected patients should wear masks to limit droplet spread. While a surgical mask would normally provide adequate protection from large droplet spread, it does not prevent inhalation of smaller aerosolized particles such as those generated at autopsy (PMC_ID: PMC6490128). Public health experts say China is right to prioritize tracking sick patients who are spreading the disease. Executive agencies Public Health England (PHE)1 and Health Protection Scotland (HPS) have since published guidance to healthcare providers on managing patients suspected to have the disease. Consider covid-19 infection in anyone with cough, fever, or breathlessness who has had contact with someone with covid-19, or has returned from a high risk area in the 14 days before the onset of symptoms. Every effort should be made to avoid in-person assessment of patients with possible covid-19 in primary care. On Feb. 4, researchers from the AI drug discovery company BenevolentAI and Imperial College London reported that they had used AI software to find an already-approved drug that might limit the virus’s ability to infect people. Two independent groups last week reported that they had used artificial intelligence in different ways to find possible treatments for COVID-19. As the pandemic has developed, a fact has become apparent: there is a serious dearth of emergency medical supplies, and especially an extreme shortage of personal protective equipment such as masks and medical protective clothing. The prevention and control of novel coronavirus pneumonia is the most priority recently, and various measures during the prevention and control period will have varying degrees of impact on the implement of clinical trials. Mental health care should be provided for patients with 2019-nCoV pneumonitis, close contacts, suspected cases who are isolated at home, patients in fever clinics, families and friends of affected people, health professionals caring for infected patients, and the public who are in need. Clinical trial for COVID-19 was first registered on January 23, 2020. There are 125 clinical trials registered by February 18, 2020, focusing on the treatment of COVID-19. Limited existing knowledge highlights the need for data regarding supportive care and adjunctive pharmacologic therapy that is specific for critically ill patients with severe respiratory viral infections. Strong evidence to support early and routine use of ribavirin and steroid combination therapy in all SARS patients does not exist (PMC_ID: PMC3016795)."
   ]
  },
  {
   "cell_type": "markdown",
   "metadata": {},
   "source": [
    "#### Task 6: What do we know about non-pharmaceutical interventions?\n",
    "The current outbreak of COVID-19 reminds us how urgent this promise is and just how critical it is to continue to sustain and strengthen US's public health infrastructure. U.S. public health authorities are monitoring the situation closely, and CDC is coordinating efforts with the World Health Organization (WHO) and other global partners.Executive agencies Public Health England (PHE)1 and Health Protection Scotland (HPS) have since published guidance to healthcare providers on managing patients suspected to have the disease. CDC, state and local health departments, multiple other federal agencies, and other partners are implementing aggressive measures to slow and try to contain transmission of COVID-19 in the United States, which the identification of cases and contacts of persons with COVID-19 in the United States and the recommended assessment, monitoring, and care of travelers arriving from areas with substantial COVID-19 transmission. Interventions to minimize mortality from the MERS-CoV should particularly focus individuals with comorbidity, non-health-care workers, patients with no clinical fatal experience, and patients without any clinical and subclinical experiences (PMC_ID: PMC5536289). Assay designs are provided for detection of 67 viral species and subspecies, including: SARS-CoV-2, phylogenetically-related viruses, and viruses with similar clinical presentation. The designs are outputs of algorithms that are developed for rapidly designing nucleic acid detection assays that are comprehensive across genomic diversity and predicted to be highly sensitive and specific. As part of these social distancing policies, the Chinese Government encouraged people to stay at home; discouraged mass gatherings; cancelled or postponed large public events; and closed schools, universities, government offices, libraries, museums, and factories. Government policies enacted during the Chinese Lunar New Year holiday are likely to have helped reduce the spread of the virus by decreasing contact and increasing physical distance between those who have COVID-19 and those who do not. In response to the coronavirus disease 2019 (COVID-19) outbreak, the Chinese Government has ordered a nationwide school closure as an emergency measure to prevent spreading of the infection. Although these measures and efforts are highly commendable and necessary, there are reasons to be concerned because prolonged school closure and home confinement during a disease outbreak might have negative effects on children's physical and mental health. Misinformation spreads panic among the general population and is not conducive to implementation of epidemic control measures. Although COVID-19 is spread by the airborne route, air disinfection of cities and communities is not known to be effective for disease control and needs to be stopped. Since the outbreak of COVID-19, some countries have suspended flights to and from China, and prevented Chinese people from travelling to their countries; both of these actions violate WHO International Health Regulations. Demographic factors, such as race, smoking status, and socioeconomic status, may confer an increased risk of susceptibility to CoV (PMC_ID: PMC2593164). Significant associations of coronavirus seropositivity and antibody levels with age, gender, race, socioeconomic status, smoking status, and season of the blood draw were tested with chi-square and regression analyses (PMC_ID: PMC2593164). Disease severity of MERS-CoV has been linked to patient health status, as people with chronic diseases or an immunocompromised status fare worse, although the mechanisms of disease have yet to be elucidated (PMC_ID: PMC5816332). Factors associated with a lower level of psychological impact and better mental health status were identified that can be used to formulate psychological interventions to improve the mental health of vulnerable groups during the COVID-19 epidemic. The immune status has direct influence on MERS-CoV shedding and subsequent potential of transmission (PMC_ID: PMC5816332). Female gender, student status, specific physical symptoms (e.g., myalgia, dizziness, coryza), and poor self-rated health status were significantly associated with a greater psychological impact of the outbreak and higher levels of stress, anxiety, and depression. Infection of the lung tissue and resident immune cells, such as alveolar macrophages, leads to the hyper-production of inflammatory cytokines and immune cell recruitment chemokines, which together limit MERS-CoV replication, but result in an immunopathologic state (PMC_ID: PMC5816332). A global epidemic of misinformation—spreading rapidly through social media platforms and other outlets—poses a serious problem for public health. What is at stake during an outbreak is making sure people will do the right thing to control the disease or to mitigate its impact. With social media, misinformation is amplified, it goes faster and further, like the viruses that travel with people and go faster and further. Although China has made great efforts to strengthen the ability to quickly respond to public health emergencies since the SARS outbreak in 2003 and it has clarified requirements for emergency supplies through legislation, the emergency reserve supplies program has not been effectively implemented, and there are also deficiencies in the types, quantity, and availability of emergency medical supplies. Challenges such as lacking effective drugs, insufficient hospital services and medical supplies, logistics, etc. have much alleviated with the solidarity of the whole society. The pandemic will definitely be ended with the continuous efforts of both national and international multi-sectoral bodies."
   ]
  },
  {
   "cell_type": "markdown",
   "metadata": {},
   "source": [
    "#### Task 7: Sample task with sample submission\n",
    "COVID-19 has spread to 46 countries internationally. Since the beginning of 2020, coronavirus disease 2019 (COVID-19) has spread throughout China. Total fatality rate of COVID-19 is estimated at 3.46% by far based on published data from Chinese Center for Disease Control and Prevention (China CDC). A study from China CDC showed majority of patients (80.9%) were considered asymptomatic or mild pneumonia but released large amounts of viruses at the early phase of infection, which posed enormous challenges for containing the spread of COVID-19."
   ]
  },
  {
   "cell_type": "markdown",
   "metadata": {},
   "source": [
    "Discussion: the queries we used for this task did not work very well in retrieving relevant articles. As an ongoing epidemic, few studies had worked on examing geographic variations of COVID-19 by the time the dataset was generated. Therefore, when querying with the terms \"geographic variations\", not many relevant articles were retrieved. A potential improvement would be instead of using general terms, using specific geographic locations such as countries in the queries, which may help retrieve articles that each focused on the disease in a different area."
   ]
  },
  {
   "cell_type": "markdown",
   "metadata": {},
   "source": [
    "#### Task 8: What do we know about diagnostics and surveillance?\n",
    "Undertaking clinical trials of convalescent plasma for passive immunotherapy of MERS-CoV infection may be feasible, but such trials would be challenging because of the small pool of potential donors with sufficiently high antibody titers (PMC_ID: PMC4994343). Alternative strategies to identify convalescent plasma donors with adequate antibody titers should be explored, including the sampling of serum from patients with more severe disease and sampling at earlier points during illness (PMC_ID: PMC4994343). An indirect MERS-CoV S ELISA has been developed to be used as part of serological determination for evidence of previous exposure to the MERS-CoV (PMC_ID: PMC6158782). It is possible that earlier sampling would have resulted in the detection of more reactivity and higher antibody titers (PMC_ID: PMC4994343). Harmonisation and standardisation of laboratory methods are essential for surveillance and for a rapid and effective international response to emerging diseases (PMC_ID: PMC6361340). During the outbreak of Middle East respiratory syndrome coronavirus (MERS-CoV) in the Republic of Korea in 2015, serious challenges emerged regarding important ethical issues, such as transparency and the protection of privacy (PMC_ID: PMC4750516). If we do not include ethical values and principles explicitly in pandemic planning in advance, the next response to an epidemic may result in widespread breaches of ethical principles, leading to deeper confusion and non-cooperation (PMC_ID: PMC4750516). One study showed an enormous response capacity achieved through coordination of academic and public laboratories in national and European research networks in response to COVID-19 (PMC_ID: PMC6988269). The laboratory capacity not only supports immediate public health interventions but enables sites to enrol patients during rapid clinical research responses. National, provincial/state/territorial, and municipal governments, as well as the health care sector, should ensure that their pandemic plans include an ethical component (PMC_ID: PMC4750516). Aggressive measures implemented by CDC, state and local health departments, multiple other federal agencies, and other partners require the identification of cases and contacts of persons with COVID-19 in the United States and the recommended assessment, monitoring, and care of travelers arriving from areas with substantial COVID-19 transmission. Although these measures might not prevent widespread transmission of the virus in the United States, they are being implemented to 1) slow the spread of illness; 2) provide time to better prepare state and local health departments, health care systems, businesses, educational organizations, and the general public in the event that widespread transmission occurs; and 3) better characterize COVID-19 to guide public health recommendations and the development and deployment of medical countermeasures, including diagnostics, therapeutics, and vaccines. WHO guidelines produced in the context of a public health emergency can be improved upon, helping to assure the trustworthiness and utility of WHO information products in future emergencies. To accelerate our pace and meet the challenges of current and future health threats, we must advance our world-class data and analytics capabilities; maintain and expand our state-of-the-art public health laboratory capacity; continue building a workforce of trusted, expert, public health professionals; sustain our capacity to rapidly respond to outbreaks at their source; and assure a strong global and domestic preparedness capacity. The unprecedented pace of the public health response to COVID-19 has only been possible because of prior investments in public health preparedness. CDC, multiple other federal agencies, state and local health departments, and other partners are implementing aggressive measures to slow transmission of 2019-nCoV in the United States. A rapid and simple point-of-care lateral flow immunoassay has been developed, which can detect IgM and IgG antibodies simultaneously against SARS-CoV-2 virus in human blood within 15 minutes which can detect patients at different infection stages. The medical community is rallying to develop a set of rapid and reliable molecular diagnostic tests for SARS-CoV-2. China had five commercial tests on the market 1 month ago and can now do up to 1.6 million tests a week; South Korea has tested 65,000 people so far. Assay designs were provided for detection of 67 viral species and subspecies, including: SARS-CoV-2, phylogenetically-related viruses, and viruses with similar clinical presentation. Cooperation between the government and private sector experts was very effective in facing MERS-CoV in Korea (PMC_ID: PMC4945729). The efforts of government and private sector experts overcame the initial chaos situation caused by MERS-CoV (PMC_ID: PMC4945729). The genetic drift of the S gene is likely to be one of the mechanisms of the adaptation evolution of HCoV-OC43 (PMC_ID: PMC4476415). Understanding the evolution, zoonotic transmission, and source of COVID-19 would help accelerating containment and prevention efforts. Taking into account the persisting lack of specific antiviral treatments (there is, in fact, no specific treatment available to fight coronaviruses infections), the Coronaviridae specificities (i.e. pathogenicity, potential environmental resistance) make them a challenging model for the development of efficient means of prevention, as an adapted antisepsis-disinfection, to prevent the environmental spread of such infective agents (PMC_ID: PMC3509683). Viral load kinetics of SARS-CoV-2 may be different from that of previously reported other coronavirus infections such as SARS-CoV. Animal models are utilized to gain insight into the pathogenesis of disease with the overall goal of identifying potential targets for intervention and evaluating specific therapeutics and vaccines (PMC_ID: PMC3644300). There may be potential to test suspected cases in real time based on questionnaire responses, travel origin, or borderline symptoms; at least one PCR test for SARS-CoV-2 claimed to take less than an hour has already been announced (PMC_ID: PMC7060038). Traveller screening is being used to limit further spread of COVID-19 following its recent emergence, and symptom screening has become a ubiquitous tool in the global response (PMC_ID: PMC7060038). National and regional leaders, policy makers, and stakeholders should be prompted to advocate and enhance adoption of the One Health framework to mitigate the risk for Middle East respiratory syndrome and other emerging zoonotic diseases (PMC_ID: PMC6390738). Most of the GCC countries, including those with high MERS-CoV incidence, have adopted an epidemic control policy, indicating that the One Health approach was either partially embraced or totally overlooked (PMC_ID: PMC6390738). Launched at Davos in January 2017 with funding from sovereign investors and philanthropic institutions, the Coalition for Epidemic Preparedness Innovations (CEPI) is an innovative partnership between public, private, philanthropic, and civil organisations whose mission is to stimulate, finance and co-ordinate vaccine development against diseases with epidemic potential in cases where market incentives fail. For new test development, sourcing clinical material continues to be a major challenge to achieving assay validation (PMC_ID: PMC6361340). A platform has been developed that can be rapidly applied to new, emerging diseases with efficacy in vulnerable populations and in the context of heterologous challenge (PMC_ID: PMC5952155). Rapid production and publication of pathogen genome sequences during emerging disease outbreaks provide crucial public health information. State-of-the-art sequencing technology and bioinformatic analysis can quickly provide critical insight into the viral genome sequence, phylogeny, replication strategy, and potential drug and vaccine targets and generate tools to evaluate the possible epidemic risk associated with this novel human virus (PMC_ID: PMC3546555). The Genome Detective Coronavirus Typing tool was released as a free-of-charge resource in the third week of January 2020 in order to help the rapid characterization of COVID-19 infections. The tool has been able to correctly classify all the recently released SARS-CoV-2 genomes, as well as all the 2002-2003 SARS outbreak sequences In conclusion, the Genome Detective Coronavirus Typing Tool is a webbased and user-friendly software application that allows the identification and characterization of novel coronavirus genomes. The rapid genomic sequencing and open access data, together with advanced vaccine technology, are expected to give us more knowledge on the pathogen itself, including the host immune response as well as the plan for therapeutic vaccines in the near future. In the context of disease emergence from wildlife, wildlife and habitat should be conserved, which in turn will preserve vital ecosystem structure and function, which has broader implications for human wellbeing and environmental sustainability, while simultaneously minimizing the spillover of pathogens from wild animals into human beings (PMC_ID: PMC3427567). Data suggested an evolutionary origin of 229E-related CoVs in hipposiderid bats, hypothetically with camelids as intermediate hosts preceding the establishment of HCoV-229E (PMC_ID: PMC4645311). Interventions to decrease the probability of virus spillover can be implemented at multiple levels from targeting the reservoir host to managing recipient host exposure and susceptibility (PMC_ID: PMC4262174)."
   ]
  },
  {
   "cell_type": "markdown",
   "metadata": {},
   "source": [
    "#### Task 9: What has been published about ethical and social science considerations?\n",
    "If we do not include ethical values and principles explicitly in pandemic planning in advance, the next response to an epidemic may result in widespread breaches of ethical principles, leading to deeper confusion and non-cooperation (PMC_ID: PMC4750516). Pandemic planning enriched with ethical principles will facilitate efficiency, voluntariness, and legitimacy (PMC_ID: PMC4750516). Public health actions need to incorporate clear and systematic procedures founded upon ethical principles (PMC_ID: PMC4750516). During the outbreak of Middle East respiratory syndrome coronavirus (MERS-CoV) in the Republic of Korea in 2015, serious challenges emerged regarding important ethical issues, such as transparency and the protection of privacy (PMC_ID: PMC4750516). Public engagement and civic partnership with public health authorities to discuss ethical principles are essential to foster community participation, collaboration, and solidarity from the civil society (PMC_ID: PMC4750516). "
   ]
  },
  {
   "cell_type": "markdown",
   "metadata": {},
   "source": [
    "Discussion: since many queries for this task contain the term \"ethical\", our methods mist"
   ]
  },
  {
   "cell_type": "markdown",
   "metadata": {},
   "source": [
    "#### Task 10: What has been published about information sharing and inter-sectoral collaboration?"
   ]
  },
  {
   "cell_type": "code",
   "execution_count": null,
   "metadata": {},
   "outputs": [],
   "source": []
  }
 ],
 "metadata": {
  "kernelspec": {
   "display_name": "Python 3",
   "language": "python",
   "name": "python3"
  },
  "language_info": {
   "codemirror_mode": {
    "name": "ipython",
    "version": 3
   },
   "file_extension": ".py",
   "mimetype": "text/x-python",
   "name": "python",
   "nbconvert_exporter": "python",
   "pygments_lexer": "ipython3",
   "version": "3.5.2"
  }
 },
 "nbformat": 4,
 "nbformat_minor": 2
}
